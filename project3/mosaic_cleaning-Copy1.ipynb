{
 "cells": [
  {
   "cell_type": "markdown",
   "metadata": {},
   "source": [
    "# Are brains like faces?\n",
    "\n",
    "\n",
    "Copyright 2019 Allen Downey\n",
    "\n",
    "[MIT License](https://opensource.org/licenses/MIT)"
   ]
  },
  {
   "cell_type": "code",
   "execution_count": 1,
   "metadata": {},
   "outputs": [
    {
     "name": "stderr",
     "output_type": "stream",
     "text": [
      "Using TensorFlow backend.\n"
     ]
    }
   ],
   "source": [
    "%matplotlib inline\n",
    "%config InteractiveShell.ast_node_interactivity='last_expr_or_assign'\n",
    "\n",
    "import pandas as pd\n",
    "import numpy as np\n",
    "import matplotlib.pyplot as plt\n",
    "import seaborn as sns\n",
    "\n",
    "import thinkstats2\n",
    "import thinkplot\n",
    "\n",
    "import sklearn.linear_model as linear_model\n",
    "import sklearn.metrics as metrics\n",
    "from sklearn.model_selection import train_test_split\n",
    "\n",
    "import tensorflow as tf\n",
    "import keras.models\n",
    "import keras.layers\n",
    "\n",
    "import pickle\n",
    "\n",
    "from warnings import simplefilter\n",
    "simplefilter('ignore', FutureWarning)"
   ]
  },
  {
   "cell_type": "markdown",
   "metadata": {},
   "source": [
    "Load the NKI SBA volume data, since it seems to have the most features with the highest Cohen effects."
   ]
  },
  {
   "cell_type": "code",
   "execution_count": 2,
   "metadata": {},
   "outputs": [
    {
     "data": {
      "text/html": [
       "<div>\n",
       "<style scoped>\n",
       "    .dataframe tbody tr th:only-of-type {\n",
       "        vertical-align: middle;\n",
       "    }\n",
       "\n",
       "    .dataframe tbody tr th {\n",
       "        vertical-align: top;\n",
       "    }\n",
       "\n",
       "    .dataframe thead th {\n",
       "        text-align: right;\n",
       "    }\n",
       "</style>\n",
       "<table border=\"1\" class=\"dataframe\">\n",
       "  <thead>\n",
       "    <tr style=\"text-align: right;\">\n",
       "      <th></th>\n",
       "      <th>bio_sex</th>\n",
       "      <th>age</th>\n",
       "      <th>Left-Lateral-Ventricle</th>\n",
       "      <th>Left-Inf-Lat-Vent</th>\n",
       "      <th>Left-Cerebellum-White-Matter</th>\n",
       "      <th>Left-Cerebellum-Cortex</th>\n",
       "      <th>Left-Thalamus-Proper</th>\n",
       "      <th>Left-Caudate</th>\n",
       "      <th>Left-Putamen</th>\n",
       "      <th>Left-Pallidum</th>\n",
       "      <th>...</th>\n",
       "      <th>rh_rostralanteriorcingulate_volume</th>\n",
       "      <th>rh_rostralmiddlefrontal_volume</th>\n",
       "      <th>rh_superiorfrontal_volume</th>\n",
       "      <th>rh_superiorparietal_volume</th>\n",
       "      <th>rh_superiortemporal_volume</th>\n",
       "      <th>rh_supramarginal_volume</th>\n",
       "      <th>rh_frontalpole_volume</th>\n",
       "      <th>rh_temporalpole_volume</th>\n",
       "      <th>rh_transversetemporal_volume</th>\n",
       "      <th>rh_insula_volume</th>\n",
       "    </tr>\n",
       "  </thead>\n",
       "  <tbody>\n",
       "    <tr>\n",
       "      <th>0</th>\n",
       "      <td>2</td>\n",
       "      <td>41</td>\n",
       "      <td>5443</td>\n",
       "      <td>408</td>\n",
       "      <td>14526</td>\n",
       "      <td>47120</td>\n",
       "      <td>6506</td>\n",
       "      <td>2944</td>\n",
       "      <td>4535</td>\n",
       "      <td>1828</td>\n",
       "      <td>...</td>\n",
       "      <td>1151</td>\n",
       "      <td>13009</td>\n",
       "      <td>16499</td>\n",
       "      <td>10019</td>\n",
       "      <td>9201</td>\n",
       "      <td>7703</td>\n",
       "      <td>783</td>\n",
       "      <td>1945</td>\n",
       "      <td>923</td>\n",
       "      <td>6297</td>\n",
       "    </tr>\n",
       "    <tr>\n",
       "      <th>1</th>\n",
       "      <td>2</td>\n",
       "      <td>52</td>\n",
       "      <td>3228</td>\n",
       "      <td>309</td>\n",
       "      <td>13065</td>\n",
       "      <td>48090</td>\n",
       "      <td>6942</td>\n",
       "      <td>2918</td>\n",
       "      <td>5000</td>\n",
       "      <td>1734</td>\n",
       "      <td>...</td>\n",
       "      <td>1308</td>\n",
       "      <td>13780</td>\n",
       "      <td>18011</td>\n",
       "      <td>11602</td>\n",
       "      <td>12166</td>\n",
       "      <td>10272</td>\n",
       "      <td>747</td>\n",
       "      <td>1921</td>\n",
       "      <td>790</td>\n",
       "      <td>5537</td>\n",
       "    </tr>\n",
       "    <tr>\n",
       "      <th>2</th>\n",
       "      <td>2</td>\n",
       "      <td>54</td>\n",
       "      <td>5642</td>\n",
       "      <td>95</td>\n",
       "      <td>9687</td>\n",
       "      <td>38398</td>\n",
       "      <td>6385</td>\n",
       "      <td>2892</td>\n",
       "      <td>4351</td>\n",
       "      <td>1051</td>\n",
       "      <td>...</td>\n",
       "      <td>1903</td>\n",
       "      <td>13247</td>\n",
       "      <td>17477</td>\n",
       "      <td>10010</td>\n",
       "      <td>8808</td>\n",
       "      <td>8331</td>\n",
       "      <td>1193</td>\n",
       "      <td>2043</td>\n",
       "      <td>484</td>\n",
       "      <td>6033</td>\n",
       "    </tr>\n",
       "    <tr>\n",
       "      <th>3</th>\n",
       "      <td>2</td>\n",
       "      <td>56</td>\n",
       "      <td>4959</td>\n",
       "      <td>231</td>\n",
       "      <td>11442</td>\n",
       "      <td>41214</td>\n",
       "      <td>6195</td>\n",
       "      <td>3604</td>\n",
       "      <td>5135</td>\n",
       "      <td>1592</td>\n",
       "      <td>...</td>\n",
       "      <td>1753</td>\n",
       "      <td>12481</td>\n",
       "      <td>17378</td>\n",
       "      <td>9682</td>\n",
       "      <td>10091</td>\n",
       "      <td>9396</td>\n",
       "      <td>802</td>\n",
       "      <td>2336</td>\n",
       "      <td>799</td>\n",
       "      <td>6159</td>\n",
       "    </tr>\n",
       "    <tr>\n",
       "      <th>4</th>\n",
       "      <td>2</td>\n",
       "      <td>31</td>\n",
       "      <td>6664</td>\n",
       "      <td>161</td>\n",
       "      <td>12059</td>\n",
       "      <td>44711</td>\n",
       "      <td>6613</td>\n",
       "      <td>2981</td>\n",
       "      <td>4558</td>\n",
       "      <td>1462</td>\n",
       "      <td>...</td>\n",
       "      <td>1396</td>\n",
       "      <td>11924</td>\n",
       "      <td>21013</td>\n",
       "      <td>12134</td>\n",
       "      <td>10928</td>\n",
       "      <td>10362</td>\n",
       "      <td>699</td>\n",
       "      <td>2549</td>\n",
       "      <td>911</td>\n",
       "      <td>5853</td>\n",
       "    </tr>\n",
       "  </tbody>\n",
       "</table>\n",
       "<p>5 rows × 170 columns</p>\n",
       "</div>"
      ],
      "text/plain": [
       "   bio_sex  age  Left-Lateral-Ventricle  Left-Inf-Lat-Vent  \\\n",
       "0        2   41                    5443                408   \n",
       "1        2   52                    3228                309   \n",
       "2        2   54                    5642                 95   \n",
       "3        2   56                    4959                231   \n",
       "4        2   31                    6664                161   \n",
       "\n",
       "   Left-Cerebellum-White-Matter  Left-Cerebellum-Cortex  Left-Thalamus-Proper  \\\n",
       "0                         14526                   47120                  6506   \n",
       "1                         13065                   48090                  6942   \n",
       "2                          9687                   38398                  6385   \n",
       "3                         11442                   41214                  6195   \n",
       "4                         12059                   44711                  6613   \n",
       "\n",
       "   Left-Caudate  Left-Putamen  Left-Pallidum        ...         \\\n",
       "0          2944          4535           1828        ...          \n",
       "1          2918          5000           1734        ...          \n",
       "2          2892          4351           1051        ...          \n",
       "3          3604          5135           1592        ...          \n",
       "4          2981          4558           1462        ...          \n",
       "\n",
       "   rh_rostralanteriorcingulate_volume  rh_rostralmiddlefrontal_volume  \\\n",
       "0                                1151                           13009   \n",
       "1                                1308                           13780   \n",
       "2                                1903                           13247   \n",
       "3                                1753                           12481   \n",
       "4                                1396                           11924   \n",
       "\n",
       "   rh_superiorfrontal_volume  rh_superiorparietal_volume  \\\n",
       "0                      16499                       10019   \n",
       "1                      18011                       11602   \n",
       "2                      17477                       10010   \n",
       "3                      17378                        9682   \n",
       "4                      21013                       12134   \n",
       "\n",
       "   rh_superiortemporal_volume  rh_supramarginal_volume  rh_frontalpole_volume  \\\n",
       "0                        9201                     7703                    783   \n",
       "1                       12166                    10272                    747   \n",
       "2                        8808                     8331                   1193   \n",
       "3                       10091                     9396                    802   \n",
       "4                       10928                    10362                    699   \n",
       "\n",
       "   rh_temporalpole_volume  rh_transversetemporal_volume  rh_insula_volume  \n",
       "0                    1945                           923              6297  \n",
       "1                    1921                           790              5537  \n",
       "2                    2043                           484              6033  \n",
       "3                    2336                           799              6159  \n",
       "4                    2549                           911              5853  \n",
       "\n",
       "[5 rows x 170 columns]"
      ]
     },
     "execution_count": 2,
     "metadata": {},
     "output_type": "execute_result"
    }
   ],
   "source": [
    "df = pd.read_excel('brain_mosaic_data/NKI_SBA_Volume.xlsx')\n",
    "df.head()"
   ]
  },
  {
   "cell_type": "markdown",
   "metadata": {},
   "source": [
    "Make the column names play nicely with StatsModels."
   ]
  },
  {
   "cell_type": "code",
   "execution_count": 3,
   "metadata": {},
   "outputs": [],
   "source": [
    "def clean_name(name):\n",
    "    \"\"\"Make column names play nicely with StatsModels.\n",
    "    \"\"\"\n",
    "    name = name.replace('-', '_').lower()\n",
    "    d = {'3rd_ventricle':'third_ventricle', '4th_ventricle':'fourth_ventricle'}\n",
    "    return d.get(name, name)"
   ]
  },
  {
   "cell_type": "code",
   "execution_count": 4,
   "metadata": {},
   "outputs": [
    {
     "data": {
      "text/html": [
       "<div>\n",
       "<style scoped>\n",
       "    .dataframe tbody tr th:only-of-type {\n",
       "        vertical-align: middle;\n",
       "    }\n",
       "\n",
       "    .dataframe tbody tr th {\n",
       "        vertical-align: top;\n",
       "    }\n",
       "\n",
       "    .dataframe thead th {\n",
       "        text-align: right;\n",
       "    }\n",
       "</style>\n",
       "<table border=\"1\" class=\"dataframe\">\n",
       "  <thead>\n",
       "    <tr style=\"text-align: right;\">\n",
       "      <th></th>\n",
       "      <th>bio_sex</th>\n",
       "      <th>age</th>\n",
       "      <th>left_lateral_ventricle</th>\n",
       "      <th>left_inf_lat_vent</th>\n",
       "      <th>left_cerebellum_white_matter</th>\n",
       "      <th>left_cerebellum_cortex</th>\n",
       "      <th>left_thalamus_proper</th>\n",
       "      <th>left_caudate</th>\n",
       "      <th>left_putamen</th>\n",
       "      <th>left_pallidum</th>\n",
       "      <th>...</th>\n",
       "      <th>rh_rostralanteriorcingulate_volume</th>\n",
       "      <th>rh_rostralmiddlefrontal_volume</th>\n",
       "      <th>rh_superiorfrontal_volume</th>\n",
       "      <th>rh_superiorparietal_volume</th>\n",
       "      <th>rh_superiortemporal_volume</th>\n",
       "      <th>rh_supramarginal_volume</th>\n",
       "      <th>rh_frontalpole_volume</th>\n",
       "      <th>rh_temporalpole_volume</th>\n",
       "      <th>rh_transversetemporal_volume</th>\n",
       "      <th>rh_insula_volume</th>\n",
       "    </tr>\n",
       "  </thead>\n",
       "  <tbody>\n",
       "    <tr>\n",
       "      <th>0</th>\n",
       "      <td>2</td>\n",
       "      <td>41</td>\n",
       "      <td>5443</td>\n",
       "      <td>408</td>\n",
       "      <td>14526</td>\n",
       "      <td>47120</td>\n",
       "      <td>6506</td>\n",
       "      <td>2944</td>\n",
       "      <td>4535</td>\n",
       "      <td>1828</td>\n",
       "      <td>...</td>\n",
       "      <td>1151</td>\n",
       "      <td>13009</td>\n",
       "      <td>16499</td>\n",
       "      <td>10019</td>\n",
       "      <td>9201</td>\n",
       "      <td>7703</td>\n",
       "      <td>783</td>\n",
       "      <td>1945</td>\n",
       "      <td>923</td>\n",
       "      <td>6297</td>\n",
       "    </tr>\n",
       "    <tr>\n",
       "      <th>1</th>\n",
       "      <td>2</td>\n",
       "      <td>52</td>\n",
       "      <td>3228</td>\n",
       "      <td>309</td>\n",
       "      <td>13065</td>\n",
       "      <td>48090</td>\n",
       "      <td>6942</td>\n",
       "      <td>2918</td>\n",
       "      <td>5000</td>\n",
       "      <td>1734</td>\n",
       "      <td>...</td>\n",
       "      <td>1308</td>\n",
       "      <td>13780</td>\n",
       "      <td>18011</td>\n",
       "      <td>11602</td>\n",
       "      <td>12166</td>\n",
       "      <td>10272</td>\n",
       "      <td>747</td>\n",
       "      <td>1921</td>\n",
       "      <td>790</td>\n",
       "      <td>5537</td>\n",
       "    </tr>\n",
       "    <tr>\n",
       "      <th>2</th>\n",
       "      <td>2</td>\n",
       "      <td>54</td>\n",
       "      <td>5642</td>\n",
       "      <td>95</td>\n",
       "      <td>9687</td>\n",
       "      <td>38398</td>\n",
       "      <td>6385</td>\n",
       "      <td>2892</td>\n",
       "      <td>4351</td>\n",
       "      <td>1051</td>\n",
       "      <td>...</td>\n",
       "      <td>1903</td>\n",
       "      <td>13247</td>\n",
       "      <td>17477</td>\n",
       "      <td>10010</td>\n",
       "      <td>8808</td>\n",
       "      <td>8331</td>\n",
       "      <td>1193</td>\n",
       "      <td>2043</td>\n",
       "      <td>484</td>\n",
       "      <td>6033</td>\n",
       "    </tr>\n",
       "    <tr>\n",
       "      <th>3</th>\n",
       "      <td>2</td>\n",
       "      <td>56</td>\n",
       "      <td>4959</td>\n",
       "      <td>231</td>\n",
       "      <td>11442</td>\n",
       "      <td>41214</td>\n",
       "      <td>6195</td>\n",
       "      <td>3604</td>\n",
       "      <td>5135</td>\n",
       "      <td>1592</td>\n",
       "      <td>...</td>\n",
       "      <td>1753</td>\n",
       "      <td>12481</td>\n",
       "      <td>17378</td>\n",
       "      <td>9682</td>\n",
       "      <td>10091</td>\n",
       "      <td>9396</td>\n",
       "      <td>802</td>\n",
       "      <td>2336</td>\n",
       "      <td>799</td>\n",
       "      <td>6159</td>\n",
       "    </tr>\n",
       "    <tr>\n",
       "      <th>4</th>\n",
       "      <td>2</td>\n",
       "      <td>31</td>\n",
       "      <td>6664</td>\n",
       "      <td>161</td>\n",
       "      <td>12059</td>\n",
       "      <td>44711</td>\n",
       "      <td>6613</td>\n",
       "      <td>2981</td>\n",
       "      <td>4558</td>\n",
       "      <td>1462</td>\n",
       "      <td>...</td>\n",
       "      <td>1396</td>\n",
       "      <td>11924</td>\n",
       "      <td>21013</td>\n",
       "      <td>12134</td>\n",
       "      <td>10928</td>\n",
       "      <td>10362</td>\n",
       "      <td>699</td>\n",
       "      <td>2549</td>\n",
       "      <td>911</td>\n",
       "      <td>5853</td>\n",
       "    </tr>\n",
       "  </tbody>\n",
       "</table>\n",
       "<p>5 rows × 170 columns</p>\n",
       "</div>"
      ],
      "text/plain": [
       "   bio_sex  age  left_lateral_ventricle  left_inf_lat_vent  \\\n",
       "0        2   41                    5443                408   \n",
       "1        2   52                    3228                309   \n",
       "2        2   54                    5642                 95   \n",
       "3        2   56                    4959                231   \n",
       "4        2   31                    6664                161   \n",
       "\n",
       "   left_cerebellum_white_matter  left_cerebellum_cortex  left_thalamus_proper  \\\n",
       "0                         14526                   47120                  6506   \n",
       "1                         13065                   48090                  6942   \n",
       "2                          9687                   38398                  6385   \n",
       "3                         11442                   41214                  6195   \n",
       "4                         12059                   44711                  6613   \n",
       "\n",
       "   left_caudate  left_putamen  left_pallidum        ...         \\\n",
       "0          2944          4535           1828        ...          \n",
       "1          2918          5000           1734        ...          \n",
       "2          2892          4351           1051        ...          \n",
       "3          3604          5135           1592        ...          \n",
       "4          2981          4558           1462        ...          \n",
       "\n",
       "   rh_rostralanteriorcingulate_volume  rh_rostralmiddlefrontal_volume  \\\n",
       "0                                1151                           13009   \n",
       "1                                1308                           13780   \n",
       "2                                1903                           13247   \n",
       "3                                1753                           12481   \n",
       "4                                1396                           11924   \n",
       "\n",
       "   rh_superiorfrontal_volume  rh_superiorparietal_volume  \\\n",
       "0                      16499                       10019   \n",
       "1                      18011                       11602   \n",
       "2                      17477                       10010   \n",
       "3                      17378                        9682   \n",
       "4                      21013                       12134   \n",
       "\n",
       "   rh_superiortemporal_volume  rh_supramarginal_volume  rh_frontalpole_volume  \\\n",
       "0                        9201                     7703                    783   \n",
       "1                       12166                    10272                    747   \n",
       "2                        8808                     8331                   1193   \n",
       "3                       10091                     9396                    802   \n",
       "4                       10928                    10362                    699   \n",
       "\n",
       "   rh_temporalpole_volume  rh_transversetemporal_volume  rh_insula_volume  \n",
       "0                    1945                           923              6297  \n",
       "1                    1921                           790              5537  \n",
       "2                    2043                           484              6033  \n",
       "3                    2336                           799              6159  \n",
       "4                    2549                           911              5853  \n",
       "\n",
       "[5 rows x 170 columns]"
      ]
     },
     "execution_count": 4,
     "metadata": {},
     "output_type": "execute_result"
    }
   ],
   "source": [
    "columns = [clean_name(name) for name in df.columns]\n",
    "df.columns = columns\n",
    "df.head()"
   ]
  },
  {
   "cell_type": "markdown",
   "metadata": {},
   "source": [
    "Make a binary variable for StatsModels."
   ]
  },
  {
   "cell_type": "code",
   "execution_count": 5,
   "metadata": {},
   "outputs": [
    {
     "data": {
      "text/plain": [
       "0.3786764705882353"
      ]
     },
     "execution_count": 5,
     "metadata": {},
     "output_type": "execute_result"
    }
   ],
   "source": [
    "df['male'] = (df['bio_sex'] == 1).astype(int)\n",
    "df['male'].mean()"
   ]
  },
  {
   "cell_type": "markdown",
   "metadata": {},
   "source": [
    "Select the volumetric features (I don't know what the other features are)."
   ]
  },
  {
   "cell_type": "code",
   "execution_count": 6,
   "metadata": {},
   "outputs": [
    {
     "data": {
      "text/plain": [
       "68"
      ]
     },
     "execution_count": 6,
     "metadata": {},
     "output_type": "execute_result"
    }
   ],
   "source": [
    "features = [name for name in df.columns if name.endswith('volume')]\n",
    "len(features)"
   ]
  },
  {
   "cell_type": "markdown",
   "metadata": {},
   "source": [
    "Compute total volume."
   ]
  },
  {
   "cell_type": "code",
   "execution_count": 7,
   "metadata": {},
   "outputs": [
    {
     "data": {
      "text/plain": [
       "count       272.000000\n",
       "mean     455371.117647\n",
       "std       56890.820457\n",
       "min      336198.000000\n",
       "25%      416941.500000\n",
       "50%      450121.000000\n",
       "75%      489089.250000\n",
       "max      684464.000000\n",
       "Name: total_volume, dtype: float64"
      ]
     },
     "execution_count": 7,
     "metadata": {},
     "output_type": "execute_result"
    }
   ],
   "source": [
    "df['total_volume'] = df[features].sum(axis=1)\n",
    "df['total_volume'].describe()"
   ]
  },
  {
   "cell_type": "markdown",
   "metadata": {},
   "source": [
    "Make sure the new variables are on the feature list."
   ]
  },
  {
   "cell_type": "code",
   "execution_count": 8,
   "metadata": {},
   "outputs": [
    {
     "data": {
      "text/plain": [
       "69"
      ]
     },
     "execution_count": 8,
     "metadata": {},
     "output_type": "execute_result"
    }
   ],
   "source": [
    "features = [name for name in df.columns if name.endswith('volume')]\n",
    "len(features)"
   ]
  },
  {
   "cell_type": "markdown",
   "metadata": {},
   "source": [
    "Distribution of volumes."
   ]
  },
  {
   "cell_type": "code",
   "execution_count": 9,
   "metadata": {
    "scrolled": true
   },
   "outputs": [
    {
     "data": {
      "image/png": "[encoded data removed]",
      "text/plain": [
       "<Figure size 432x288 with 1 Axes>"
      ]
     },
     "metadata": {
      "needs_background": "light"
     },
     "output_type": "display_data"
    }
   ],
   "source": [
    "var = 'total_volume'\n",
    "sns.kdeplot(df[var].values);"
   ]
  },
  {
   "cell_type": "markdown",
   "metadata": {},
   "source": [
    "Distributions of total volume for male and female subjects.  As expected, men have bigger brains."
   ]
  },
  {
   "cell_type": "code",
   "execution_count": 10,
   "metadata": {},
   "outputs": [
    {
     "data": {
      "image/png": "[encoded data removed]",
      "text/plain": [
       "<Figure size 432x288 with 1 Axes>"
      ]
     },
     "metadata": {
      "needs_background": "light"
     },
     "output_type": "display_data"
    }
   ],
   "source": [
    "df['bio_sex'].replace(1, 0, inplace=True)\n",
    "df['bio_sex'].replace(2, 1, inplace=True)\n",
    "\n",
    "male = df['bio_sex'] == 0\n",
    "female = df['bio_sex'] == 1\n",
    "\n",
    "sns.kdeplot(df.loc[male, var], label='male')\n",
    "sns.kdeplot(df.loc[female, var], label='female');"
   ]
  },
  {
   "cell_type": "markdown",
   "metadata": {},
   "source": [
    "## Cohen effect size\n",
    "\n",
    "Let's look for the features that show the biggest difference between men and women."
   ]
  },
  {
   "cell_type": "code",
   "execution_count": 11,
   "metadata": {},
   "outputs": [],
   "source": [
    "def cohen_effect_size(group1, group2):\n",
    "    \"\"\"Compute Cohen's effect size (d).\n",
    "\n",
    "    group1: Series or NumPy array\n",
    "    group2: Series or NumPy array\n",
    "\n",
    "    returns: float\n",
    "    \"\"\"\n",
    "    diff = group1.mean() - group2.mean()\n",
    "\n",
    "    n1, n2 = len(group1), len(group2)\n",
    "    var1 = group1.var()\n",
    "    var2 = group2.var()\n",
    "\n",
    "    pooled_var = (n1 * var1 + n2 * var2) / (n1 + n2)\n",
    "    d = diff / np.sqrt(pooled_var)\n",
    "    return d"
   ]
  },
  {
   "cell_type": "code",
   "execution_count": 12,
   "metadata": {},
   "outputs": [],
   "source": [
    "def compute_cohen_effect(df, features):\n",
    "    res = pd.Series()\n",
    "\n",
    "    grouped = df.groupby('male')\n",
    "    for var in features:\n",
    "        groups = grouped[var]\n",
    "        male = groups.get_group(1)\n",
    "        female = groups.get_group(0)\n",
    "        d = cohen_effect_size(male, female)\n",
    "        res[var] = d\n",
    "        \n",
    "    return res"
   ]
  },
  {
   "cell_type": "markdown",
   "metadata": {},
   "source": [
    "Here are the top features by Cohen effect size.  The biggest difference is in total volume.  I suspect that the other top candidates are strongly correlated with total volume."
   ]
  },
  {
   "cell_type": "code",
   "execution_count": 13,
   "metadata": {},
   "outputs": [
    {
     "data": {
      "text/plain": [
       "total_volume                      0.998091\n",
       "rh_superiorfrontal_volume         0.970546\n",
       "rh_inferiortemporal_volume        0.964111\n",
       "rh_lateraloccipital_volume        0.960110\n",
       "rh_precuneus_volume               0.958064\n",
       "lh_middletemporal_volume          0.953209\n",
       "lh_superiorfrontal_volume         0.941572\n",
       "lh_medialorbitofrontal_volume     0.937211\n",
       "rh_rostralmiddlefrontal_volume    0.927699\n",
       "lh_inferiortemporal_volume        0.909025\n",
       "rh_fusiform_volume                0.890256\n",
       "rh_lateralorbitofrontal_volume    0.874188\n",
       "dtype: float64"
      ]
     },
     "execution_count": 13,
     "metadata": {},
     "output_type": "execute_result"
    }
   ],
   "source": [
    "num_features = 12\n",
    "\n",
    "res = compute_cohen_effect(df, features)\n",
    "top_by_cohen = res.sort_values(ascending=False).iloc[:num_features]"
   ]
  },
  {
   "cell_type": "code",
   "execution_count": 14,
   "metadata": {},
   "outputs": [],
   "source": [
    "def divide_by_vol(columns):\n",
    "    for column in columns:\n",
    "        df[column + '_norm'] = df[column]/df['total_volume']\n",
    "        \n",
    "columns = [name for name in df.columns if name.endswith('volume')]\n",
    "divide_by_vol(columns)"
   ]
  },
  {
   "cell_type": "code",
   "execution_count": 15,
   "metadata": {},
   "outputs": [
    {
     "data": {
      "text/plain": [
       "69"
      ]
     },
     "execution_count": 15,
     "metadata": {},
     "output_type": "execute_result"
    }
   ],
   "source": [
    "df.drop('total_volume_norm', axis = 1)\n",
    "features_norm = [name for name in df.columns if name.endswith('norm')]\n",
    "len(features)"
   ]
  },
  {
   "cell_type": "code",
   "execution_count": 16,
   "metadata": {},
   "outputs": [
    {
     "name": "stderr",
     "output_type": "stream",
     "text": [
      "/home/eprice/anaconda3/lib/python3.6/site-packages/ipykernel_launcher.py:16: RuntimeWarning: invalid value encountered in double_scalars\n",
      "  app.launch_new_instance()\n"
     ]
    },
    {
     "data": {
      "text/plain": [
       "lh_middletemporal_volume_norm          0.416500\n",
       "rh_inferiortemporal_volume_norm        0.378245\n",
       "lh_rostralmiddlefrontal_volume_norm    0.337220\n",
       "rh_rostralmiddlefrontal_volume_norm    0.305688\n",
       "rh_middletemporal_volume_norm          0.300476\n",
       "lh_inferiortemporal_volume_norm        0.278646\n",
       "lh_medialorbitofrontal_volume_norm     0.259600\n",
       "rh_precuneus_volume_norm               0.249023\n",
       "lh_parsorbitalis_volume_norm           0.234720\n",
       "lh_supramarginal_volume_norm           0.205109\n",
       "rh_parsorbitalis_volume_norm           0.189739\n",
       "rh_inferiorparietal_volume_norm        0.184604\n",
       "dtype: float64"
      ]
     },
     "execution_count": 16,
     "metadata": {},
     "output_type": "execute_result"
    }
   ],
   "source": [
    "num_features = 12\n",
    "\n",
    "res = compute_cohen_effect(df, features_norm)\n",
    "top_by_cohen = res.sort_values(ascending=False).iloc[:num_features]"
   ]
  },
  {
   "cell_type": "code",
   "execution_count": 17,
   "metadata": {},
   "outputs": [
    {
     "data": {
      "image/png": "[encoded data removed]",
      "text/plain": [
       "<Figure size 432x288 with 1 Axes>"
      ]
     },
     "metadata": {
      "needs_background": "light"
     },
     "output_type": "display_data"
    }
   ],
   "source": [
    "var = 'lh_middletemporal_volume_norm'\n",
    "# sns.kdeplot(df[var].values);\n",
    "\n",
    "sns.kdeplot(df.loc[male, var], label='male')\n",
    "sns.kdeplot(df.loc[female, var], label='female');"
   ]
  },
  {
   "cell_type": "code",
   "execution_count": 67,
   "metadata": {
    "scrolled": true
   },
   "outputs": [
    {
     "name": "stdout",
     "output_type": "stream",
     "text": [
      "R^2: 0.6707317073170732\n",
      "Root Mean Squared Error: 0.5738190417570045\n",
      "0.7215354586857515\n",
      "[[15 14]\n",
      " [13 40]]\n"
     ]
    },
    {
     "data": {
      "image/png": "[encoded data removed]",
      "text/plain": [
       "<Figure size 432x288 with 1 Axes>"
      ]
     },
     "metadata": {
      "needs_background": "light"
     },
     "output_type": "display_data"
    }
   ],
   "source": [
    "y = df['bio_sex']\n",
    "X = df.drop(list(set(df.columns).difference(set(features))), axis=1)\n",
    "\n",
    "y.mean()\n",
    "\n",
    "X_train, X_test, y_train, y_test = train_test_split(X, y, test_size = 0.3, random_state=42)\n",
    "\n",
    "logreg = linear_model.LogisticRegression()\n",
    "logreg.fit(X_train,y_train)\n",
    "\n",
    "y_pred = logreg.predict(X_test)\n",
    "y_pred_prob = logreg.predict_proba(X_test)[:,1]\n",
    "\n",
    "fpr, tpr, thresholds = metrics.roc_curve(y_test, y_pred_prob)\n",
    "\n",
    "plt.plot([0, 1], [0, 1], 'k--')\n",
    "plt.plot(fpr, tpr, label='Logistic Regression')\n",
    "                 \n",
    "print(\"R^2: {}\".format(logreg.score(X_test, y_test)))\n",
    "\n",
    "rmse = np.sqrt(metrics.mean_squared_error(y_test, y_pred))\n",
    "\n",
    "print(\"Root Mean Squared Error: {}\".format(rmse))\n",
    "\n",
    "print(metrics.roc_auc_score(y_test,y_pred_prob))\n",
    "\n",
    "print(metrics.confusion_matrix(y_test,y_pred))"
   ]
  },
  {
   "cell_type": "code",
   "execution_count": 19,
   "metadata": {},
   "outputs": [
    {
     "name": "stdout",
     "output_type": "stream",
     "text": [
      "R^2: 0.6463414634146342\n",
      "Root Mean Squared Error: 0.59469196781642\n",
      "0.7807417046193884\n",
      "[[ 0 29]\n",
      " [ 0 53]]\n"
     ]
    },
    {
     "data": {
      "image/png": "[encoded data removed]",
      "text/plain": [
       "<Figure size 432x288 with 1 Axes>"
      ]
     },
     "metadata": {
      "needs_background": "light"
     },
     "output_type": "display_data"
    }
   ],
   "source": [
    "y = df['bio_sex']\n",
    "X = df.drop(list(set(df.columns).difference(set(features_norm))), axis=1)\n",
    "\n",
    "y.mean()\n",
    "\n",
    "X_train, X_test, y_train, y_test = train_test_split(X, y, test_size = 0.3, random_state=42)\n",
    "\n",
    "logreg = linear_model.LogisticRegression()\n",
    "logreg.fit(X_train,y_train)\n",
    "\n",
    "y_pred = logreg.predict(X_test)\n",
    "y_pred_prob = logreg.predict_proba(X_test)[:,1]\n",
    "\n",
    "fpr, tpr, thresholds = metrics.roc_curve(y_test, y_pred_prob)\n",
    "\n",
    "plt.plot([0, 1], [0, 1], 'k--')\n",
    "plt.plot(fpr, tpr, label='Logistic Regression')\n",
    "                 \n",
    "print(\"R^2: {}\".format(logreg.score(X_test, y_test)))\n",
    "\n",
    "rmse = np.sqrt(metrics.mean_squared_error(y_test, y_pred))\n",
    "\n",
    "print(\"Root Mean Squared Error: {}\".format(rmse))\n",
    "\n",
    "print(metrics.roc_auc_score(y_test,y_pred_prob))\n",
    "\n",
    "print(metrics.confusion_matrix(y_test,y_pred))"
   ]
  },
  {
   "cell_type": "code",
   "execution_count": 20,
   "metadata": {
    "scrolled": true
   },
   "outputs": [
    {
     "data": {
      "text/plain": [
       "count    272.000000\n",
       "mean      45.783088\n",
       "std       18.861331\n",
       "min       12.000000\n",
       "25%       26.000000\n",
       "50%       49.000000\n",
       "75%       60.000000\n",
       "max       85.000000\n",
       "Name: age, dtype: float64"
      ]
     },
     "execution_count": 20,
     "metadata": {},
     "output_type": "execute_result"
    }
   ],
   "source": [
    "df['age'].describe()"
   ]
  },
  {
   "cell_type": "code",
   "execution_count": 35,
   "metadata": {},
   "outputs": [
    {
     "data": {
      "image/png": "[encoded data removed]",
      "text/plain": [
       "<Figure size 432x288 with 1 Axes>"
      ]
     },
     "metadata": {
      "needs_background": "light"
     },
     "output_type": "display_data"
    }
   ],
   "source": [
    "var = 'total_volume'\n",
    "sns.kdeplot(df[var].values, label='all');\n",
    "\n",
    "young = (df['age'] <= 49) & (df ['age'] >= 26)\n",
    "old = (df['age'] >= 49) & (df['age'] <= 60)\n",
    "\n",
    "sns.kdeplot(df.loc[young, var], label='young')\n",
    "sns.kdeplot(df.loc[old, var], label='old');"
   ]
  },
  {
   "cell_type": "code",
   "execution_count": 41,
   "metadata": {},
   "outputs": [
    {
     "data": {
      "text/plain": [
       "0.5704225352112676"
      ]
     },
     "execution_count": 41,
     "metadata": {},
     "output_type": "execute_result"
    }
   ],
   "source": [
    "conditions = [\n",
    "    (df['age'] <= 49) & (df['age'] >= 26),\n",
    "    (df['age'] <= 60) & (df['age'] >= 49)]\n",
    "choices = [1, 0]\n",
    "df['young'] = np.select(conditions, choices, default=np.nan)\n",
    "df['young'].mean()"
   ]
  },
  {
   "cell_type": "code",
   "execution_count": 1,
   "metadata": {},
   "outputs": [],
   "source": [
    "def compute_cohen_effect_age(df, features):\n",
    "    res = pd.Series()\n",
    "\n",
    "    grouped = df.groupby('young')\n",
    "    for var in features:\n",
    "        groups = grouped[var]\n",
    "        young = groups.get_group(1)\n",
    "        old = groups.get_group(0)\n",
    "        d = cohen_effect_size(young, old)\n",
    "        res[var] = d\n",
    "        \n",
    "    return res"
   ]
  },
  {
   "cell_type": "code",
   "execution_count": 2,
   "metadata": {},
   "outputs": [
    {
     "ename": "NameError",
     "evalue": "name 'df' is not defined",
     "output_type": "error",
     "traceback": [
      "\u001b[0;31m---------------------------------------------------------------------------\u001b[0m",
      "\u001b[0;31mNameError\u001b[0m                                 Traceback (most recent call last)",
      "\u001b[0;32m<ipython-input-2-cd47f8314cf7>\u001b[0m in \u001b[0;36m<module>\u001b[0;34m\u001b[0m\n\u001b[1;32m      1\u001b[0m \u001b[0mnum_features\u001b[0m \u001b[0;34m=\u001b[0m \u001b[0;36m12\u001b[0m\u001b[0;34m\u001b[0m\u001b[0;34m\u001b[0m\u001b[0m\n\u001b[1;32m      2\u001b[0m \u001b[0;34m\u001b[0m\u001b[0m\n\u001b[0;32m----> 3\u001b[0;31m \u001b[0mres\u001b[0m \u001b[0;34m=\u001b[0m \u001b[0mcompute_cohen_effect_age\u001b[0m\u001b[0;34m(\u001b[0m\u001b[0mdf\u001b[0m\u001b[0;34m,\u001b[0m \u001b[0mfeatures\u001b[0m\u001b[0;34m)\u001b[0m\u001b[0;34m\u001b[0m\u001b[0;34m\u001b[0m\u001b[0m\n\u001b[0m\u001b[1;32m      4\u001b[0m \u001b[0;34m\u001b[0m\u001b[0m\n\u001b[1;32m      5\u001b[0m \u001b[0mtop_by_cohen\u001b[0m \u001b[0;34m=\u001b[0m \u001b[0mres\u001b[0m\u001b[0;34m.\u001b[0m\u001b[0msort_values\u001b[0m\u001b[0;34m(\u001b[0m\u001b[0mascending\u001b[0m\u001b[0;34m=\u001b[0m\u001b[0;32mFalse\u001b[0m\u001b[0;34m)\u001b[0m\u001b[0;34m.\u001b[0m\u001b[0miloc\u001b[0m\u001b[0;34m[\u001b[0m\u001b[0;34m:\u001b[0m\u001b[0mnum_features\u001b[0m\u001b[0;34m]\u001b[0m\u001b[0;34m\u001b[0m\u001b[0;34m\u001b[0m\u001b[0m\n",
      "\u001b[0;31mNameError\u001b[0m: name 'df' is not defined"
     ]
    }
   ],
   "source": [
    "num_features = 12\n",
    "\n",
    "res = compute_cohen_effect_age(df, features)\n",
    "\n",
    "top_by_cohen = res.sort_values(ascending=False).iloc[:num_features]"
   ]
  },
  {
   "cell_type": "code",
   "execution_count": 44,
   "metadata": {},
   "outputs": [
    {
     "name": "stderr",
     "output_type": "stream",
     "text": [
      "/home/eprice/anaconda3/lib/python3.6/site-packages/ipykernel_launcher.py:16: RuntimeWarning: invalid value encountered in double_scalars\n",
      "  app.launch_new_instance()\n"
     ]
    },
    {
     "data": {
      "text/plain": [
       "lh_rostralmiddlefrontal_volume_norm    0.475797\n",
       "lh_parstriangularis_volume_norm        0.404769\n",
       "rh_parsopercularis_volume_norm         0.342945\n",
       "rh_transversetemporal_volume_norm      0.319506\n",
       "rh_parstriangularis_volume_norm        0.311488\n",
       "rh_inferiorparietal_volume_norm        0.301266\n",
       "lh_middletemporal_volume_norm          0.300623\n",
       "rh_posteriorcingulate_volume_norm      0.299719\n",
       "rh_bankssts_volume_norm                0.296518\n",
       "lh_parsopercularis_volume_norm         0.234782\n",
       "lh_caudalmiddlefrontal_volume_norm     0.228521\n",
       "lh_lateralorbitofrontal_volume_norm    0.225363\n",
       "dtype: float64"
      ]
     },
     "execution_count": 44,
     "metadata": {},
     "output_type": "execute_result"
    }
   ],
   "source": [
    "num_features = 12\n",
    "\n",
    "res = compute_cohen_effect_age(df, features_norm)\n",
    "\n",
    "top_by_cohen = res.sort_values(ascending=False).iloc[:num_features]"
   ]
  },
  {
   "cell_type": "code",
   "execution_count": 59,
   "metadata": {},
   "outputs": [
    {
     "name": "stdout",
     "output_type": "stream",
     "text": [
      "R^2: 0.5348837209302325\n",
      "Root Mean Squared Error: 0.6819943394704735\n",
      "0.5326086956521738\n",
      "[[ 0 20]\n",
      " [ 0 23]]\n"
     ]
    },
    {
     "data": {
      "image/png": "[encoded data removed]",
      "text/plain": [
       "<Figure size 432x288 with 1 Axes>"
      ]
     },
     "metadata": {
      "needs_background": "light"
     },
     "output_type": "display_data"
    }
   ],
   "source": [
    "features_norm.append('young')\n",
    "temp = df.drop(list(set(df.columns).difference(set(features_norm))), axis=1).dropna()\n",
    "features_norm.pop()\n",
    "\n",
    "\n",
    "y = temp['young']\n",
    "X = temp.drop('young', axis=1)\n",
    "\n",
    "y.mean()\n",
    "\n",
    "X_train, X_test, y_train, y_test = train_test_split(X, y, test_size = 0.3, random_state=42)\n",
    "\n",
    "logreg = linear_model.LogisticRegression()\n",
    "logreg.fit(X_train,y_train)\n",
    "\n",
    "y_pred = logreg.predict(X_test)\n",
    "y_pred_prob = logreg.predict_proba(X_test)[:,1]\n",
    "\n",
    "fpr, tpr, thresholds = metrics.roc_curve(y_test, y_pred_prob)\n",
    "\n",
    "plt.plot([0, 1], [0, 1], 'k--')\n",
    "plt.plot(fpr, tpr, label='Logistic Regression')\n",
    "                 \n",
    "print(\"R^2: {}\".format(logreg.score(X_test, y_test)))\n",
    "\n",
    "rmse = np.sqrt(metrics.mean_squared_error(y_test, y_pred))\n",
    "\n",
    "print(\"Root Mean Squared Error: {}\".format(rmse))\n",
    "\n",
    "print(metrics.roc_auc_score(y_test,y_pred_prob))\n",
    "\n",
    "print(metrics.confusion_matrix(y_test,y_pred))"
   ]
  },
  {
   "cell_type": "code",
   "execution_count": 20,
   "metadata": {
    "scrolled": true
   },
   "outputs": [
    {
     "data": {
      "text/plain": [
       "count    272.000000\n",
       "mean      45.783088\n",
       "std       18.861331\n",
       "min       12.000000\n",
       "25%       26.000000\n",
       "50%       49.000000\n",
       "75%       60.000000\n",
       "max       85.000000\n",
       "Name: age, dtype: float64"
      ]
     },
     "execution_count": 20,
     "metadata": {},
     "output_type": "execute_result"
    }
   ],
   "source": [
    "df['age'].describe()"
   ]
  },
  {
   "cell_type": "code",
   "execution_count": 60,
   "metadata": {},
   "outputs": [
    {
     "data": {
      "image/png": "[encoded data removed]",
      "text/plain": [
       "<Figure size 432x288 with 1 Axes>"
      ]
     },
     "metadata": {
      "needs_background": "light"
     },
     "output_type": "display_data"
    }
   ],
   "source": [
    "var = 'total_volume'\n",
    "sns.kdeplot(df[var].values, label='all');\n",
    "\n",
    "young2 = df['age'] <= 49\n",
    "old2 = df['age'] >= 49\n",
    "\n",
    "sns.kdeplot(df.loc[young2, var], label='young')\n",
    "sns.kdeplot(df.loc[old2, var], label='old');"
   ]
  },
  {
   "cell_type": "code",
   "execution_count": 62,
   "metadata": {},
   "outputs": [
    {
     "data": {
      "text/plain": [
       "0.5367647058823529"
      ]
     },
     "execution_count": 62,
     "metadata": {},
     "output_type": "execute_result"
    }
   ],
   "source": [
    "conditions = [\n",
    "    (df['age'] <= 49),\n",
    "    (df['age'] >= 49)]\n",
    "choices = [1, 0]\n",
    "df['young2'] = np.select(conditions, choices, default=np.nan)\n",
    "df['young2'].mean()"
   ]
  },
  {
   "cell_type": "code",
   "execution_count": 63,
   "metadata": {},
   "outputs": [],
   "source": [
    "def compute_cohen_effect_age(df, features):\n",
    "    res = pd.Series()\n",
    "\n",
    "    grouped = df.groupby('young2')\n",
    "    for var in features:\n",
    "        groups = grouped[var]\n",
    "        young = groups.get_group(1)\n",
    "        old = groups.get_group(0)\n",
    "        d = cohen_effect_size(young, old)\n",
    "        res[var] = d\n",
    "        \n",
    "    return res"
   ]
  },
  {
   "cell_type": "code",
   "execution_count": 64,
   "metadata": {},
   "outputs": [
    {
     "data": {
      "text/plain": [
       "lh_superiorfrontal_volume         1.192475\n",
       "lh_lateralorbitofrontal_volume    1.145116\n",
       "rh_superiorfrontal_volume         1.126841\n",
       "lh_rostralmiddlefrontal_volume    1.125618\n",
       "total_volume                      1.116835\n",
       "rh_bankssts_volume                1.089253\n",
       "lh_parstriangularis_volume        1.079199\n",
       "rh_parsopercularis_volume         1.071623\n",
       "rh_inferiorparietal_volume        1.066946\n",
       "lh_middletemporal_volume          1.063581\n",
       "rh_parstriangularis_volume        1.044952\n",
       "rh_lateralorbitofrontal_volume    1.027525\n",
       "dtype: float64"
      ]
     },
     "execution_count": 64,
     "metadata": {},
     "output_type": "execute_result"
    }
   ],
   "source": [
    "num_features = 12\n",
    "\n",
    "res = compute_cohen_effect_age(df, features)\n",
    "\n",
    "top_by_cohen = res.sort_values(ascending=False).iloc[:num_features]"
   ]
  },
  {
   "cell_type": "code",
   "execution_count": 65,
   "metadata": {},
   "outputs": [
    {
     "name": "stderr",
     "output_type": "stream",
     "text": [
      "/home/eprice/anaconda3/lib/python3.6/site-packages/ipykernel_launcher.py:16: RuntimeWarning: invalid value encountered in double_scalars\n",
      "  app.launch_new_instance()\n"
     ]
    },
    {
     "data": {
      "text/plain": [
       "lh_rostralmiddlefrontal_volume_norm    0.629192\n",
       "rh_bankssts_volume_norm                0.493653\n",
       "rh_parsopercularis_volume_norm         0.466349\n",
       "lh_middletemporal_volume_norm          0.461419\n",
       "lh_parstriangularis_volume_norm        0.457526\n",
       "rh_inferiorparietal_volume_norm        0.400318\n",
       "rh_middletemporal_volume_norm          0.389172\n",
       "rh_parstriangularis_volume_norm        0.375779\n",
       "lh_superiorfrontal_volume_norm         0.374386\n",
       "rh_parsorbitalis_volume_norm           0.352402\n",
       "lh_bankssts_volume_norm                0.323629\n",
       "lh_superiortemporal_volume_norm        0.296492\n",
       "dtype: float64"
      ]
     },
     "execution_count": 65,
     "metadata": {},
     "output_type": "execute_result"
    }
   ],
   "source": [
    "num_features = 12\n",
    "\n",
    "res = compute_cohen_effect_age(df, features_norm)\n",
    "\n",
    "top_by_cohen = res.sort_values(ascending=False).iloc[:num_features]"
   ]
  },
  {
   "cell_type": "code",
   "execution_count": 66,
   "metadata": {},
   "outputs": [
    {
     "name": "stdout",
     "output_type": "stream",
     "text": [
      "R^2: 0.5853658536585366\n",
      "Root Mean Squared Error: 0.6439209162167846\n",
      "0.7481617647058824\n",
      "[[ 0 34]\n",
      " [ 0 48]]\n"
     ]
    },
    {
     "data": {
      "image/png": "[encoded data removed]",
      "text/plain": [
       "<Figure size 432x288 with 1 Axes>"
      ]
     },
     "metadata": {
      "needs_background": "light"
     },
     "output_type": "display_data"
    }
   ],
   "source": [
    "features_norm.append('young2')\n",
    "temp = df.drop(list(set(df.columns).difference(set(features_norm))), axis=1).dropna()\n",
    "features_norm.pop()\n",
    "\n",
    "\n",
    "y = temp['young2']\n",
    "X = temp.drop('young2', axis=1)\n",
    "\n",
    "y.mean()\n",
    "\n",
    "X_train, X_test, y_train, y_test = train_test_split(X, y, test_size = 0.3, random_state=42)\n",
    "\n",
    "logreg = linear_model.LogisticRegression()\n",
    "logreg.fit(X_train,y_train)\n",
    "\n",
    "y_pred = logreg.predict(X_test)\n",
    "y_pred_prob = logreg.predict_proba(X_test)[:,1]\n",
    "\n",
    "fpr, tpr, thresholds = metrics.roc_curve(y_test, y_pred_prob)\n",
    "\n",
    "plt.plot([0, 1], [0, 1], 'k--')\n",
    "plt.plot(fpr, tpr, label='Logistic Regression')\n",
    "                 \n",
    "print(\"R^2: {}\".format(logreg.score(X_test, y_test)))\n",
    "\n",
    "rmse = np.sqrt(metrics.mean_squared_error(y_test, y_pred))\n",
    "\n",
    "print(\"Root Mean Squared Error: {}\".format(rmse))\n",
    "\n",
    "print(metrics.roc_auc_score(y_test,y_pred_prob))\n",
    "\n",
    "print(metrics.confusion_matrix(y_test,y_pred))"
   ]
  },
  {
   "cell_type": "code",
   "execution_count": 151,
   "metadata": {},
   "outputs": [
    {
     "data": {
      "text/html": [
       "<div>\n",
       "<style scoped>\n",
       "    .dataframe tbody tr th:only-of-type {\n",
       "        vertical-align: middle;\n",
       "    }\n",
       "\n",
       "    .dataframe tbody tr th {\n",
       "        vertical-align: top;\n",
       "    }\n",
       "\n",
       "    .dataframe thead th {\n",
       "        text-align: right;\n",
       "    }\n",
       "</style>\n",
       "<table border=\"1\" class=\"dataframe\">\n",
       "  <thead>\n",
       "    <tr style=\"text-align: right;\">\n",
       "      <th></th>\n",
       "      <th>bio_sex</th>\n",
       "      <th>age</th>\n",
       "      <th>Precentral_L</th>\n",
       "      <th>Precentral_R</th>\n",
       "      <th>Frontal_Sup_L</th>\n",
       "      <th>Frontal_Sup_R</th>\n",
       "      <th>Frontal_Sup_Orb_L</th>\n",
       "      <th>Frontal_Sup_Orb_R</th>\n",
       "      <th>Frontal_Mid_L</th>\n",
       "      <th>Frontal_Mid_R</th>\n",
       "      <th>...</th>\n",
       "      <th>Cerebelum_00_L</th>\n",
       "      <th>Cerebelum_00_R</th>\n",
       "      <th>Vermis_0_2</th>\n",
       "      <th>Vermis_3</th>\n",
       "      <th>Vermis_4_5</th>\n",
       "      <th>Vermis_6</th>\n",
       "      <th>Vermis_7</th>\n",
       "      <th>Vermis_8</th>\n",
       "      <th>Vermis_9</th>\n",
       "      <th>Vermis_00</th>\n",
       "    </tr>\n",
       "  </thead>\n",
       "  <tbody>\n",
       "    <tr>\n",
       "      <th>0</th>\n",
       "      <td>1</td>\n",
       "      <td>18</td>\n",
       "      <td>0.436035</td>\n",
       "      <td>0.406023</td>\n",
       "      <td>0.361779</td>\n",
       "      <td>0.369537</td>\n",
       "      <td>0.495171</td>\n",
       "      <td>0.479090</td>\n",
       "      <td>0.420118</td>\n",
       "      <td>0.444269</td>\n",
       "      <td>...</td>\n",
       "      <td>0.257104</td>\n",
       "      <td>0.247064</td>\n",
       "      <td>0.431084</td>\n",
       "      <td>0.471217</td>\n",
       "      <td>0.572555</td>\n",
       "      <td>0.590969</td>\n",
       "      <td>0.575713</td>\n",
       "      <td>0.558999</td>\n",
       "      <td>0.524192</td>\n",
       "      <td>0.226187</td>\n",
       "    </tr>\n",
       "    <tr>\n",
       "      <th>1</th>\n",
       "      <td>1</td>\n",
       "      <td>18</td>\n",
       "      <td>0.422395</td>\n",
       "      <td>0.430086</td>\n",
       "      <td>0.383270</td>\n",
       "      <td>0.390875</td>\n",
       "      <td>0.477471</td>\n",
       "      <td>0.450275</td>\n",
       "      <td>0.448891</td>\n",
       "      <td>0.460303</td>\n",
       "      <td>...</td>\n",
       "      <td>0.245738</td>\n",
       "      <td>0.197609</td>\n",
       "      <td>0.383902</td>\n",
       "      <td>0.421114</td>\n",
       "      <td>0.501804</td>\n",
       "      <td>0.560840</td>\n",
       "      <td>0.566743</td>\n",
       "      <td>0.572814</td>\n",
       "      <td>0.505971</td>\n",
       "      <td>0.202734</td>\n",
       "    </tr>\n",
       "    <tr>\n",
       "      <th>2</th>\n",
       "      <td>1</td>\n",
       "      <td>18</td>\n",
       "      <td>0.439540</td>\n",
       "      <td>0.430842</td>\n",
       "      <td>0.385297</td>\n",
       "      <td>0.376834</td>\n",
       "      <td>0.520610</td>\n",
       "      <td>0.472500</td>\n",
       "      <td>0.454426</td>\n",
       "      <td>0.417339</td>\n",
       "      <td>...</td>\n",
       "      <td>0.245801</td>\n",
       "      <td>0.246097</td>\n",
       "      <td>0.418835</td>\n",
       "      <td>0.424117</td>\n",
       "      <td>0.510495</td>\n",
       "      <td>0.597151</td>\n",
       "      <td>0.604129</td>\n",
       "      <td>0.618324</td>\n",
       "      <td>0.606951</td>\n",
       "      <td>0.285061</td>\n",
       "    </tr>\n",
       "    <tr>\n",
       "      <th>3</th>\n",
       "      <td>1</td>\n",
       "      <td>18</td>\n",
       "      <td>0.473102</td>\n",
       "      <td>0.449665</td>\n",
       "      <td>0.416976</td>\n",
       "      <td>0.417434</td>\n",
       "      <td>0.536880</td>\n",
       "      <td>0.532697</td>\n",
       "      <td>0.471110</td>\n",
       "      <td>0.502046</td>\n",
       "      <td>...</td>\n",
       "      <td>0.215978</td>\n",
       "      <td>0.202993</td>\n",
       "      <td>0.395247</td>\n",
       "      <td>0.431441</td>\n",
       "      <td>0.524903</td>\n",
       "      <td>0.577355</td>\n",
       "      <td>0.629283</td>\n",
       "      <td>0.642825</td>\n",
       "      <td>0.570416</td>\n",
       "      <td>0.231166</td>\n",
       "    </tr>\n",
       "    <tr>\n",
       "      <th>4</th>\n",
       "      <td>1</td>\n",
       "      <td>18</td>\n",
       "      <td>0.382771</td>\n",
       "      <td>0.380443</td>\n",
       "      <td>0.347929</td>\n",
       "      <td>0.359899</td>\n",
       "      <td>0.463163</td>\n",
       "      <td>0.453011</td>\n",
       "      <td>0.393531</td>\n",
       "      <td>0.393259</td>\n",
       "      <td>...</td>\n",
       "      <td>0.236000</td>\n",
       "      <td>0.277785</td>\n",
       "      <td>0.370647</td>\n",
       "      <td>0.434968</td>\n",
       "      <td>0.583758</td>\n",
       "      <td>0.564699</td>\n",
       "      <td>0.543617</td>\n",
       "      <td>0.546831</td>\n",
       "      <td>0.565252</td>\n",
       "      <td>0.247790</td>\n",
       "    </tr>\n",
       "  </tbody>\n",
       "</table>\n",
       "<p>5 rows × 118 columns</p>\n",
       "</div>"
      ],
      "text/plain": [
       "   bio_sex  age  Precentral_L  Precentral_R  Frontal_Sup_L  Frontal_Sup_R  \\\n",
       "0        1   18      0.436035      0.406023       0.361779       0.369537   \n",
       "1        1   18      0.422395      0.430086       0.383270       0.390875   \n",
       "2        1   18      0.439540      0.430842       0.385297       0.376834   \n",
       "3        1   18      0.473102      0.449665       0.416976       0.417434   \n",
       "4        1   18      0.382771      0.380443       0.347929       0.359899   \n",
       "\n",
       "   Frontal_Sup_Orb_L  Frontal_Sup_Orb_R  Frontal_Mid_L  Frontal_Mid_R  \\\n",
       "0           0.495171           0.479090       0.420118       0.444269   \n",
       "1           0.477471           0.450275       0.448891       0.460303   \n",
       "2           0.520610           0.472500       0.454426       0.417339   \n",
       "3           0.536880           0.532697       0.471110       0.502046   \n",
       "4           0.463163           0.453011       0.393531       0.393259   \n",
       "\n",
       "     ...      Cerebelum_00_L  Cerebelum_00_R  Vermis_0_2  Vermis_3  \\\n",
       "0    ...            0.257104        0.247064    0.431084  0.471217   \n",
       "1    ...            0.245738        0.197609    0.383902  0.421114   \n",
       "2    ...            0.245801        0.246097    0.418835  0.424117   \n",
       "3    ...            0.215978        0.202993    0.395247  0.431441   \n",
       "4    ...            0.236000        0.277785    0.370647  0.434968   \n",
       "\n",
       "   Vermis_4_5  Vermis_6  Vermis_7  Vermis_8  Vermis_9  Vermis_00  \n",
       "0    0.572555  0.590969  0.575713  0.558999  0.524192   0.226187  \n",
       "1    0.501804  0.560840  0.566743  0.572814  0.505971   0.202734  \n",
       "2    0.510495  0.597151  0.604129  0.618324  0.606951   0.285061  \n",
       "3    0.524903  0.577355  0.629283  0.642825  0.570416   0.231166  \n",
       "4    0.583758  0.564699  0.543617  0.546831  0.565252   0.247790  \n",
       "\n",
       "[5 rows x 118 columns]"
      ]
     },
     "execution_count": 151,
     "metadata": {},
     "output_type": "execute_result"
    }
   ],
   "source": [
    "df_1000 = pd.read_excel('brain_mosaic_data/1000_Connectomes_age_18-26_VBM.xlsx')\n",
    "df_1000.head()"
   ]
  },
  {
   "cell_type": "code",
   "execution_count": 152,
   "metadata": {},
   "outputs": [
    {
     "data": {
      "text/plain": [
       "Index(['bio_sex', 'age', 'Precentral_L', 'Precentral_R', 'Frontal_Sup_L',\n",
       "       'Frontal_Sup_R', 'Frontal_Sup_Orb_L', 'Frontal_Sup_Orb_R',\n",
       "       'Frontal_Mid_L', 'Frontal_Mid_R',\n",
       "       ...\n",
       "       'Cerebelum_00_L', 'Cerebelum_00_R', 'Vermis_0_2', 'Vermis_3',\n",
       "       'Vermis_4_5', 'Vermis_6', 'Vermis_7', 'Vermis_8', 'Vermis_9',\n",
       "       'Vermis_00'],\n",
       "      dtype='object', length=118)"
      ]
     },
     "execution_count": 152,
     "metadata": {},
     "output_type": "execute_result"
    }
   ],
   "source": [
    "df_1000.columns"
   ]
  },
  {
   "cell_type": "code",
   "execution_count": 153,
   "metadata": {},
   "outputs": [
    {
     "data": {
      "text/plain": [
       "2    385\n",
       "1    240\n",
       "Name: bio_sex, dtype: int64"
      ]
     },
     "execution_count": 153,
     "metadata": {},
     "output_type": "execute_result"
    }
   ],
   "source": [
    "df_1000['bio_sex'].value_counts()"
   ]
  },
  {
   "cell_type": "code",
   "execution_count": 154,
   "metadata": {},
   "outputs": [
    {
     "data": {
      "text/plain": [
       "0      False\n",
       "1      False\n",
       "2      False\n",
       "3      False\n",
       "4      False\n",
       "5      False\n",
       "6      False\n",
       "7      False\n",
       "8      False\n",
       "9      False\n",
       "10     False\n",
       "11     False\n",
       "12     False\n",
       "13     False\n",
       "14     False\n",
       "15     False\n",
       "16     False\n",
       "17     False\n",
       "18     False\n",
       "19     False\n",
       "20     False\n",
       "21     False\n",
       "22     False\n",
       "23     False\n",
       "24     False\n",
       "25     False\n",
       "26     False\n",
       "27     False\n",
       "28     False\n",
       "29     False\n",
       "       ...  \n",
       "595     True\n",
       "596     True\n",
       "597     True\n",
       "598     True\n",
       "599     True\n",
       "600     True\n",
       "601     True\n",
       "602     True\n",
       "603     True\n",
       "604     True\n",
       "605     True\n",
       "606     True\n",
       "607     True\n",
       "608     True\n",
       "609     True\n",
       "610     True\n",
       "611     True\n",
       "612     True\n",
       "613     True\n",
       "614     True\n",
       "615     True\n",
       "616     True\n",
       "617     True\n",
       "618     True\n",
       "619     True\n",
       "620     True\n",
       "621     True\n",
       "622     True\n",
       "623     True\n",
       "624     True\n",
       "Name: bio_sex, Length: 625, dtype: bool"
      ]
     },
     "execution_count": 154,
     "metadata": {},
     "output_type": "execute_result"
    }
   ],
   "source": [
    "df_1000['bio_sex'].replace(1, 0, inplace=True)\n",
    "df_1000['bio_sex'].replace(2, 1, inplace=True)\n",
    "\n",
    "male = df_1000['bio_sex'] == 0\n",
    "female = df_1000['bio_sex'] == 1"
   ]
  },
  {
   "cell_type": "code",
   "execution_count": 122,
   "metadata": {},
   "outputs": [
    {
     "data": {
      "text/plain": [
       "0.0    272\n",
       "Name: male, dtype: int64"
      ]
     },
     "execution_count": 122,
     "metadata": {},
     "output_type": "execute_result"
    }
   ],
   "source": []
  },
  {
   "cell_type": "markdown",
   "metadata": {},
   "source": [
    "Distributions of total volume for male and female subjects.  As expected, men have bigger brains."
   ]
  },
  {
   "cell_type": "markdown",
   "metadata": {},
   "source": [
    "## Cohen effect size\n",
    "\n",
    "Let's look for the features that show the biggest difference between men and women."
   ]
  },
  {
   "cell_type": "code",
   "execution_count": 155,
   "metadata": {},
   "outputs": [],
   "source": [
    "def cohen_effect_size(group1, group2):\n",
    "    \"\"\"Compute Cohen's effect size (d).\n",
    "\n",
    "    group1: Series or NumPy array\n",
    "    group2: Series or NumPy array\n",
    "\n",
    "    returns: float\n",
    "    \"\"\"\n",
    "    diff = group1.mean() - group2.mean()\n",
    "\n",
    "    n1, n2 = len(group1), len(group2)\n",
    "    var1 = group1.var()\n",
    "    var2 = group2.var()\n",
    "\n",
    "    pooled_var = (n1 * var1 + n2 * var2) / (n1 + n2)\n",
    "    d = diff / np.sqrt(pooled_var)\n",
    "    return d"
   ]
  },
  {
   "cell_type": "code",
   "execution_count": 156,
   "metadata": {},
   "outputs": [],
   "source": [
    "def compute_cohen_effect(df, features):\n",
    "    res = pd.Series()\n",
    "\n",
    "    grouped = df.groupby('bio_sex')\n",
    "    for var in features:\n",
    "        groups = grouped[var]\n",
    "        male = groups.get_group(1)\n",
    "        female = groups.get_group(0)\n",
    "        d = cohen_effect_size(male, female)\n",
    "        res[var] = d\n",
    "        \n",
    "    return res"
   ]
  },
  {
   "cell_type": "markdown",
   "metadata": {},
   "source": [
    "Here are the top features by Cohen effect size.  The biggest difference is in total volume.  I suspect that the other top candidates are strongly correlated with total volume."
   ]
  },
  {
   "cell_type": "code",
   "execution_count": 157,
   "metadata": {},
   "outputs": [
    {
     "data": {
      "text/plain": [
       "Vermis_7             0.601494\n",
       "Hippocampus_R        0.576675\n",
       "Caudate_L            0.537445\n",
       "Cerebelum_Crus2_R    0.503056\n",
       "Postcentral_R        0.488203\n",
       "Hippocampus_L        0.462809\n",
       "Frontal_Inf_Orb_L    0.456477\n",
       "Frontal_Sup_Orb_L    0.455499\n",
       "Cerebelum_Crus2_L    0.449714\n",
       "Parietal_Inf_R       0.429542\n",
       "Postcentral_L        0.427087\n",
       "Frontal_Mid_Orb_L    0.425625\n",
       "dtype: float64"
      ]
     },
     "execution_count": 157,
     "metadata": {},
     "output_type": "execute_result"
    }
   ],
   "source": [
    "num_features = 12\n",
    "features = list(df_1000.drop(['age', 'bio_sex'], axis=1).columns)\n",
    "\n",
    "res = compute_cohen_effect(df_1000, features)\n",
    "top_by_cohen = res.sort_values(ascending=False).iloc[:num_features]"
   ]
  },
  {
   "cell_type": "code",
   "execution_count": 158,
   "metadata": {},
   "outputs": [
    {
     "data": {
      "image/png": "[encoded data removed]",
      "text/plain": [
       "<Figure size 432x288 with 1 Axes>"
      ]
     },
     "metadata": {
      "needs_background": "light"
     },
     "output_type": "display_data"
    }
   ],
   "source": [
    "var = 'Vermis_7'\n",
    "sns.kdeplot(df_1000.loc[male, var], label='male')\n",
    "sns.kdeplot(df_1000.loc[female, var], label='female');"
   ]
  },
  {
   "cell_type": "code",
   "execution_count": 159,
   "metadata": {
    "scrolled": false
   },
   "outputs": [
    {
     "name": "stdout",
     "output_type": "stream",
     "text": [
      "R^2: 0.6276595744680851\n",
      "Root Mean Squared Error: 0.6101970382851059\n",
      "0.727038727038727\n",
      "[[ 15  62]\n",
      " [  8 103]]\n"
     ]
    },
    {
     "data": {
      "image/png": "[encoded data removed]",
      "text/plain": [
       "<Figure size 432x288 with 1 Axes>"
      ]
     },
     "metadata": {
      "needs_background": "light"
     },
     "output_type": "display_data"
    }
   ],
   "source": [
    "features.append('bio_sex')\n",
    "temp = df_1000.drop(list(set(df_1000.columns).difference(set(features))), axis=1).dropna()\n",
    "features.pop()\n",
    "\n",
    "y = temp['bio_sex']\n",
    "X = temp.drop('bio_sex', axis=1)\n",
    "\n",
    "# temp['bio_sex'].value_counts()\n",
    "\n",
    "X_train, X_test, y_train, y_test = train_test_split(X, y, test_size = 0.3, random_state=42)\n",
    "\n",
    "logreg = linear_model.LogisticRegression()\n",
    "logreg.fit(X_train,y_train)\n",
    "\n",
    "y_pred = logreg.predict(X_test)\n",
    "y_pred_prob = logreg.predict_proba(X_test)[:,1]\n",
    "\n",
    "fpr, tpr, thresholds = metrics.roc_curve(y_test, y_pred_prob)\n",
    "\n",
    "plt.plot([0, 1], [0, 1], 'k--')\n",
    "plt.plot(fpr, tpr, label='Logistic Regression')\n",
    "                 \n",
    "print(\"R^2: {}\".format(logreg.score(X_test, y_test)))\n",
    "\n",
    "rmse = np.sqrt(metrics.mean_squared_error(y_test, y_pred))\n",
    "\n",
    "print(\"Root Mean Squared Error: {}\".format(rmse))\n",
    "\n",
    "print(metrics.roc_auc_score(y_test,y_pred_prob))\n",
    "\n",
    "print(metrics.confusion_matrix(y_test,y_pred))"
   ]
  },
  {
   "cell_type": "code",
   "execution_count": 160,
   "metadata": {
    "scrolled": true
   },
   "outputs": [
    {
     "data": {
      "text/plain": [
       "count    625.000000\n",
       "mean      21.516800\n",
       "std        1.975034\n",
       "min       18.000000\n",
       "25%       20.000000\n",
       "50%       21.000000\n",
       "75%       23.000000\n",
       "max       26.000000\n",
       "Name: age, dtype: float64"
      ]
     },
     "execution_count": 160,
     "metadata": {},
     "output_type": "execute_result"
    }
   ],
   "source": [
    "df_1000['age'].describe()"
   ]
  },
  {
   "cell_type": "code",
   "execution_count": 172,
   "metadata": {},
   "outputs": [
    {
     "data": {
      "text/plain": [
       "0.5456"
      ]
     },
     "execution_count": 172,
     "metadata": {},
     "output_type": "execute_result"
    }
   ],
   "source": [
    "conditions = [\n",
    "    (df_1000['age'] <= 21),\n",
    "    (df_1000['age'] > 21)]\n",
    "choices = [1, 0]\n",
    "df_1000['young'] = np.select(conditions, choices, default=np.nan)\n",
    "df_1000['young'].mean()"
   ]
  },
  {
   "cell_type": "code",
   "execution_count": 173,
   "metadata": {},
   "outputs": [],
   "source": [
    "def compute_cohen_effect_age(df, features):\n",
    "    res = pd.Series()\n",
    "\n",
    "    grouped = df.groupby('young')\n",
    "    for var in features:\n",
    "        groups = grouped[var]\n",
    "        young = groups.get_group(1)\n",
    "        old = groups.get_group(0)\n",
    "        d = cohen_effect_size(young, old)\n",
    "        res[var] = d\n",
    "        \n",
    "    return res"
   ]
  },
  {
   "cell_type": "code",
   "execution_count": 174,
   "metadata": {},
   "outputs": [
    {
     "name": "stderr",
     "output_type": "stream",
     "text": [
      "/home/eprice/anaconda3/lib/python3.6/site-packages/ipykernel_launcher.py:16: RuntimeWarning: divide by zero encountered in double_scalars\n",
      "  app.launch_new_instance()\n"
     ]
    },
    {
     "data": {
      "text/plain": [
       "young                   inf\n",
       "Insula_R           0.436826\n",
       "Precentral_R       0.410753\n",
       "Insula_L           0.374693\n",
       "Frontal_Mid_R      0.372729\n",
       "Temporal_Inf_R     0.359378\n",
       "Temporal_Mid_R     0.341947\n",
       "Frontal_Mid_L      0.339900\n",
       "Parietal_Inf_R     0.336717\n",
       "Rolandic_Oper_R    0.332593\n",
       "Fusiform_R         0.326248\n",
       "Heschl_R           0.323768\n",
       "dtype: float64"
      ]
     },
     "execution_count": 174,
     "metadata": {},
     "output_type": "execute_result"
    }
   ],
   "source": [
    "num_features = 12\n",
    "\n",
    "res = compute_cohen_effect_age(df_1000, features)\n",
    "\n",
    "top_by_cohen = res.sort_values(ascending=False).iloc[:num_features]"
   ]
  },
  {
   "cell_type": "code",
   "execution_count": 178,
   "metadata": {},
   "outputs": [
    {
     "name": "stdout",
     "output_type": "stream",
     "text": [
      "R^2: 0.5212765957446809\n",
      "Root Mean Squared Error: 0.6918984060216639\n",
      "0.5644459706959708\n",
      "[[26 58]\n",
      " [32 72]]\n"
     ]
    },
    {
     "data": {
      "image/png": "[encoded data removed]",
      "text/plain": [
       "<Figure size 432x288 with 1 Axes>"
      ]
     },
     "metadata": {
      "needs_background": "light"
     },
     "output_type": "display_data"
    }
   ],
   "source": [
    "features.append('young')\n",
    "temp = df_1000.drop(list(set(df_1000.columns).difference(set(features))), axis=1).dropna()\n",
    "features_norm.pop()\n",
    "\n",
    "y = temp['young']\n",
    "X = temp.drop('young', axis=1)\n",
    "\n",
    "y.mean()\n",
    "\n",
    "X_train, X_test, y_train, y_test = train_test_split(X, y, test_size = 0.3, random_state=42)\n",
    "\n",
    "logreg = linear_model.LogisticRegression()\n",
    "logreg.fit(X_train,y_train)\n",
    "\n",
    "y_pred = logreg.predict(X_test)\n",
    "y_pred_prob = logreg.predict_proba(X_test)[:,1]\n",
    "\n",
    "fpr, tpr, thresholds = metrics.roc_curve(y_test, y_pred_prob)\n",
    "\n",
    "plt.plot([0, 1], [0, 1], 'k--')\n",
    "plt.plot(fpr, tpr, label='Logistic Regression')\n",
    "                 \n",
    "print(\"R^2: {}\".format(logreg.score(X_test, y_test)))\n",
    "\n",
    "rmse = np.sqrt(metrics.mean_squared_error(y_test, y_pred))\n",
    "\n",
    "print(\"Root Mean Squared Error: {}\".format(rmse))\n",
    "\n",
    "print(metrics.roc_auc_score(y_test,y_pred_prob))\n",
    "\n",
    "print(metrics.confusion_matrix(y_test,y_pred))"
   ]
  },
  {
   "cell_type": "code",
   "execution_count": null,
   "metadata": {},
   "outputs": [],
   "source": []
  }
 ],
 "metadata": {
  "kernelspec": {
   "display_name": "Python 3",
   "language": "python",
   "name": "python3"
  },
  "language_info": {
   "codemirror_mode": {
    "name": "ipython",
    "version": 3
   },
   "file_extension": ".py",
   "mimetype": "text/x-python",
   "name": "python",
   "nbconvert_exporter": "python",
   "pygments_lexer": "ipython3",
   "version": "3.6.7"
  }
 },
 "nbformat": 4,
 "nbformat_minor": 2
}
