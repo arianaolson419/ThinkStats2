{
 "cells": [
  {
   "cell_type": "markdown",
   "metadata": {},
   "source": [
    "# Is there a difference between male and female brains?\n",
    "The topic of whether or not there is a typical \"male\" and \"female\" brain is hotly contested. Several studies, including [this one]() and [this one]() have used a mosaic of various brain features to try and answer this question, with conflicting results.\n",
    "\n",
    "One of the problems that arise from previous mosaic analysis is that they use the absolute volume of various features of the brain without taking into account that the mean size of a male person's brain is larger than a female person's brain because on average males are larger than females.\n",
    "\n",
    "In this analysis, we explore if male and female brains can be categorized using volumes of various brain regions expressed as percentages in order to remove the effect of total volume."
   ]
  },
  {
   "cell_type": "code",
   "execution_count": 2,
   "metadata": {},
   "outputs": [],
   "source": [
    "import numpy as np\n",
    "import matplotlib.pyplot as plt\n",
    "import pandas as pd"
   ]
  },
  {
   "cell_type": "markdown",
   "metadata": {},
   "source": [
    "## Explore the Data"
   ]
  }
 ],
 "metadata": {
  "kernelspec": {
   "display_name": "Python 3",
   "language": "python",
   "name": "python3"
  },
  "language_info": {
   "codemirror_mode": {
    "name": "ipython",
    "version": 3
   },
   "file_extension": ".py",
   "mimetype": "text/x-python",
   "name": "python",
   "nbconvert_exporter": "python",
   "pygments_lexer": "ipython3",
   "version": "3.6.7"
  }
 },
 "nbformat": 4,
 "nbformat_minor": 2
}
