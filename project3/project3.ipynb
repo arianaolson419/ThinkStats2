{
 "cells": [
  {
   "cell_type": "markdown",
   "metadata": {},
   "source": [
    "# Machine Learning and Comic Book Characters\n",
    "Ariana Olson, Emma Price"
   ]
  },
  {
   "cell_type": "code",
   "execution_count": 38,
   "metadata": {},
   "outputs": [],
   "source": [
    "import pandas as pd\n",
    "import numpy as np\n",
    "import matplotlib.pyplot as plt\n",
    "\n",
    "import thinkstats2\n",
    "import thinkplot\n",
    "\n",
    "import sklearn.linear_model as linear_model\n",
    "import sklearn.metrics as metrics\n",
    "from sklearn.model_selection import train_test_split\n",
    "\n",
    "import tensorflow as tf\n",
    "import keras.models\n",
    "import keras.layers\n",
    "\n",
    "import pickle"
   ]
  },
  {
   "cell_type": "markdown",
   "metadata": {},
   "source": [
    "## Explore the data"
   ]
  },
  {
   "cell_type": "code",
   "execution_count": 39,
   "metadata": {},
   "outputs": [],
   "source": [
    "with open('cat_dicts_both.pkl', 'rb') as f:\n",
    "    cat_dicts_both = pickle.load(f)\n",
    "    \n",
    "with open('cat_dicts_both.pkl', 'rb') as f:\n",
    "    cat_dicts_both = pickle.load(f)\n",
    "    \n",
    "with open('cat_dicts_both.pkl', 'rb') as f:\n",
    "    cat_dicts_both = pickle.load(f)"
   ]
  },
  {
   "cell_type": "code",
   "execution_count": 40,
   "metadata": {},
   "outputs": [],
   "source": [
    "both_df = pd.read_hdf('both_df.hdf5', key='both')\n",
    "marvel_df = pd.read_hdf('marvel_df.hdf5', key='marvel')\n",
    "dc_df = pd.read_hdf('dc_df.hdf5', key='dc')"
   ]
  },
  {
   "cell_type": "code",
   "execution_count": 41,
   "metadata": {},
   "outputs": [
    {
     "data": {
      "text/html": [
       "<div>\n",
       "<style scoped>\n",
       "    .dataframe tbody tr th:only-of-type {\n",
       "        vertical-align: middle;\n",
       "    }\n",
       "\n",
       "    .dataframe tbody tr th {\n",
       "        vertical-align: top;\n",
       "    }\n",
       "\n",
       "    .dataframe thead th {\n",
       "        text-align: right;\n",
       "    }\n",
       "</style>\n",
       "<table border=\"1\" class=\"dataframe\">\n",
       "  <thead>\n",
       "    <tr style=\"text-align: right;\">\n",
       "      <th></th>\n",
       "      <th>page_id</th>\n",
       "      <th>name</th>\n",
       "      <th>urlslug</th>\n",
       "      <th>ID</th>\n",
       "      <th>ALIGN</th>\n",
       "      <th>EYE</th>\n",
       "      <th>HAIR</th>\n",
       "      <th>SEX</th>\n",
       "      <th>GSM</th>\n",
       "      <th>ALIVE</th>\n",
       "      <th>APPEARANCES</th>\n",
       "      <th>YEAR</th>\n",
       "      <th>dcmar</th>\n",
       "    </tr>\n",
       "  </thead>\n",
       "  <tbody>\n",
       "    <tr>\n",
       "      <th>0</th>\n",
       "      <td>1422</td>\n",
       "      <td>2068</td>\n",
       "      <td>16973</td>\n",
       "      <td>4.0</td>\n",
       "      <td>1.0</td>\n",
       "      <td>4.0</td>\n",
       "      <td>2.0</td>\n",
       "      <td>4.0</td>\n",
       "      <td>3</td>\n",
       "      <td>1.0</td>\n",
       "      <td>3093.0</td>\n",
       "      <td>1939.0</td>\n",
       "      <td>1</td>\n",
       "    </tr>\n",
       "    <tr>\n",
       "      <th>1</th>\n",
       "      <td>23387</td>\n",
       "      <td>20237</td>\n",
       "      <td>22382</td>\n",
       "      <td>4.0</td>\n",
       "      <td>1.0</td>\n",
       "      <td>4.0</td>\n",
       "      <td>2.0</td>\n",
       "      <td>4.0</td>\n",
       "      <td>3</td>\n",
       "      <td>1.0</td>\n",
       "      <td>2496.0</td>\n",
       "      <td>1986.0</td>\n",
       "      <td>1</td>\n",
       "    </tr>\n",
       "    <tr>\n",
       "      <th>2</th>\n",
       "      <td>1458</td>\n",
       "      <td>8252</td>\n",
       "      <td>18863</td>\n",
       "      <td>4.0</td>\n",
       "      <td>1.0</td>\n",
       "      <td>5.0</td>\n",
       "      <td>6.0</td>\n",
       "      <td>4.0</td>\n",
       "      <td>3</td>\n",
       "      <td>1.0</td>\n",
       "      <td>1565.0</td>\n",
       "      <td>1959.0</td>\n",
       "      <td>1</td>\n",
       "    </tr>\n",
       "    <tr>\n",
       "      <th>3</th>\n",
       "      <td>1659</td>\n",
       "      <td>10042</td>\n",
       "      <td>19379</td>\n",
       "      <td>3.0</td>\n",
       "      <td>1.0</td>\n",
       "      <td>5.0</td>\n",
       "      <td>26.0</td>\n",
       "      <td>4.0</td>\n",
       "      <td>3</td>\n",
       "      <td>1.0</td>\n",
       "      <td>1316.0</td>\n",
       "      <td>1987.0</td>\n",
       "      <td>1</td>\n",
       "    </tr>\n",
       "    <tr>\n",
       "      <th>4</th>\n",
       "      <td>1576</td>\n",
       "      <td>17732</td>\n",
       "      <td>21655</td>\n",
       "      <td>4.0</td>\n",
       "      <td>1.0</td>\n",
       "      <td>4.0</td>\n",
       "      <td>2.0</td>\n",
       "      <td>4.0</td>\n",
       "      <td>3</td>\n",
       "      <td>1.0</td>\n",
       "      <td>1237.0</td>\n",
       "      <td>1940.0</td>\n",
       "      <td>1</td>\n",
       "    </tr>\n",
       "  </tbody>\n",
       "</table>\n",
       "</div>"
      ],
      "text/plain": [
       "   page_id   name  urlslug   ID  ALIGN  EYE  HAIR  SEX  GSM  ALIVE  \\\n",
       "0     1422   2068    16973  4.0    1.0  4.0   2.0  4.0    3    1.0   \n",
       "1    23387  20237    22382  4.0    1.0  4.0   2.0  4.0    3    1.0   \n",
       "2     1458   8252    18863  4.0    1.0  5.0   6.0  4.0    3    1.0   \n",
       "3     1659  10042    19379  3.0    1.0  5.0  26.0  4.0    3    1.0   \n",
       "4     1576  17732    21655  4.0    1.0  4.0   2.0  4.0    3    1.0   \n",
       "\n",
       "   APPEARANCES    YEAR  dcmar  \n",
       "0       3093.0  1939.0      1  \n",
       "1       2496.0  1986.0      1  \n",
       "2       1565.0  1959.0      1  \n",
       "3       1316.0  1987.0      1  \n",
       "4       1237.0  1940.0      1  "
      ]
     },
     "execution_count": 41,
     "metadata": {},
     "output_type": "execute_result"
    }
   ],
   "source": [
    "both_df.head()"
   ]
  },
  {
   "cell_type": "code",
   "execution_count": 42,
   "metadata": {},
   "outputs": [
    {
     "name": "stdout",
     "output_type": "stream",
     "text": [
      "<class 'pandas.core.frame.DataFrame'>\n",
      "Int64Index: 23272 entries, 0 to 16375\n",
      "Data columns (total 13 columns):\n",
      "page_id        23272 non-null int64\n",
      "name           23272 non-null int64\n",
      "urlslug        23272 non-null int64\n",
      "ID             17489 non-null float64\n",
      "ALIGN          19859 non-null float64\n",
      "EYE            9877 non-null float64\n",
      "HAIR           16734 non-null float64\n",
      "SEX            22293 non-null float64\n",
      "GSM            23272 non-null int64\n",
      "ALIVE          23266 non-null float64\n",
      "APPEARANCES    21821 non-null float64\n",
      "YEAR           22388 non-null float64\n",
      "dcmar          23272 non-null int64\n",
      "dtypes: float64(8), int64(5)\n",
      "memory usage: 2.5 MB\n"
     ]
    }
   ],
   "source": [
    "both_df.info()"
   ]
  },
  {
   "cell_type": "code",
   "execution_count": 43,
   "metadata": {},
   "outputs": [
    {
     "data": {
      "text/html": [
       "<div>\n",
       "<style scoped>\n",
       "    .dataframe tbody tr th:only-of-type {\n",
       "        vertical-align: middle;\n",
       "    }\n",
       "\n",
       "    .dataframe tbody tr th {\n",
       "        vertical-align: top;\n",
       "    }\n",
       "\n",
       "    .dataframe thead th {\n",
       "        text-align: right;\n",
       "    }\n",
       "</style>\n",
       "<table border=\"1\" class=\"dataframe\">\n",
       "  <thead>\n",
       "    <tr style=\"text-align: right;\">\n",
       "      <th></th>\n",
       "      <th>page_id</th>\n",
       "      <th>name</th>\n",
       "      <th>urlslug</th>\n",
       "      <th>ID</th>\n",
       "      <th>ALIGN</th>\n",
       "      <th>EYE</th>\n",
       "      <th>HAIR</th>\n",
       "      <th>SEX</th>\n",
       "      <th>GSM</th>\n",
       "      <th>ALIVE</th>\n",
       "      <th>APPEARANCES</th>\n",
       "      <th>YEAR</th>\n",
       "      <th>dcmar</th>\n",
       "    </tr>\n",
       "  </thead>\n",
       "  <tbody>\n",
       "    <tr>\n",
       "      <th>count</th>\n",
       "      <td>23272.000000</td>\n",
       "      <td>23272.000000</td>\n",
       "      <td>23272.000000</td>\n",
       "      <td>17489.000000</td>\n",
       "      <td>19859.000000</td>\n",
       "      <td>9877.000000</td>\n",
       "      <td>16734.000000</td>\n",
       "      <td>22293.000000</td>\n",
       "      <td>23272.000000</td>\n",
       "      <td>23266.000000</td>\n",
       "      <td>21821.000000</td>\n",
       "      <td>22388.000000</td>\n",
       "      <td>23272.000000</td>\n",
       "    </tr>\n",
       "    <tr>\n",
       "      <th>mean</th>\n",
       "      <td>254956.821932</td>\n",
       "      <td>11635.500000</td>\n",
       "      <td>11635.500000</td>\n",
       "      <td>3.390989</td>\n",
       "      <td>0.655773</td>\n",
       "      <td>7.875165</td>\n",
       "      <td>7.145154</td>\n",
       "      <td>3.209842</td>\n",
       "      <td>2.991363</td>\n",
       "      <td>0.765409</td>\n",
       "      <td>19.009303</td>\n",
       "      <td>1986.420046</td>\n",
       "      <td>0.296322</td>\n",
       "    </tr>\n",
       "    <tr>\n",
       "      <th>std</th>\n",
       "      <td>231417.093079</td>\n",
       "      <td>6718.192068</td>\n",
       "      <td>6718.192068</td>\n",
       "      <td>0.673747</td>\n",
       "      <td>0.711291</td>\n",
       "      <td>6.601569</td>\n",
       "      <td>7.213582</td>\n",
       "      <td>1.323814</td>\n",
       "      <td>0.131313</td>\n",
       "      <td>0.423752</td>\n",
       "      <td>93.814040</td>\n",
       "      <td>18.972698</td>\n",
       "      <td>0.456644</td>\n",
       "    </tr>\n",
       "    <tr>\n",
       "      <th>min</th>\n",
       "      <td>1025.000000</td>\n",
       "      <td>0.000000</td>\n",
       "      <td>0.000000</td>\n",
       "      <td>0.000000</td>\n",
       "      <td>0.000000</td>\n",
       "      <td>0.000000</td>\n",
       "      <td>0.000000</td>\n",
       "      <td>0.000000</td>\n",
       "      <td>0.000000</td>\n",
       "      <td>0.000000</td>\n",
       "      <td>1.000000</td>\n",
       "      <td>1935.000000</td>\n",
       "      <td>0.000000</td>\n",
       "    </tr>\n",
       "    <tr>\n",
       "      <th>25%</th>\n",
       "      <td>31385.750000</td>\n",
       "      <td>5817.750000</td>\n",
       "      <td>5817.750000</td>\n",
       "      <td>3.000000</td>\n",
       "      <td>0.000000</td>\n",
       "      <td>4.000000</td>\n",
       "      <td>2.000000</td>\n",
       "      <td>1.000000</td>\n",
       "      <td>3.000000</td>\n",
       "      <td>1.000000</td>\n",
       "      <td>1.000000</td>\n",
       "      <td>1976.000000</td>\n",
       "      <td>0.000000</td>\n",
       "    </tr>\n",
       "    <tr>\n",
       "      <th>50%</th>\n",
       "      <td>192263.500000</td>\n",
       "      <td>11635.500000</td>\n",
       "      <td>11635.500000</td>\n",
       "      <td>3.000000</td>\n",
       "      <td>1.000000</td>\n",
       "      <td>5.000000</td>\n",
       "      <td>3.000000</td>\n",
       "      <td>4.000000</td>\n",
       "      <td>3.000000</td>\n",
       "      <td>1.000000</td>\n",
       "      <td>4.000000</td>\n",
       "      <td>1990.000000</td>\n",
       "      <td>0.000000</td>\n",
       "    </tr>\n",
       "    <tr>\n",
       "      <th>75%</th>\n",
       "      <td>456337.750000</td>\n",
       "      <td>17453.250000</td>\n",
       "      <td>17453.250000</td>\n",
       "      <td>4.000000</td>\n",
       "      <td>1.000000</td>\n",
       "      <td>8.000000</td>\n",
       "      <td>10.000000</td>\n",
       "      <td>4.000000</td>\n",
       "      <td>3.000000</td>\n",
       "      <td>1.000000</td>\n",
       "      <td>10.000000</td>\n",
       "      <td>2001.000000</td>\n",
       "      <td>1.000000</td>\n",
       "    </tr>\n",
       "    <tr>\n",
       "      <th>max</th>\n",
       "      <td>755278.000000</td>\n",
       "      <td>23271.000000</td>\n",
       "      <td>23271.000000</td>\n",
       "      <td>4.000000</td>\n",
       "      <td>3.000000</td>\n",
       "      <td>25.000000</td>\n",
       "      <td>27.000000</td>\n",
       "      <td>5.000000</td>\n",
       "      <td>6.000000</td>\n",
       "      <td>1.000000</td>\n",
       "      <td>4043.000000</td>\n",
       "      <td>2013.000000</td>\n",
       "      <td>1.000000</td>\n",
       "    </tr>\n",
       "  </tbody>\n",
       "</table>\n",
       "</div>"
      ],
      "text/plain": [
       "             page_id          name       urlslug            ID         ALIGN  \\\n",
       "count   23272.000000  23272.000000  23272.000000  17489.000000  19859.000000   \n",
       "mean   254956.821932  11635.500000  11635.500000      3.390989      0.655773   \n",
       "std    231417.093079   6718.192068   6718.192068      0.673747      0.711291   \n",
       "min      1025.000000      0.000000      0.000000      0.000000      0.000000   \n",
       "25%     31385.750000   5817.750000   5817.750000      3.000000      0.000000   \n",
       "50%    192263.500000  11635.500000  11635.500000      3.000000      1.000000   \n",
       "75%    456337.750000  17453.250000  17453.250000      4.000000      1.000000   \n",
       "max    755278.000000  23271.000000  23271.000000      4.000000      3.000000   \n",
       "\n",
       "               EYE          HAIR           SEX           GSM         ALIVE  \\\n",
       "count  9877.000000  16734.000000  22293.000000  23272.000000  23266.000000   \n",
       "mean      7.875165      7.145154      3.209842      2.991363      0.765409   \n",
       "std       6.601569      7.213582      1.323814      0.131313      0.423752   \n",
       "min       0.000000      0.000000      0.000000      0.000000      0.000000   \n",
       "25%       4.000000      2.000000      1.000000      3.000000      1.000000   \n",
       "50%       5.000000      3.000000      4.000000      3.000000      1.000000   \n",
       "75%       8.000000     10.000000      4.000000      3.000000      1.000000   \n",
       "max      25.000000     27.000000      5.000000      6.000000      1.000000   \n",
       "\n",
       "        APPEARANCES          YEAR         dcmar  \n",
       "count  21821.000000  22388.000000  23272.000000  \n",
       "mean      19.009303   1986.420046      0.296322  \n",
       "std       93.814040     18.972698      0.456644  \n",
       "min        1.000000   1935.000000      0.000000  \n",
       "25%        1.000000   1976.000000      0.000000  \n",
       "50%        4.000000   1990.000000      0.000000  \n",
       "75%       10.000000   2001.000000      1.000000  \n",
       "max     4043.000000   2013.000000      1.000000  "
      ]
     },
     "execution_count": 43,
     "metadata": {},
     "output_type": "execute_result"
    }
   ],
   "source": [
    "both_df.describe()"
   ]
  },
  {
   "cell_type": "markdown",
   "metadata": {},
   "source": [
    "### Initial Scatter Plot"
   ]
  },
  {
   "cell_type": "markdown",
   "metadata": {},
   "source": [
    "To get a better understanding of how the data is connected, we performed an initial scatter plot matrix comparing all of the values to each other. We used the DC vs. Marvel feature as a third variable within each scatter plot, which allows us to see the variation between the two Universes. Both data sets include a large number of "
   ]
  },
  {
   "cell_type": "code",
   "execution_count": 58,
   "metadata": {},
   "outputs": [
    {
     "data": {
      "image/png": "[encoded data removed]",
      "text/plain": [
       "<Figure size 648x648 with 64 Axes>"
      ]
     },
     "metadata": {
      "needs_background": "light"
     },
     "output_type": "display_data"
    }
   ],
   "source": [
    "X = both_df.drop(['page_id', 'name','urlslug', 'GSM'], axis=1).dropna()\n",
    "X = X[X['APPEARANCES']>200]\n",
    "y = X['dcmar'].values\n",
    "X = X.drop('dcmar', axis=1).values\n",
    "\n",
    "df =  pd.DataFrame(X, columns = ['ID', 'ALIGN', 'EYE', 'HAIR', 'SEX','ALIVE','APP','YEAR'])\n",
    "\n",
    "\n",
    "_ = pd.plotting.scatter_matrix(df.dropna(), c=y, alpha = 0.3, figsize=[9,9])"
   ]
  },
  {
   "cell_type": "markdown",
   "metadata": {},
   "source": [
    "### Regression\n",
    "\n",
    "The `YEAR` feature has a lot of information contained in it - given that it spans 1930-2013."
   ]
  },
  {
   "cell_type": "code",
   "execution_count": 59,
   "metadata": {},
   "outputs": [
    {
     "name": "stdout",
     "output_type": "stream",
     "text": [
      "R^2: 0.10615096231386734\n",
      "Root Mean Squared Error: 16.90023499933578\n"
     ]
    }
   ],
   "source": [
    "y = both_df.dropna()['YEAR'].values\n",
    "X = both_df.dropna().drop(['YEAR', 'page_id', 'name','urlslug','GSM'], axis=1).values\n",
    "\n",
    "X_train, X_test, y_train, y_test = train_test_split(X, y, test_size = 0.3, random_state=42)\n",
    "\n",
    "linreg = linear_model.LinearRegression()\n",
    "\n",
    "linreg.fit(X_train,y_train)\n",
    "\n",
    "y_pred = linreg.predict(X_test)\n",
    "\n",
    "print(\"R^2: {}\".format(linreg.score(X_test, y_test)))\n",
    "\n",
    "rmse = np.sqrt(metrics.mean_squared_error(y_test, y_pred))\n",
    "\n",
    "print(\"Root Mean Squared Error: {}\".format(rmse))"
   ]
  },
  {
   "cell_type": "code",
   "execution_count": 60,
   "metadata": {},
   "outputs": [
    {
     "name": "stdout",
     "output_type": "stream",
     "text": [
      "[0.36657235 0.41843769 0.35551006 ... 0.32966555 0.26485166 0.35074036]\n"
     ]
    },
    {
     "name": "stderr",
     "output_type": "stream",
     "text": [
      "/home/eprice/anaconda3/lib/python3.6/site-packages/sklearn/linear_model/logistic.py:433: FutureWarning: Default solver will be changed to 'lbfgs' in 0.22. Specify a solver to silence this warning.\n",
      "  FutureWarning)\n"
     ]
    },
    {
     "name": "stdout",
     "output_type": "stream",
     "text": [
      "R^2: 0.6594965675057208\n",
      "Root Mean Squared Error: 0.5835267196061198\n",
      "0.5822205681538357\n",
      "[[1441    0]\n",
      " [ 744    0]]\n"
     ]
    },
    {
     "data": {
      "image/png": "[encoded data removed]",
      "text/plain": [
       "<Figure size 432x288 with 1 Axes>"
      ]
     },
     "metadata": {
      "needs_background": "light"
     },
     "output_type": "display_data"
    }
   ],
   "source": [
    "clean_df = both_df.drop(['page_id','name','urlslug', 'ID', 'GSM'], axis=1).dropna()\n",
    "\n",
    "y = clean_df['dcmar'].dropna().values\n",
    "X = clean_df.drop('dcmar', axis=1).dropna().values\n",
    "\n",
    "X_train, X_test, y_train, y_test = train_test_split(X, y, test_size = 0.3, random_state=42)\n",
    "\n",
    "logreg = linear_model.LogisticRegression()\n",
    "y_pred.mean()\n",
    "logreg.fit(X_train,y_train)\n",
    "\n",
    "y_pred = logreg.predict(X_test)\n",
    "y_pred.mean()\n",
    "y_pred_prob = logreg.predict_proba(X_test)[:,1]\n",
    "\n",
    "print(y_pred_prob)\n",
    "\n",
    "fpr, tpr, thresholds = metrics.roc_curve(y_test, y_pred_prob)\n",
    "\n",
    "plt.plot([0, 1], [0, 1], 'k--')\n",
    "plt.plot(fpr, tpr, label='Logistic Regression')\n",
    "                 \n",
    "print(\"R^2: {}\".format(logreg.score(X_test, y_test)))\n",
    "\n",
    "rmse = np.sqrt(metrics.mean_squared_error(y_test, y_pred))\n",
    "\n",
    "print(\"Root Mean Squared Error: {}\".format(rmse))\n",
    "\n",
    "print(metrics.roc_auc_score(y_test,y_pred_prob))\n",
    "\n",
    "print(metrics.confusion_matrix(y_test,y_pred))"
   ]
  },
  {
   "cell_type": "code",
   "execution_count": 61,
   "metadata": {},
   "outputs": [
    {
     "name": "stdout",
     "output_type": "stream",
     "text": [
      "R^2: 0.6594965675057208\n",
      "Root Mean Squared Error: 0.5835267196061198\n"
     ]
    }
   ],
   "source": [
    "clean_df = both_df.drop(['page_id','name','urlslug', 'ID', 'GSM'], axis=1).dropna()\n",
    "\n",
    "y = clean_df['dcmar'].dropna().values\n",
    "X = clean_df.drop('dcmar', axis=1).dropna().values\n",
    "\n",
    "X_train, X_test, y_train, y_test = train_test_split(X, y, test_size = 0.3, random_state=42)\n",
    "\n",
    "ridge = linear_model.RidgeClassifier(normalize=True)\n",
    "\n",
    "ridge.fit(X_train,y_train)\n",
    "\n",
    "y_pred = ridge.predict(X_test)\n",
    "                 \n",
    "print(\"R^2: {}\".format(ridge.score(X_test, y_test)))\n",
    "\n",
    "rmse = np.sqrt(metrics.mean_squared_error(y_test, y_pred))\n",
    "\n",
    "print(\"Root Mean Squared Error: {}\".format(rmse))"
   ]
  },
  {
   "cell_type": "code",
   "execution_count": 62,
   "metadata": {
    "scrolled": true
   },
   "outputs": [
    {
     "name": "stdout",
     "output_type": "stream",
     "text": [
      "R^2: 0.06673931540099798\n",
      "Root Mean Squared Error: 17.1693746284062\n"
     ]
    }
   ],
   "source": [
    "clean_df = both_df.drop(['page_id','name','urlslug', 'ID', 'GSM'], axis=1).dropna()\n",
    "\n",
    "y = clean_df['YEAR'].dropna().values\n",
    "X = clean_df.drop('YEAR', axis=1).dropna().values\n",
    "\n",
    "X_train, X_test, y_train, y_test = train_test_split(X, y, test_size = 0.3, random_state=42)\n",
    "\n",
    "ridge = linear_model.Ridge(normalize=True)\n",
    "\n",
    "ridge.fit(X_train,y_train)\n",
    "\n",
    "y_pred = ridge.predict(X_test)\n",
    "                 \n",
    "print(\"R^2: {}\".format(ridge.score(X_test, y_test)))\n",
    "\n",
    "rmse = np.sqrt(metrics.mean_squared_error(y_test, y_pred))\n",
    "\n",
    "print(\"Root Mean Squared Error: {}\".format(rmse))"
   ]
  },
  {
   "cell_type": "markdown",
   "metadata": {},
   "source": [
    "## Neural Networks\n",
    "In addition to linear models, we want to see how a simple neural network performs predicting whether or not a character is from the DC or Marvel universe."
   ]
  },
  {
   "cell_type": "code",
   "execution_count": 12,
   "metadata": {
    "scrolled": false
   },
   "outputs": [
    {
     "name": "stdout",
     "output_type": "stream",
     "text": [
      "WARNING:tensorflow:From /home/eprice/anaconda3/lib/python3.6/site-packages/tensorflow/python/framework/op_def_library.py:263: colocate_with (from tensorflow.python.framework.ops) is deprecated and will be removed in a future version.\n",
      "Instructions for updating:\n",
      "Colocations handled automatically by placer.\n",
      "WARNING:tensorflow:From /home/eprice/anaconda3/lib/python3.6/site-packages/tensorflow/python/ops/math_ops.py:3066: to_int32 (from tensorflow.python.ops.math_ops) is deprecated and will be removed in a future version.\n",
      "Instructions for updating:\n",
      "Use tf.cast instead.\n",
      "Epoch 1/50\n",
      "4629/4629 [==============================] - 1s 312us/step - loss: 2984121.2830 - mean_squared_error: 2984121.2830 - acc: 0.0000e+00\n",
      "Epoch 2/50\n",
      "4629/4629 [==============================] - 1s 189us/step - loss: 1108876.4247 - mean_squared_error: 1108876.4247 - acc: 0.0000e+00\n",
      "Epoch 3/50\n",
      "4629/4629 [==============================] - 1s 241us/step - loss: 659898.9686 - mean_squared_error: 659898.9686 - acc: 0.0000e+00\n",
      "Epoch 4/50\n",
      "4629/4629 [==============================] - 1s 218us/step - loss: 512741.6292 - mean_squared_error: 512741.6292 - acc: 4.3206e-04\n",
      "Epoch 5/50\n",
      "4629/4629 [==============================] - 1s 305us/step - loss: 390667.9761 - mean_squared_error: 390667.9761 - acc: 6.4809e-04\n",
      "Epoch 6/50\n",
      "4629/4629 [==============================] - 1s 238us/step - loss: 299185.4623 - mean_squared_error: 299185.4623 - acc: 4.3206e-04\n",
      "Epoch 7/50\n",
      "4629/4629 [==============================] - 1s 233us/step - loss: 241430.2379 - mean_squared_error: 241430.2379 - acc: 0.0011\n",
      "Epoch 8/50\n",
      "4629/4629 [==============================] - 1s 265us/step - loss: 212568.6558 - mean_squared_error: 212568.6558 - acc: 8.6412e-04\n",
      "Epoch 9/50\n",
      "4629/4629 [==============================] - 1s 226us/step - loss: 197510.7591 - mean_squared_error: 197510.7591 - acc: 8.6412e-04\n",
      "Epoch 10/50\n",
      "4629/4629 [==============================] - 1s 243us/step - loss: 183800.9361 - mean_squared_error: 183800.9361 - acc: 0.0011\n",
      "Epoch 11/50\n",
      "4629/4629 [==============================] - 1s 185us/step - loss: 172292.9866 - mean_squared_error: 172292.9866 - acc: 4.3206e-04\n",
      "Epoch 12/50\n",
      "4629/4629 [==============================] - 1s 194us/step - loss: 160986.0772 - mean_squared_error: 160986.0772 - acc: 6.4809e-04\n",
      "Epoch 13/50\n",
      "4629/4629 [==============================] - 1s 226us/step - loss: 148743.9772 - mean_squared_error: 148743.9772 - acc: 6.4809e-04\n",
      "Epoch 14/50\n",
      "4629/4629 [==============================] - 1s 188us/step - loss: 135390.2861 - mean_squared_error: 135390.2861 - acc: 6.4809e-04\n",
      "Epoch 15/50\n",
      "4629/4629 [==============================] - 1s 184us/step - loss: 122602.0988 - mean_squared_error: 122602.0988 - acc: 4.3206e-04\n",
      "Epoch 16/50\n",
      "4629/4629 [==============================] - 1s 195us/step - loss: 109530.0896 - mean_squared_error: 109530.0896 - acc: 8.6412e-04\n",
      "Epoch 17/50\n",
      "4629/4629 [==============================] - 1s 222us/step - loss: 95371.9326 - mean_squared_error: 95371.9326 - acc: 6.4809e-04\n",
      "Epoch 18/50\n",
      "4629/4629 [==============================] - 1s 235us/step - loss: 83878.2283 - mean_squared_error: 83878.2283 - acc: 4.3206e-04\n",
      "Epoch 19/50\n",
      "4629/4629 [==============================] - 1s 215us/step - loss: 66573.3567 - mean_squared_error: 66573.3567 - acc: 0.0015\n",
      "Epoch 20/50\n",
      "4629/4629 [==============================] - 1s 228us/step - loss: 57230.8980 - mean_squared_error: 57230.8980 - acc: 0.0022\n",
      "Epoch 21/50\n",
      "4629/4629 [==============================] - 1s 321us/step - loss: 36237.5653 - mean_squared_error: 36237.5653 - acc: 0.0013\n",
      "Epoch 22/50\n",
      "4629/4629 [==============================] - 1s 147us/step - loss: 23041.3154 - mean_squared_error: 23041.3154 - acc: 0.0015\n",
      "Epoch 23/50\n",
      "4629/4629 [==============================] - 1s 169us/step - loss: 13355.1309 - mean_squared_error: 13355.1309 - acc: 0.0039\n",
      "Epoch 24/50\n",
      "4629/4629 [==============================] - 1s 149us/step - loss: 19125.5886 - mean_squared_error: 19125.5886 - acc: 0.0041\n",
      "Epoch 25/50\n",
      "4629/4629 [==============================] - 1s 172us/step - loss: 3718.7290 - mean_squared_error: 3718.7290 - acc: 0.0073\n",
      "Epoch 26/50\n",
      "4629/4629 [==============================] - 1s 162us/step - loss: 4573.8950 - mean_squared_error: 4573.8950 - acc: 0.0119\n",
      "Epoch 27/50\n",
      "4629/4629 [==============================] - 1s 153us/step - loss: 5300.4726 - mean_squared_error: 5300.4726 - acc: 0.0114\n",
      "Epoch 28/50\n",
      "4629/4629 [==============================] - 1s 148us/step - loss: 5445.5015 - mean_squared_error: 5445.5015 - acc: 0.0134\n",
      "Epoch 29/50\n",
      "4629/4629 [==============================] - 1s 140us/step - loss: 3310.5223 - mean_squared_error: 3310.5223 - acc: 0.0138\n",
      "Epoch 30/50\n",
      "4629/4629 [==============================] - 1s 187us/step - loss: 1038.5820 - mean_squared_error: 1038.5820 - acc: 0.0145\n",
      "Epoch 31/50\n",
      "4629/4629 [==============================] - 1s 140us/step - loss: 11320.4801 - mean_squared_error: 11320.4801 - acc: 0.0147\n",
      "Epoch 32/50\n",
      "4629/4629 [==============================] - 1s 142us/step - loss: 1583.3205 - mean_squared_error: 1583.3205 - acc: 0.0162\n",
      "Epoch 33/50\n",
      "4629/4629 [==============================] - 1s 149us/step - loss: 1600.0551 - mean_squared_error: 1600.0551 - acc: 0.0186\n",
      "Epoch 34/50\n",
      "4629/4629 [==============================] - 1s 140us/step - loss: 4078.6416 - mean_squared_error: 4078.6416 - acc: 0.0169\n",
      "Epoch 35/50\n",
      "4629/4629 [==============================] - 1s 248us/step - loss: 3368.6462 - mean_squared_error: 3368.6462 - acc: 0.0143\n",
      "Epoch 36/50\n",
      "4629/4629 [==============================] - 1s 173us/step - loss: 4858.3221 - mean_squared_error: 4858.3221 - acc: 0.0149\n",
      "Epoch 37/50\n",
      "4629/4629 [==============================] - 1s 248us/step - loss: 4949.9003 - mean_squared_error: 4949.9003 - acc: 0.0169\n",
      "Epoch 38/50\n",
      "4629/4629 [==============================] - 1s 284us/step - loss: 2492.0800 - mean_squared_error: 2492.0800 - acc: 0.0199\n",
      "Epoch 39/50\n",
      "4629/4629 [==============================] - 2s 331us/step - loss: 1496.6715 - mean_squared_error: 1496.6715 - acc: 0.0169\n",
      "Epoch 40/50\n",
      "4629/4629 [==============================] - 2s 329us/step - loss: 9378.1026 - mean_squared_error: 9378.1026 - acc: 0.0136\n",
      "Epoch 41/50\n",
      "4629/4629 [==============================] - 1s 292us/step - loss: 1074.5091 - mean_squared_error: 1074.5091 - acc: 0.0181\n",
      "Epoch 42/50\n",
      "4629/4629 [==============================] - 1s 175us/step - loss: 1432.6972 - mean_squared_error: 1432.6972 - acc: 0.0169\n",
      "Epoch 43/50\n",
      "4629/4629 [==============================] - 1s 151us/step - loss: 2967.9230 - mean_squared_error: 2967.9230 - acc: 0.0201\n",
      "Epoch 44/50\n",
      "4629/4629 [==============================] - 1s 143us/step - loss: 10469.4262 - mean_squared_error: 10469.4262 - acc: 0.0119\n",
      "Epoch 45/50\n",
      "4629/4629 [==============================] - 1s 149us/step - loss: 2677.4565 - mean_squared_error: 2677.4565 - acc: 0.0138\n",
      "Epoch 46/50\n",
      "4629/4629 [==============================] - 1s 221us/step - loss: 2754.0031 - mean_squared_error: 2754.0031 - acc: 0.0175\n",
      "Epoch 47/50\n",
      "4629/4629 [==============================] - 1s 240us/step - loss: 2045.3866 - mean_squared_error: 2045.3866 - acc: 0.0175\n",
      "Epoch 48/50\n",
      "4629/4629 [==============================] - 1s 224us/step - loss: 949.1967 - mean_squared_error: 949.1967 - acc: 0.0207\n",
      "Epoch 49/50\n",
      "4629/4629 [==============================] - 1s 174us/step - loss: 4055.3402 - mean_squared_error: 4055.3402 - acc: 0.0210\n",
      "Epoch 50/50\n",
      "4629/4629 [==============================] - 1s 294us/step - loss: 1882.6577 - mean_squared_error: 1882.6577 - acc: 0.0179\n"
     ]
    }
   ],
   "source": [
    "clean_df = both_df.drop(['page_id','name','urlslug', 'ID', 'GSM'], axis=1).dropna()\n",
    "\n",
    "y = clean_df['YEAR'].dropna().values\n",
    "X = clean_df.drop('YEAR', axis=1).dropna().values\n",
    "\n",
    "X_train, X_test, y_train, y_test = train_test_split(X, y, test_size = 0.3, random_state=42)\n",
    "model = keras.models.Sequential()\n",
    "model.add(keras.layers.Dense(50, activation='relu', input_shape=(X.shape[-1],)))\n",
    "model.add(keras.layers.Dense(30, activation='relu'))\n",
    "model.add(keras.layers.Dense(10, activation='relu'))\n",
    "model.add(keras.layers.Dense(1))\n",
    "\n",
    "model.compile(optimizer='adam', loss='mean_squared_error',  metrics=['mse', 'acc'])\n",
    "history = model.fit(X_train, y_train, epochs=50, batch_size=10)"
   ]
  },
  {
   "cell_type": "markdown",
   "metadata": {},
   "source": [
    "It appears that the model we chose performs poorly, with an accuracy around 2%. This could be due to a number of factors having to do with model choices, but based on the performance of the logistic regression model that aims to make the same prediction, it is possible that the data we have is not well suited to answering this question. This could be due to the data set being too small or the character attributes not being differentiable enough between the tow universes."
   ]
  },
  {
   "cell_type": "code",
   "execution_count": 1,
   "metadata": {},
   "outputs": [
    {
     "ename": "NameError",
     "evalue": "name 'model' is not defined",
     "output_type": "error",
     "traceback": [
      "\u001b[0;31m---------------------------------------------------------------------------\u001b[0m",
      "\u001b[0;31mNameError\u001b[0m                                 Traceback (most recent call last)",
      "\u001b[0;32m<ipython-input-1-4355fef23f61>\u001b[0m in \u001b[0;36m<module>\u001b[0;34m\u001b[0m\n\u001b[0;32m----> 1\u001b[0;31m \u001b[0mscores\u001b[0m \u001b[0;34m=\u001b[0m \u001b[0mmodel\u001b[0m\u001b[0;34m.\u001b[0m\u001b[0mevaluate\u001b[0m\u001b[0;34m(\u001b[0m\u001b[0mX_test\u001b[0m\u001b[0;34m,\u001b[0m \u001b[0my_test\u001b[0m\u001b[0;34m)\u001b[0m\u001b[0;34m\u001b[0m\u001b[0;34m\u001b[0m\u001b[0m\n\u001b[0m\u001b[1;32m      2\u001b[0m \u001b[0mprint\u001b[0m\u001b[0;34m(\u001b[0m\u001b[0;34m\"{}: {}\"\u001b[0m\u001b[0;34m.\u001b[0m\u001b[0mformat\u001b[0m\u001b[0;34m(\u001b[0m\u001b[0mmodel\u001b[0m\u001b[0;34m.\u001b[0m\u001b[0mmetrics_names\u001b[0m\u001b[0;34m[\u001b[0m\u001b[0;36m0\u001b[0m\u001b[0;34m]\u001b[0m\u001b[0;34m,\u001b[0m \u001b[0mscores\u001b[0m\u001b[0;34m[\u001b[0m\u001b[0;36m0\u001b[0m\u001b[0;34m]\u001b[0m\u001b[0;34m)\u001b[0m\u001b[0;34m)\u001b[0m\u001b[0;34m\u001b[0m\u001b[0;34m\u001b[0m\u001b[0m\n\u001b[1;32m      3\u001b[0m \u001b[0mprint\u001b[0m\u001b[0;34m(\u001b[0m\u001b[0;34m\"{}: {}%\"\u001b[0m\u001b[0;34m.\u001b[0m\u001b[0mformat\u001b[0m\u001b[0;34m(\u001b[0m\u001b[0mmodel\u001b[0m\u001b[0;34m.\u001b[0m\u001b[0mmetrics_names\u001b[0m\u001b[0;34m[\u001b[0m\u001b[0;36m2\u001b[0m\u001b[0;34m]\u001b[0m\u001b[0;34m,\u001b[0m \u001b[0mscores\u001b[0m\u001b[0;34m[\u001b[0m\u001b[0;36m2\u001b[0m\u001b[0;34m]\u001b[0m \u001b[0;34m*\u001b[0m \u001b[0;36m100\u001b[0m\u001b[0;34m)\u001b[0m\u001b[0;34m)\u001b[0m\u001b[0;34m\u001b[0m\u001b[0;34m\u001b[0m\u001b[0m\n",
      "\u001b[0;31mNameError\u001b[0m: name 'model' is not defined"
     ]
    }
   ],
   "source": [
    "scores = model.evaluate(X_test, y_test)\n",
    "print(\"{}: {}\".format(model.metrics_names[0], scores[0]))\n",
    "print(\"{}: {}%\".format(model.metrics_names[2], scores[2] * 100))"
   ]
  },
  {
   "cell_type": "code",
   "execution_count": null,
   "metadata": {},
   "outputs": [],
   "source": [
    "plt.plot(history.history['acc'])"
   ]
  },
  {
   "cell_type": "code",
   "execution_count": null,
   "metadata": {},
   "outputs": [],
   "source": []
  }
 ],
 "metadata": {
  "kernelspec": {
   "display_name": "Python 3",
   "language": "python",
   "name": "python3"
  },
  "language_info": {
   "codemirror_mode": {
    "name": "ipython",
    "version": 3
   },
   "file_extension": ".py",
   "mimetype": "text/x-python",
   "name": "python",
   "nbconvert_exporter": "python",
   "pygments_lexer": "ipython3",
   "version": "3.6.7"
  }
 },
 "nbformat": 4,
 "nbformat_minor": 2
}
