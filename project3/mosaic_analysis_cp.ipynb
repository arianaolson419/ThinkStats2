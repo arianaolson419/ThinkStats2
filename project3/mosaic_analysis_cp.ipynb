{
 "cells": [
  {
   "cell_type": "markdown",
   "metadata": {},
   "source": [
    "# Is there a difference between male and female brains?\n",
    "The topic of whether or not there is a typical \"male\" and \"female\" brain is hotly contested. Several studies, including [Sex beyond the genitalia: The human brain mosaic](https://www.pnas.org/content/112/50/15468) and [Multivariate revisit to “sex beyond the genitalia”](https://www.pnas.org/content/113/14/E1966) have used a mosaic of various brain features to try and answer this question, with conflicting results.\n",
    "\n",
    "One of the problems that arise from previous mosaic analysis is that they use the absolute volume of various features of the brain without taking into account that the mean size of a male person's brain is larger than a female person's brain because on average males are larger than females.\n",
    "\n",
    "In this analysis, we explore if male and female brains can be categorized using volumes of various brain regions expressed as percentages in order to remove the effect of total volume."
   ]
  },
  {
   "cell_type": "code",
   "execution_count": 1,
   "metadata": {},
   "outputs": [],
   "source": [
    "import numpy as np\n",
    "import matplotlib.pyplot as plt\n",
    "import pandas as pd\n",
    "import seaborn as sns\n",
    "\n",
    "import sklearn.linear_model as linear_model\n",
    "import sklearn.metrics as metrics\n",
    "from sklearn.model_selection import train_test_split"
   ]
  },
  {
   "cell_type": "code",
   "execution_count": 2,
   "metadata": {},
   "outputs": [],
   "source": [
    "# Define figure saving variables.\n",
    "figsize = (10, 5)\n",
    "save_name = 'images/{}.png'"
   ]
  },
  {
   "cell_type": "markdown",
   "metadata": {},
   "source": [
    "## Explore the Data\n",
    "The NKI_SBA_Volume dataset contains the volumes of various regions of the brain for each participant in the study as well as the total volume of each brain."
   ]
  },
  {
   "cell_type": "code",
   "execution_count": 3,
   "metadata": {},
   "outputs": [],
   "source": [
    "df = pd.read_hdf('NKI_SBA_Volume.hdf5', key='NKI')"
   ]
  },
  {
   "cell_type": "markdown",
   "metadata": {},
   "source": [
    "Create a list of features from the volume variables in the dataset."
   ]
  },
  {
   "cell_type": "code",
   "execution_count": 4,
   "metadata": {},
   "outputs": [
    {
     "data": {
      "text/plain": [
       "69"
      ]
     },
     "execution_count": 4,
     "metadata": {},
     "output_type": "execute_result"
    }
   ],
   "source": [
    "features = [name for name in df.columns if name.endswith('volume')]\n",
    "len(features)"
   ]
  },
  {
   "cell_type": "code",
   "execution_count": 5,
   "metadata": {},
   "outputs": [
    {
     "data": {
      "text/plain": [
       "1    169\n",
       "0    103\n",
       "Name: bio_sex, dtype: int64"
      ]
     },
     "execution_count": 5,
     "metadata": {},
     "output_type": "execute_result"
    }
   ],
   "source": [
    "df['bio_sex'].value_counts()"
   ]
  },
  {
   "cell_type": "markdown",
   "metadata": {},
   "source": [
    "Below is the distribution of total brain volumes for all participants."
   ]
  },
  {
   "cell_type": "code",
   "execution_count": 6,
   "metadata": {},
   "outputs": [
    {
     "data": {
      "image/png": "[encoded data removed]",
      "text/plain": [
       "<Figure size 720x360 with 1 Axes>"
      ]
     },
     "metadata": {
      "needs_background": "light"
     },
     "output_type": "display_data"
    }
   ],
   "source": [
    "var = 'total_volume'\n",
    "plt.figure(figsize=figsize)\n",
    "sns.kdeplot(df[var].values);\n",
    "plt.title('Total Volume all Participants')\n",
    "plt.xlabel('Volume')\n",
    "plt.ylabel('Percentage')\n",
    "plt.savefig(save_name.format('total_volume_dist'))"
   ]
  },
  {
   "cell_type": "markdown",
   "metadata": {},
   "source": [
    "Below are the distributions of total brain volumes for male and female subjects. As expected, men have bigger brains. The female brain distribution is less variable than the male distribution."
   ]
  },
  {
   "cell_type": "code",
   "execution_count": 46,
   "metadata": {},
   "outputs": [
    {
     "ename": "KeyError",
     "evalue": "'Vermis_7'",
     "output_type": "error",
     "traceback": [
      "\u001b[0;31m---------------------------------------------------------------------------\u001b[0m",
      "\u001b[0;31mKeyError\u001b[0m                                  Traceback (most recent call last)",
      "\u001b[0;32m~/.local/lib/python3.6/site-packages/pandas/core/indexes/base.py\u001b[0m in \u001b[0;36mget_loc\u001b[0;34m(self, key, method, tolerance)\u001b[0m\n\u001b[1;32m   2656\u001b[0m             \u001b[0;32mtry\u001b[0m\u001b[0;34m:\u001b[0m\u001b[0;34m\u001b[0m\u001b[0;34m\u001b[0m\u001b[0m\n\u001b[0;32m-> 2657\u001b[0;31m                 \u001b[0;32mreturn\u001b[0m \u001b[0mself\u001b[0m\u001b[0;34m.\u001b[0m\u001b[0m_engine\u001b[0m\u001b[0;34m.\u001b[0m\u001b[0mget_loc\u001b[0m\u001b[0;34m(\u001b[0m\u001b[0mkey\u001b[0m\u001b[0;34m)\u001b[0m\u001b[0;34m\u001b[0m\u001b[0;34m\u001b[0m\u001b[0m\n\u001b[0m\u001b[1;32m   2658\u001b[0m             \u001b[0;32mexcept\u001b[0m \u001b[0mKeyError\u001b[0m\u001b[0;34m:\u001b[0m\u001b[0;34m\u001b[0m\u001b[0;34m\u001b[0m\u001b[0m\n",
      "\u001b[0;32mpandas/_libs/index.pyx\u001b[0m in \u001b[0;36mpandas._libs.index.IndexEngine.get_loc\u001b[0;34m()\u001b[0m\n",
      "\u001b[0;32mpandas/_libs/index.pyx\u001b[0m in \u001b[0;36mpandas._libs.index.IndexEngine.get_loc\u001b[0;34m()\u001b[0m\n",
      "\u001b[0;32mpandas/_libs/hashtable_class_helper.pxi\u001b[0m in \u001b[0;36mpandas._libs.hashtable.PyObjectHashTable.get_item\u001b[0;34m()\u001b[0m\n",
      "\u001b[0;32mpandas/_libs/hashtable_class_helper.pxi\u001b[0m in \u001b[0;36mpandas._libs.hashtable.PyObjectHashTable.get_item\u001b[0;34m()\u001b[0m\n",
      "\u001b[0;31mKeyError\u001b[0m: 'Vermis_7'",
      "\nDuring handling of the above exception, another exception occurred:\n",
      "\u001b[0;31mKeyError\u001b[0m                                  Traceback (most recent call last)",
      "\u001b[0;32m<ipython-input-46-d702b5375c12>\u001b[0m in \u001b[0;36m<module>\u001b[0;34m\u001b[0m\n\u001b[1;32m      3\u001b[0m \u001b[0;34m\u001b[0m\u001b[0m\n\u001b[1;32m      4\u001b[0m \u001b[0;31m# plt.figure(figsize=figsize)\u001b[0m\u001b[0;34m\u001b[0m\u001b[0;34m\u001b[0m\u001b[0;34m\u001b[0m\u001b[0m\n\u001b[0;32m----> 5\u001b[0;31m \u001b[0msns\u001b[0m\u001b[0;34m.\u001b[0m\u001b[0mkdeplot\u001b[0m\u001b[0;34m(\u001b[0m\u001b[0mdf\u001b[0m\u001b[0;34m.\u001b[0m\u001b[0mloc\u001b[0m\u001b[0;34m[\u001b[0m\u001b[0mmale\u001b[0m\u001b[0;34m,\u001b[0m \u001b[0mvar\u001b[0m\u001b[0;34m]\u001b[0m\u001b[0;34m,\u001b[0m \u001b[0mlabel\u001b[0m\u001b[0;34m=\u001b[0m\u001b[0;34m'male'\u001b[0m\u001b[0;34m)\u001b[0m\u001b[0;34m\u001b[0m\u001b[0;34m\u001b[0m\u001b[0m\n\u001b[0m\u001b[1;32m      6\u001b[0m \u001b[0msns\u001b[0m\u001b[0;34m.\u001b[0m\u001b[0mkdeplot\u001b[0m\u001b[0;34m(\u001b[0m\u001b[0mdf\u001b[0m\u001b[0;34m.\u001b[0m\u001b[0mloc\u001b[0m\u001b[0;34m[\u001b[0m\u001b[0mfemale\u001b[0m\u001b[0;34m,\u001b[0m \u001b[0mvar\u001b[0m\u001b[0;34m]\u001b[0m\u001b[0;34m,\u001b[0m \u001b[0mlabel\u001b[0m\u001b[0;34m=\u001b[0m\u001b[0;34m'female'\u001b[0m\u001b[0;34m)\u001b[0m\u001b[0;34m;\u001b[0m\u001b[0;34m\u001b[0m\u001b[0;34m\u001b[0m\u001b[0m\n\u001b[1;32m      7\u001b[0m \u001b[0mplt\u001b[0m\u001b[0;34m.\u001b[0m\u001b[0mtitle\u001b[0m\u001b[0;34m(\u001b[0m\u001b[0;34m\"Total Volume by Sex\"\u001b[0m\u001b[0;34m)\u001b[0m\u001b[0;34m\u001b[0m\u001b[0;34m\u001b[0m\u001b[0m\n",
      "\u001b[0;32m~/.local/lib/python3.6/site-packages/pandas/core/indexing.py\u001b[0m in \u001b[0;36m__getitem__\u001b[0;34m(self, key)\u001b[0m\n\u001b[1;32m   1492\u001b[0m             \u001b[0;32mexcept\u001b[0m \u001b[0;34m(\u001b[0m\u001b[0mKeyError\u001b[0m\u001b[0;34m,\u001b[0m \u001b[0mIndexError\u001b[0m\u001b[0;34m,\u001b[0m \u001b[0mAttributeError\u001b[0m\u001b[0;34m)\u001b[0m\u001b[0;34m:\u001b[0m\u001b[0;34m\u001b[0m\u001b[0;34m\u001b[0m\u001b[0m\n\u001b[1;32m   1493\u001b[0m                 \u001b[0;32mpass\u001b[0m\u001b[0;34m\u001b[0m\u001b[0;34m\u001b[0m\u001b[0m\n\u001b[0;32m-> 1494\u001b[0;31m             \u001b[0;32mreturn\u001b[0m \u001b[0mself\u001b[0m\u001b[0;34m.\u001b[0m\u001b[0m_getitem_tuple\u001b[0m\u001b[0;34m(\u001b[0m\u001b[0mkey\u001b[0m\u001b[0;34m)\u001b[0m\u001b[0;34m\u001b[0m\u001b[0;34m\u001b[0m\u001b[0m\n\u001b[0m\u001b[1;32m   1495\u001b[0m         \u001b[0;32melse\u001b[0m\u001b[0;34m:\u001b[0m\u001b[0;34m\u001b[0m\u001b[0;34m\u001b[0m\u001b[0m\n\u001b[1;32m   1496\u001b[0m             \u001b[0;31m# we by definition only have the 0th axis\u001b[0m\u001b[0;34m\u001b[0m\u001b[0;34m\u001b[0m\u001b[0;34m\u001b[0m\u001b[0m\n",
      "\u001b[0;32m~/.local/lib/python3.6/site-packages/pandas/core/indexing.py\u001b[0m in \u001b[0;36m_getitem_tuple\u001b[0;34m(self, tup)\u001b[0m\n\u001b[1;32m    866\u001b[0m     \u001b[0;32mdef\u001b[0m \u001b[0m_getitem_tuple\u001b[0m\u001b[0;34m(\u001b[0m\u001b[0mself\u001b[0m\u001b[0;34m,\u001b[0m \u001b[0mtup\u001b[0m\u001b[0;34m)\u001b[0m\u001b[0;34m:\u001b[0m\u001b[0;34m\u001b[0m\u001b[0;34m\u001b[0m\u001b[0m\n\u001b[1;32m    867\u001b[0m         \u001b[0;32mtry\u001b[0m\u001b[0;34m:\u001b[0m\u001b[0;34m\u001b[0m\u001b[0;34m\u001b[0m\u001b[0m\n\u001b[0;32m--> 868\u001b[0;31m             \u001b[0;32mreturn\u001b[0m \u001b[0mself\u001b[0m\u001b[0;34m.\u001b[0m\u001b[0m_getitem_lowerdim\u001b[0m\u001b[0;34m(\u001b[0m\u001b[0mtup\u001b[0m\u001b[0;34m)\u001b[0m\u001b[0;34m\u001b[0m\u001b[0;34m\u001b[0m\u001b[0m\n\u001b[0m\u001b[1;32m    869\u001b[0m         \u001b[0;32mexcept\u001b[0m \u001b[0mIndexingError\u001b[0m\u001b[0;34m:\u001b[0m\u001b[0;34m\u001b[0m\u001b[0;34m\u001b[0m\u001b[0m\n\u001b[1;32m    870\u001b[0m             \u001b[0;32mpass\u001b[0m\u001b[0;34m\u001b[0m\u001b[0;34m\u001b[0m\u001b[0m\n",
      "\u001b[0;32m~/.local/lib/python3.6/site-packages/pandas/core/indexing.py\u001b[0m in \u001b[0;36m_getitem_lowerdim\u001b[0;34m(self, tup)\u001b[0m\n\u001b[1;32m    986\u001b[0m         \u001b[0;32mfor\u001b[0m \u001b[0mi\u001b[0m\u001b[0;34m,\u001b[0m \u001b[0mkey\u001b[0m \u001b[0;32min\u001b[0m \u001b[0menumerate\u001b[0m\u001b[0;34m(\u001b[0m\u001b[0mtup\u001b[0m\u001b[0;34m)\u001b[0m\u001b[0;34m:\u001b[0m\u001b[0;34m\u001b[0m\u001b[0;34m\u001b[0m\u001b[0m\n\u001b[1;32m    987\u001b[0m             \u001b[0;32mif\u001b[0m \u001b[0mis_label_like\u001b[0m\u001b[0;34m(\u001b[0m\u001b[0mkey\u001b[0m\u001b[0;34m)\u001b[0m \u001b[0;32mor\u001b[0m \u001b[0misinstance\u001b[0m\u001b[0;34m(\u001b[0m\u001b[0mkey\u001b[0m\u001b[0;34m,\u001b[0m \u001b[0mtuple\u001b[0m\u001b[0;34m)\u001b[0m\u001b[0;34m:\u001b[0m\u001b[0;34m\u001b[0m\u001b[0;34m\u001b[0m\u001b[0m\n\u001b[0;32m--> 988\u001b[0;31m                 \u001b[0msection\u001b[0m \u001b[0;34m=\u001b[0m \u001b[0mself\u001b[0m\u001b[0;34m.\u001b[0m\u001b[0m_getitem_axis\u001b[0m\u001b[0;34m(\u001b[0m\u001b[0mkey\u001b[0m\u001b[0;34m,\u001b[0m \u001b[0maxis\u001b[0m\u001b[0;34m=\u001b[0m\u001b[0mi\u001b[0m\u001b[0;34m)\u001b[0m\u001b[0;34m\u001b[0m\u001b[0;34m\u001b[0m\u001b[0m\n\u001b[0m\u001b[1;32m    989\u001b[0m \u001b[0;34m\u001b[0m\u001b[0m\n\u001b[1;32m    990\u001b[0m                 \u001b[0;31m# we have yielded a scalar ?\u001b[0m\u001b[0;34m\u001b[0m\u001b[0;34m\u001b[0m\u001b[0;34m\u001b[0m\u001b[0m\n",
      "\u001b[0;32m~/.local/lib/python3.6/site-packages/pandas/core/indexing.py\u001b[0m in \u001b[0;36m_getitem_axis\u001b[0;34m(self, key, axis)\u001b[0m\n\u001b[1;32m   1911\u001b[0m         \u001b[0;31m# fall thru to straight lookup\u001b[0m\u001b[0;34m\u001b[0m\u001b[0;34m\u001b[0m\u001b[0;34m\u001b[0m\u001b[0m\n\u001b[1;32m   1912\u001b[0m         \u001b[0mself\u001b[0m\u001b[0;34m.\u001b[0m\u001b[0m_validate_key\u001b[0m\u001b[0;34m(\u001b[0m\u001b[0mkey\u001b[0m\u001b[0;34m,\u001b[0m \u001b[0maxis\u001b[0m\u001b[0;34m)\u001b[0m\u001b[0;34m\u001b[0m\u001b[0;34m\u001b[0m\u001b[0m\n\u001b[0;32m-> 1913\u001b[0;31m         \u001b[0;32mreturn\u001b[0m \u001b[0mself\u001b[0m\u001b[0;34m.\u001b[0m\u001b[0m_get_label\u001b[0m\u001b[0;34m(\u001b[0m\u001b[0mkey\u001b[0m\u001b[0;34m,\u001b[0m \u001b[0maxis\u001b[0m\u001b[0;34m=\u001b[0m\u001b[0maxis\u001b[0m\u001b[0;34m)\u001b[0m\u001b[0;34m\u001b[0m\u001b[0;34m\u001b[0m\u001b[0m\n\u001b[0m\u001b[1;32m   1914\u001b[0m \u001b[0;34m\u001b[0m\u001b[0m\n\u001b[1;32m   1915\u001b[0m \u001b[0;34m\u001b[0m\u001b[0m\n",
      "\u001b[0;32m~/.local/lib/python3.6/site-packages/pandas/core/indexing.py\u001b[0m in \u001b[0;36m_get_label\u001b[0;34m(self, label, axis)\u001b[0m\n\u001b[1;32m    139\u001b[0m             \u001b[0;32mraise\u001b[0m \u001b[0mIndexingError\u001b[0m\u001b[0;34m(\u001b[0m\u001b[0;34m'no slices here, handle elsewhere'\u001b[0m\u001b[0;34m)\u001b[0m\u001b[0;34m\u001b[0m\u001b[0;34m\u001b[0m\u001b[0m\n\u001b[1;32m    140\u001b[0m \u001b[0;34m\u001b[0m\u001b[0m\n\u001b[0;32m--> 141\u001b[0;31m         \u001b[0;32mreturn\u001b[0m \u001b[0mself\u001b[0m\u001b[0;34m.\u001b[0m\u001b[0mobj\u001b[0m\u001b[0;34m.\u001b[0m\u001b[0m_xs\u001b[0m\u001b[0;34m(\u001b[0m\u001b[0mlabel\u001b[0m\u001b[0;34m,\u001b[0m \u001b[0maxis\u001b[0m\u001b[0;34m=\u001b[0m\u001b[0maxis\u001b[0m\u001b[0;34m)\u001b[0m\u001b[0;34m\u001b[0m\u001b[0;34m\u001b[0m\u001b[0m\n\u001b[0m\u001b[1;32m    142\u001b[0m \u001b[0;34m\u001b[0m\u001b[0m\n\u001b[1;32m    143\u001b[0m     \u001b[0;32mdef\u001b[0m \u001b[0m_get_loc\u001b[0m\u001b[0;34m(\u001b[0m\u001b[0mself\u001b[0m\u001b[0;34m,\u001b[0m \u001b[0mkey\u001b[0m\u001b[0;34m,\u001b[0m \u001b[0maxis\u001b[0m\u001b[0;34m=\u001b[0m\u001b[0;32mNone\u001b[0m\u001b[0;34m)\u001b[0m\u001b[0;34m:\u001b[0m\u001b[0;34m\u001b[0m\u001b[0;34m\u001b[0m\u001b[0m\n",
      "\u001b[0;32m~/.local/lib/python3.6/site-packages/pandas/core/generic.py\u001b[0m in \u001b[0;36mxs\u001b[0;34m(self, key, axis, level, drop_level)\u001b[0m\n\u001b[1;32m   3574\u001b[0m \u001b[0;34m\u001b[0m\u001b[0m\n\u001b[1;32m   3575\u001b[0m         \u001b[0;32mif\u001b[0m \u001b[0maxis\u001b[0m \u001b[0;34m==\u001b[0m \u001b[0;36m1\u001b[0m\u001b[0;34m:\u001b[0m\u001b[0;34m\u001b[0m\u001b[0;34m\u001b[0m\u001b[0m\n\u001b[0;32m-> 3576\u001b[0;31m             \u001b[0;32mreturn\u001b[0m \u001b[0mself\u001b[0m\u001b[0;34m[\u001b[0m\u001b[0mkey\u001b[0m\u001b[0;34m]\u001b[0m\u001b[0;34m\u001b[0m\u001b[0;34m\u001b[0m\u001b[0m\n\u001b[0m\u001b[1;32m   3577\u001b[0m \u001b[0;34m\u001b[0m\u001b[0m\n\u001b[1;32m   3578\u001b[0m         \u001b[0mself\u001b[0m\u001b[0;34m.\u001b[0m\u001b[0m_consolidate_inplace\u001b[0m\u001b[0;34m(\u001b[0m\u001b[0;34m)\u001b[0m\u001b[0;34m\u001b[0m\u001b[0;34m\u001b[0m\u001b[0m\n",
      "\u001b[0;32m~/.local/lib/python3.6/site-packages/pandas/core/frame.py\u001b[0m in \u001b[0;36m__getitem__\u001b[0;34m(self, key)\u001b[0m\n\u001b[1;32m   2925\u001b[0m             \u001b[0;32mif\u001b[0m \u001b[0mself\u001b[0m\u001b[0;34m.\u001b[0m\u001b[0mcolumns\u001b[0m\u001b[0;34m.\u001b[0m\u001b[0mnlevels\u001b[0m \u001b[0;34m>\u001b[0m \u001b[0;36m1\u001b[0m\u001b[0;34m:\u001b[0m\u001b[0;34m\u001b[0m\u001b[0;34m\u001b[0m\u001b[0m\n\u001b[1;32m   2926\u001b[0m                 \u001b[0;32mreturn\u001b[0m \u001b[0mself\u001b[0m\u001b[0;34m.\u001b[0m\u001b[0m_getitem_multilevel\u001b[0m\u001b[0;34m(\u001b[0m\u001b[0mkey\u001b[0m\u001b[0;34m)\u001b[0m\u001b[0;34m\u001b[0m\u001b[0;34m\u001b[0m\u001b[0m\n\u001b[0;32m-> 2927\u001b[0;31m             \u001b[0mindexer\u001b[0m \u001b[0;34m=\u001b[0m \u001b[0mself\u001b[0m\u001b[0;34m.\u001b[0m\u001b[0mcolumns\u001b[0m\u001b[0;34m.\u001b[0m\u001b[0mget_loc\u001b[0m\u001b[0;34m(\u001b[0m\u001b[0mkey\u001b[0m\u001b[0;34m)\u001b[0m\u001b[0;34m\u001b[0m\u001b[0;34m\u001b[0m\u001b[0m\n\u001b[0m\u001b[1;32m   2928\u001b[0m             \u001b[0;32mif\u001b[0m \u001b[0mis_integer\u001b[0m\u001b[0;34m(\u001b[0m\u001b[0mindexer\u001b[0m\u001b[0;34m)\u001b[0m\u001b[0;34m:\u001b[0m\u001b[0;34m\u001b[0m\u001b[0;34m\u001b[0m\u001b[0m\n\u001b[1;32m   2929\u001b[0m                 \u001b[0mindexer\u001b[0m \u001b[0;34m=\u001b[0m \u001b[0;34m[\u001b[0m\u001b[0mindexer\u001b[0m\u001b[0;34m]\u001b[0m\u001b[0;34m\u001b[0m\u001b[0;34m\u001b[0m\u001b[0m\n",
      "\u001b[0;32m~/.local/lib/python3.6/site-packages/pandas/core/indexes/base.py\u001b[0m in \u001b[0;36mget_loc\u001b[0;34m(self, key, method, tolerance)\u001b[0m\n\u001b[1;32m   2657\u001b[0m                 \u001b[0;32mreturn\u001b[0m \u001b[0mself\u001b[0m\u001b[0;34m.\u001b[0m\u001b[0m_engine\u001b[0m\u001b[0;34m.\u001b[0m\u001b[0mget_loc\u001b[0m\u001b[0;34m(\u001b[0m\u001b[0mkey\u001b[0m\u001b[0;34m)\u001b[0m\u001b[0;34m\u001b[0m\u001b[0;34m\u001b[0m\u001b[0m\n\u001b[1;32m   2658\u001b[0m             \u001b[0;32mexcept\u001b[0m \u001b[0mKeyError\u001b[0m\u001b[0;34m:\u001b[0m\u001b[0;34m\u001b[0m\u001b[0;34m\u001b[0m\u001b[0m\n\u001b[0;32m-> 2659\u001b[0;31m                 \u001b[0;32mreturn\u001b[0m \u001b[0mself\u001b[0m\u001b[0;34m.\u001b[0m\u001b[0m_engine\u001b[0m\u001b[0;34m.\u001b[0m\u001b[0mget_loc\u001b[0m\u001b[0;34m(\u001b[0m\u001b[0mself\u001b[0m\u001b[0;34m.\u001b[0m\u001b[0m_maybe_cast_indexer\u001b[0m\u001b[0;34m(\u001b[0m\u001b[0mkey\u001b[0m\u001b[0;34m)\u001b[0m\u001b[0;34m)\u001b[0m\u001b[0;34m\u001b[0m\u001b[0;34m\u001b[0m\u001b[0m\n\u001b[0m\u001b[1;32m   2660\u001b[0m         \u001b[0mindexer\u001b[0m \u001b[0;34m=\u001b[0m \u001b[0mself\u001b[0m\u001b[0;34m.\u001b[0m\u001b[0mget_indexer\u001b[0m\u001b[0;34m(\u001b[0m\u001b[0;34m[\u001b[0m\u001b[0mkey\u001b[0m\u001b[0;34m]\u001b[0m\u001b[0;34m,\u001b[0m \u001b[0mmethod\u001b[0m\u001b[0;34m=\u001b[0m\u001b[0mmethod\u001b[0m\u001b[0;34m,\u001b[0m \u001b[0mtolerance\u001b[0m\u001b[0;34m=\u001b[0m\u001b[0mtolerance\u001b[0m\u001b[0;34m)\u001b[0m\u001b[0;34m\u001b[0m\u001b[0;34m\u001b[0m\u001b[0m\n\u001b[1;32m   2661\u001b[0m         \u001b[0;32mif\u001b[0m \u001b[0mindexer\u001b[0m\u001b[0;34m.\u001b[0m\u001b[0mndim\u001b[0m \u001b[0;34m>\u001b[0m \u001b[0;36m1\u001b[0m \u001b[0;32mor\u001b[0m \u001b[0mindexer\u001b[0m\u001b[0;34m.\u001b[0m\u001b[0msize\u001b[0m \u001b[0;34m>\u001b[0m \u001b[0;36m1\u001b[0m\u001b[0;34m:\u001b[0m\u001b[0;34m\u001b[0m\u001b[0;34m\u001b[0m\u001b[0m\n",
      "\u001b[0;32mpandas/_libs/index.pyx\u001b[0m in \u001b[0;36mpandas._libs.index.IndexEngine.get_loc\u001b[0;34m()\u001b[0m\n",
      "\u001b[0;32mpandas/_libs/index.pyx\u001b[0m in \u001b[0;36mpandas._libs.index.IndexEngine.get_loc\u001b[0;34m()\u001b[0m\n",
      "\u001b[0;32mpandas/_libs/hashtable_class_helper.pxi\u001b[0m in \u001b[0;36mpandas._libs.hashtable.PyObjectHashTable.get_item\u001b[0;34m()\u001b[0m\n",
      "\u001b[0;32mpandas/_libs/hashtable_class_helper.pxi\u001b[0m in \u001b[0;36mpandas._libs.hashtable.PyObjectHashTable.get_item\u001b[0;34m()\u001b[0m\n",
      "\u001b[0;31mKeyError\u001b[0m: 'Vermis_7'"
     ]
    }
   ],
   "source": [
    "male = df['bio_sex'] == 0\n",
    "female = df['bio_sex'] == 1\n",
    "\n",
    "# plt.figure(figsize=figsize)\n",
    "sns.kdeplot(df.loc[male, var], label='male')\n",
    "sns.kdeplot(df.loc[female, var], label='female');\n",
    "plt.title(\"Total Volume by Sex\")\n",
    "plt.xlabel('Volume')\n",
    "plt.ylabel('Percentage')\n",
    "# plt.savefig(save_name.format('total_volume_sex'))\n",
    "\n",
    "m_mean = df.loc[male, var].mean()\n",
    "m_std = df.loc[male, var].std()\n",
    "\n",
    "f_mean = df.loc[female, var].mean()\n",
    "f_std = df.loc[female, var].std()\n",
    "\n",
    "print(\"Male mean: {}\\t Female mean: {}\\nMale std: {}\\t Female std: {}\".format(m_mean, f_mean, m_std, f_std))"
   ]
  },
  {
   "cell_type": "markdown",
   "metadata": {},
   "source": [
    "## Cohen effect size\n",
    "### Sex\n",
    "\n",
    "To understand which variables will be the best for predicting male and female brains, we list the variables with the largest cohen effect size between the male and female groups."
   ]
  },
  {
   "cell_type": "code",
   "execution_count": 8,
   "metadata": {},
   "outputs": [],
   "source": [
    "def cohen_effect_size(group1, group2):\n",
    "    \"\"\"Compute Cohen's effect size (d).\n",
    "\n",
    "    group1: Series or NumPy array\n",
    "    group2: Series or NumPy array\n",
    "\n",
    "    returns: float\n",
    "    \"\"\"\n",
    "    diff = group1.mean() - group2.mean()\n",
    "\n",
    "    n1, n2 = len(group1), len(group2)\n",
    "    var1 = group1.var()\n",
    "    var2 = group2.var()\n",
    "\n",
    "    pooled_var = (n1 * var1 + n2 * var2) / (n1 + n2)\n",
    "    d = diff / np.sqrt(pooled_var)\n",
    "    return d"
   ]
  },
  {
   "cell_type": "code",
   "execution_count": 9,
   "metadata": {},
   "outputs": [],
   "source": [
    "def compute_cohen_effect(df, features):\n",
    "    res = pd.Series()\n",
    "\n",
    "    grouped = df.groupby('male')\n",
    "    for var in features:\n",
    "        groups = grouped[var]\n",
    "        male = groups.get_group(1)\n",
    "        female = groups.get_group(0)\n",
    "        d = cohen_effect_size(male, female)\n",
    "        res[var] = d\n",
    "        \n",
    "    return res"
   ]
  },
  {
   "cell_type": "markdown",
   "metadata": {},
   "source": [
    "Below are the top features by Cohen effect size. The biggest difference is in total volume, which is expected given the distributions shown above. It is likely that the other top features are strongly correlated with the total volume."
   ]
  },
  {
   "cell_type": "code",
   "execution_count": 10,
   "metadata": {},
   "outputs": [
    {
     "name": "stdout",
     "output_type": "stream",
     "text": [
      "total_volume                      0.998091\n",
      "rh_superiorfrontal_volume         0.970546\n",
      "rh_inferiortemporal_volume        0.964111\n",
      "rh_lateraloccipital_volume        0.960110\n",
      "rh_precuneus_volume               0.958064\n",
      "lh_middletemporal_volume          0.953209\n",
      "lh_superiorfrontal_volume         0.941572\n",
      "lh_medialorbitofrontal_volume     0.937211\n",
      "rh_rostralmiddlefrontal_volume    0.927699\n",
      "lh_inferiortemporal_volume        0.909025\n",
      "rh_fusiform_volume                0.890256\n",
      "rh_lateralorbitofrontal_volume    0.874188\n",
      "dtype: float64\n"
     ]
    }
   ],
   "source": [
    "num_features = 12\n",
    "\n",
    "res = compute_cohen_effect(df, features)\n",
    "top_by_cohen = res.sort_values(ascending=False).iloc[:num_features]\n",
    "print(top_by_cohen)"
   ]
  },
  {
   "cell_type": "markdown",
   "metadata": {},
   "source": [
    "Below is the distribution of the variable with the second highest cohen effect size. Note the similarity in the shape of the distributions to the shapes of the distributions of the total volumes."
   ]
  },
  {
   "cell_type": "code",
   "execution_count": 11,
   "metadata": {},
   "outputs": [
    {
     "name": "stdout",
     "output_type": "stream",
     "text": [
      "Male mean: 22546.252427184467\t Female mean: 19911.8224852071\n",
      "Male std: 3165.7150160914352\t Female std: 2397.9989657482133\n"
     ]
    },
    {
     "data": {
      "image/png": "[encoded data removed]",
      "text/plain": [
       "<Figure size 432x288 with 1 Axes>"
      ]
     },
     "metadata": {
      "needs_background": "light"
     },
     "output_type": "display_data"
    }
   ],
   "source": [
    "var = 'rh_superiorfrontal_volume'\n",
    "sns.kdeplot(df.loc[male, var], label='male')\n",
    "sns.kdeplot(df.loc[female, var], label='female');\n",
    "\n",
    "m_mean = df.loc[male, var].mean()\n",
    "m_std = df.loc[male, var].std()\n",
    "\n",
    "f_mean = df.loc[female, var].mean()\n",
    "f_std = df.loc[female, var].std()\n",
    "\n",
    "print(\"Male mean: {}\\t Female mean: {}\\nMale std: {}\\t Female std: {}\".format(m_mean, f_mean, m_std, f_std))"
   ]
  },
  {
   "cell_type": "markdown",
   "metadata": {},
   "source": [
    "Now, we express the volumes of the brain regions as percentages of the total volume in order to remove the effect of the total brain size."
   ]
  },
  {
   "cell_type": "code",
   "execution_count": 12,
   "metadata": {},
   "outputs": [],
   "source": [
    "def divide_by_vol(columns):\n",
    "    for column in columns:\n",
    "        df[column + '_norm'] = df[column]/df['total_volume']\n",
    "        \n",
    "columns = [name for name in df.columns if name.endswith('volume')]\n",
    "divide_by_vol(columns)"
   ]
  },
  {
   "cell_type": "code",
   "execution_count": 13,
   "metadata": {},
   "outputs": [
    {
     "data": {
      "text/plain": [
       "69"
      ]
     },
     "execution_count": 13,
     "metadata": {},
     "output_type": "execute_result"
    }
   ],
   "source": [
    "df.drop('total_volume_norm', axis = 1)\n",
    "features_norm = [name for name in df.columns if name.endswith('norm')]\n",
    "len(features)"
   ]
  },
  {
   "cell_type": "markdown",
   "metadata": {},
   "source": [
    "Below are the top features when we normalize for total volume. Note that the effect sizes are less than half of the top effect sizes without normalization. Additionally, the top features are not in the same order, nor are they all the same as the top features without normalization."
   ]
  },
  {
   "cell_type": "code",
   "execution_count": 14,
   "metadata": {},
   "outputs": [
    {
     "name": "stderr",
     "output_type": "stream",
     "text": [
      "/home/ariana/.local/lib/python3.6/site-packages/ipykernel_launcher.py:16: RuntimeWarning: invalid value encountered in double_scalars\n",
      "  app.launch_new_instance()\n"
     ]
    },
    {
     "data": {
      "text/plain": [
       "lh_middletemporal_volume_norm          0.416500\n",
       "rh_inferiortemporal_volume_norm        0.378245\n",
       "lh_rostralmiddlefrontal_volume_norm    0.337220\n",
       "rh_rostralmiddlefrontal_volume_norm    0.305688\n",
       "rh_middletemporal_volume_norm          0.300476\n",
       "lh_inferiortemporal_volume_norm        0.278646\n",
       "lh_medialorbitofrontal_volume_norm     0.259600\n",
       "rh_precuneus_volume_norm               0.249023\n",
       "lh_parsorbitalis_volume_norm           0.234720\n",
       "lh_supramarginal_volume_norm           0.205109\n",
       "rh_parsorbitalis_volume_norm           0.189739\n",
       "rh_inferiorparietal_volume_norm        0.184604\n",
       "dtype: float64"
      ]
     },
     "execution_count": 14,
     "metadata": {},
     "output_type": "execute_result"
    }
   ],
   "source": [
    "num_features = 12\n",
    "\n",
    "res = compute_cohen_effect(df, features_norm)\n",
    "top_by_cohen = res.sort_values(ascending=False).iloc[:num_features]\n",
    "top_by_cohen"
   ]
  },
  {
   "cell_type": "markdown",
   "metadata": {},
   "source": [
    "Below are the distributions of the feature with the highest Cohen effect size for the normalized features. Note that the shapes of the male and female distributions are more similar, and that they have very similar standard deviations."
   ]
  },
  {
   "cell_type": "code",
   "execution_count": 15,
   "metadata": {},
   "outputs": [
    {
     "name": "stdout",
     "output_type": "stream",
     "text": [
      "Male mean: 0.02359251219351494\t Female mean: 0.022660804997766168\n",
      "Male std: 0.0023213411278019264\t Female std: 0.002183987780623692\n"
     ]
    },
    {
     "data": {
      "image/png": "[encoded data removed]",
      "text/plain": [
       "<Figure size 432x288 with 1 Axes>"
      ]
     },
     "metadata": {
      "needs_background": "light"
     },
     "output_type": "display_data"
    }
   ],
   "source": [
    "var = 'lh_middletemporal_volume_norm'\n",
    "sns.kdeplot(df.loc[male, var], label='male')\n",
    "sns.kdeplot(df.loc[female, var], label='female');\n",
    "\n",
    "m_mean = df.loc[male, var].mean()\n",
    "m_std = df.loc[male, var].std()\n",
    "\n",
    "f_mean = df.loc[female, var].mean()\n",
    "f_std = df.loc[female, var].std()\n",
    "\n",
    "print(\"Male mean: {}\\t Female mean: {}\\nMale std: {}\\t Female std: {}\".format(m_mean, f_mean, m_std, f_std))"
   ]
  },
  {
   "cell_type": "markdown",
   "metadata": {},
   "source": [
    "Now, we use a logistic regression model using the unnormalized features to categorize male and female brains. Although the model does better than chance, the area under the ROC curve is only 0.72, the R^2 value is 0.67, and the RMSE is 0.57. The RMSE is very high considering that the range of values the model can output are only between 0 and 1. So, this is not a robust model for differentiating male and female brains."
   ]
  },
  {
   "cell_type": "code",
   "execution_count": 16,
   "metadata": {},
   "outputs": [
    {
     "name": "stderr",
     "output_type": "stream",
     "text": [
      "/usr/local/lib/python3.6/dist-packages/sklearn/linear_model/logistic.py:432: FutureWarning: Default solver will be changed to 'lbfgs' in 0.22. Specify a solver to silence this warning.\n",
      "  FutureWarning)\n"
     ]
    },
    {
     "name": "stdout",
     "output_type": "stream",
     "text": [
      "R^2: 0.6829268292682927\n",
      "Root Mean Squared Error: 0.563092506371473\n",
      "0.7208848405985686\n",
      "[[15 14]\n",
      " [12 41]]\n"
     ]
    },
    {
     "data": {
      "image/png": "[encoded data removed]",
      "text/plain": [
       "<Figure size 432x288 with 1 Axes>"
      ]
     },
     "metadata": {
      "needs_background": "light"
     },
     "output_type": "display_data"
    }
   ],
   "source": [
    "y = df['bio_sex']\n",
    "X = df.drop(list(set(df.columns).difference(set(features))), axis=1)\n",
    "\n",
    "y.mean()\n",
    "\n",
    "X_train, X_test, y_train, y_test = train_test_split(X, y, test_size = 0.3, random_state=42)\n",
    "\n",
    "logreg = linear_model.LogisticRegression()\n",
    "logreg.fit(X_train,y_train)\n",
    "\n",
    "y_pred = logreg.predict(X_test)\n",
    "y_pred_prob = logreg.predict_proba(X_test)[:,1]\n",
    "\n",
    "fpr, tpr, thresholds = metrics.roc_curve(y_test, y_pred_prob)\n",
    "\n",
    "plt.plot([0, 1], [0, 1], 'k--')\n",
    "plt.plot(fpr, tpr, label='Logistic Regression')\n",
    "                 \n",
    "print(\"R^2: {}\".format(logreg.score(X_test, y_test)))\n",
    "\n",
    "rmse = np.sqrt(metrics.mean_squared_error(y_test, y_pred))\n",
    "\n",
    "print(\"Root Mean Squared Error: {}\".format(rmse))\n",
    "\n",
    "print(metrics.roc_auc_score(y_test,y_pred_prob))\n",
    "\n",
    "print(metrics.confusion_matrix(y_test,y_pred))"
   ]
  },
  {
   "cell_type": "markdown",
   "metadata": {},
   "source": [
    "Now, we use the normalized features in the logistic regression model to predict if a brain is male or female. Although the area under the ROC is slightly larger, the R^2 value and RMSE are both slightly larger, so this model is also not a robust model for differentiating male and female brains."
   ]
  },
  {
   "cell_type": "code",
   "execution_count": 17,
   "metadata": {},
   "outputs": [
    {
     "name": "stderr",
     "output_type": "stream",
     "text": [
      "/usr/local/lib/python3.6/dist-packages/sklearn/linear_model/logistic.py:432: FutureWarning: Default solver will be changed to 'lbfgs' in 0.22. Specify a solver to silence this warning.\n",
      "  FutureWarning)\n"
     ]
    },
    {
     "name": "stdout",
     "output_type": "stream",
     "text": [
      "R^2: 0.6463414634146342\n",
      "Root Mean Squared Error: 0.59469196781642\n",
      "0.7807417046193884\n",
      "[[ 0 29]\n",
      " [ 0 53]]\n"
     ]
    },
    {
     "data": {
      "image/png": "[encoded data removed]",
      "text/plain": [
       "<Figure size 432x288 with 1 Axes>"
      ]
     },
     "metadata": {
      "needs_background": "light"
     },
     "output_type": "display_data"
    }
   ],
   "source": [
    "y = df['bio_sex']\n",
    "X = df.drop(list(set(df.columns).difference(set(features_norm))), axis=1)\n",
    "\n",
    "y.mean()\n",
    "\n",
    "X_train, X_test, y_train, y_test = train_test_split(X, y, test_size = 0.3, random_state=42)\n",
    "\n",
    "logreg = linear_model.LogisticRegression()\n",
    "logreg.fit(X_train,y_train)\n",
    "\n",
    "y_pred = logreg.predict(X_test)\n",
    "y_pred_prob = logreg.predict_proba(X_test)[:,1]\n",
    "\n",
    "fpr, tpr, thresholds = metrics.roc_curve(y_test, y_pred_prob)\n",
    "\n",
    "plt.plot([0, 1], [0, 1], 'k--')\n",
    "plt.plot(fpr, tpr, label='Logistic Regression')\n",
    "                 \n",
    "print(\"R^2: {}\".format(logreg.score(X_test, y_test)))\n",
    "\n",
    "rmse = np.sqrt(metrics.mean_squared_error(y_test, y_pred))\n",
    "\n",
    "print(\"Root Mean Squared Error: {}\".format(rmse))\n",
    "\n",
    "print(metrics.roc_auc_score(y_test,y_pred_prob))\n",
    "\n",
    "print(metrics.confusion_matrix(y_test,y_pred))"
   ]
  },
  {
   "cell_type": "markdown",
   "metadata": {},
   "source": [
    "### Age\n",
    "We want to see if the volume features can be used to predict the age of a participant. To do this, we split the participants into a \"young\" group and an \"old\" group, where the cutoff is the median age."
   ]
  },
  {
   "cell_type": "code",
   "execution_count": 18,
   "metadata": {},
   "outputs": [
    {
     "data": {
      "text/plain": [
       "count    272.000000\n",
       "mean      45.783088\n",
       "std       18.861331\n",
       "min       12.000000\n",
       "25%       26.000000\n",
       "50%       49.000000\n",
       "75%       60.000000\n",
       "max       85.000000\n",
       "Name: age, dtype: float64"
      ]
     },
     "execution_count": 18,
     "metadata": {},
     "output_type": "execute_result"
    }
   ],
   "source": [
    "df['age'].describe()"
   ]
  },
  {
   "cell_type": "code",
   "execution_count": 19,
   "metadata": {},
   "outputs": [
    {
     "data": {
      "image/png": "[encoded data removed]",
      "text/plain": [
       "<Figure size 432x288 with 1 Axes>"
      ]
     },
     "metadata": {
      "needs_background": "light"
     },
     "output_type": "display_data"
    }
   ],
   "source": [
    "var = 'total_volume'\n",
    "sns.kdeplot(df[var].values, label='all');\n",
    "\n",
    "young = (df['age'] <= 49) & (df ['age'] >= 26)\n",
    "old = (df['age'] >= 49) & (df['age'] <= 60)\n",
    "\n",
    "sns.kdeplot(df.loc[young, var], label='young')\n",
    "sns.kdeplot(df.loc[old, var], label='old');"
   ]
  },
  {
   "cell_type": "code",
   "execution_count": 20,
   "metadata": {},
   "outputs": [
    {
     "data": {
      "text/plain": [
       "0.5704225352112676"
      ]
     },
     "execution_count": 20,
     "metadata": {},
     "output_type": "execute_result"
    }
   ],
   "source": [
    "conditions = [\n",
    "    (df['age'] <= 49) & (df['age'] >= 26),\n",
    "    (df['age'] <= 60) & (df['age'] >= 49)]\n",
    "choices = [1, 0]\n",
    "df['young'] = np.select(conditions, choices, default=np.nan)\n",
    "df['young'].mean()"
   ]
  },
  {
   "cell_type": "code",
   "execution_count": 21,
   "metadata": {},
   "outputs": [],
   "source": [
    "def compute_cohen_effect_age(df, features):\n",
    "    res = pd.Series()\n",
    "\n",
    "    grouped = df.groupby('young')\n",
    "    for var in features:\n",
    "        groups = grouped[var]\n",
    "        young = groups.get_group(1)\n",
    "        old = groups.get_group(0)\n",
    "        d = cohen_effect_size(young, old)\n",
    "        res[var] = d\n",
    "        \n",
    "    return res"
   ]
  },
  {
   "cell_type": "code",
   "execution_count": 22,
   "metadata": {},
   "outputs": [],
   "source": [
    "num_features = 12\n",
    "\n",
    "res = compute_cohen_effect_age(df, features)\n",
    "\n",
    "top_by_cohen = res.sort_values(ascending=False).iloc[:num_features]"
   ]
  },
  {
   "cell_type": "code",
   "execution_count": 23,
   "metadata": {},
   "outputs": [
    {
     "name": "stderr",
     "output_type": "stream",
     "text": [
      "/home/ariana/.local/lib/python3.6/site-packages/ipykernel_launcher.py:16: RuntimeWarning: invalid value encountered in double_scalars\n",
      "  app.launch_new_instance()\n"
     ]
    }
   ],
   "source": [
    "num_features = 12\n",
    "\n",
    "res = compute_cohen_effect_age(df, features_norm)\n",
    "\n",
    "top_by_cohen = res.sort_values(ascending=False).iloc[:num_features]"
   ]
  },
  {
   "cell_type": "code",
   "execution_count": 24,
   "metadata": {},
   "outputs": [
    {
     "name": "stderr",
     "output_type": "stream",
     "text": [
      "/usr/local/lib/python3.6/dist-packages/sklearn/linear_model/logistic.py:432: FutureWarning: Default solver will be changed to 'lbfgs' in 0.22. Specify a solver to silence this warning.\n",
      "  FutureWarning)\n"
     ]
    },
    {
     "name": "stdout",
     "output_type": "stream",
     "text": [
      "R^2: 0.5348837209302325\n",
      "Root Mean Squared Error: 0.6819943394704735\n",
      "0.5326086956521738\n",
      "[[ 0 20]\n",
      " [ 0 23]]\n"
     ]
    },
    {
     "data": {
      "image/png": "[encoded data removed]",
      "text/plain": [
       "<Figure size 432x288 with 1 Axes>"
      ]
     },
     "metadata": {
      "needs_background": "light"
     },
     "output_type": "display_data"
    }
   ],
   "source": [
    "features_norm.append('young')\n",
    "temp = df.drop(list(set(df.columns).difference(set(features_norm))), axis=1).dropna()\n",
    "features_norm.pop()\n",
    "\n",
    "\n",
    "y = temp['young']\n",
    "X = temp.drop('young', axis=1)\n",
    "\n",
    "y.mean()\n",
    "\n",
    "X_train, X_test, y_train, y_test = train_test_split(X, y, test_size = 0.3, random_state=42)\n",
    "\n",
    "logreg = linear_model.LogisticRegression()\n",
    "logreg.fit(X_train,y_train)\n",
    "\n",
    "y_pred = logreg.predict(X_test)\n",
    "y_pred_prob = logreg.predict_proba(X_test)[:,1]\n",
    "\n",
    "fpr, tpr, thresholds = metrics.roc_curve(y_test, y_pred_prob)\n",
    "\n",
    "plt.plot([0, 1], [0, 1], 'k--')\n",
    "plt.plot(fpr, tpr, label='Logistic Regression')\n",
    "                 \n",
    "print(\"R^2: {}\".format(logreg.score(X_test, y_test)))\n",
    "\n",
    "rmse = np.sqrt(metrics.mean_squared_error(y_test, y_pred))\n",
    "\n",
    "print(\"Root Mean Squared Error: {}\".format(rmse))\n",
    "\n",
    "print(metrics.roc_auc_score(y_test,y_pred_prob))\n",
    "\n",
    "print(metrics.confusion_matrix(y_test,y_pred))"
   ]
  },
  {
   "cell_type": "code",
   "execution_count": 25,
   "metadata": {},
   "outputs": [
    {
     "data": {
      "text/plain": [
       "count    272.000000\n",
       "mean      45.783088\n",
       "std       18.861331\n",
       "min       12.000000\n",
       "25%       26.000000\n",
       "50%       49.000000\n",
       "75%       60.000000\n",
       "max       85.000000\n",
       "Name: age, dtype: float64"
      ]
     },
     "execution_count": 25,
     "metadata": {},
     "output_type": "execute_result"
    }
   ],
   "source": [
    "df['age'].describe()"
   ]
  },
  {
   "cell_type": "code",
   "execution_count": 26,
   "metadata": {},
   "outputs": [
    {
     "data": {
      "image/png": "[encoded data removed]",
      "text/plain": [
       "<Figure size 432x288 with 1 Axes>"
      ]
     },
     "metadata": {
      "needs_background": "light"
     },
     "output_type": "display_data"
    }
   ],
   "source": [
    "var = 'total_volume'\n",
    "sns.kdeplot(df[var].values, label='all');\n",
    "\n",
    "young2 = df['age'] <= 49\n",
    "old2 = df['age'] >= 49\n",
    "\n",
    "sns.kdeplot(df.loc[young2, var], label='young')\n",
    "sns.kdeplot(df.loc[old2, var], label='old');"
   ]
  },
  {
   "cell_type": "code",
   "execution_count": 27,
   "metadata": {},
   "outputs": [
    {
     "data": {
      "text/plain": [
       "0.5367647058823529"
      ]
     },
     "execution_count": 27,
     "metadata": {},
     "output_type": "execute_result"
    }
   ],
   "source": [
    "conditions = [\n",
    "    (df['age'] <= 49),\n",
    "    (df['age'] >= 49)]\n",
    "choices = [1, 0]\n",
    "df['young2'] = np.select(conditions, choices, default=np.nan)\n",
    "df['young2'].mean()"
   ]
  },
  {
   "cell_type": "code",
   "execution_count": 28,
   "metadata": {},
   "outputs": [],
   "source": [
    "def compute_cohen_effect_age(df, features):\n",
    "    res = pd.Series()\n",
    "\n",
    "    grouped = df.groupby('young2')\n",
    "    for var in features:\n",
    "        groups = grouped[var]\n",
    "        young = groups.get_group(1)\n",
    "        old = groups.get_group(0)\n",
    "        d = cohen_effect_size(young, old)\n",
    "        res[var] = d\n",
    "        \n",
    "    return res"
   ]
  },
  {
   "cell_type": "code",
   "execution_count": 29,
   "metadata": {},
   "outputs": [
    {
     "name": "stdout",
     "output_type": "stream",
     "text": [
      "lh_superiorfrontal_volume         1.192475\n",
      "lh_lateralorbitofrontal_volume    1.145116\n",
      "rh_superiorfrontal_volume         1.126841\n",
      "lh_rostralmiddlefrontal_volume    1.125618\n",
      "total_volume                      1.116835\n",
      "rh_bankssts_volume                1.089253\n",
      "lh_parstriangularis_volume        1.079199\n",
      "rh_parsopercularis_volume         1.071623\n",
      "rh_inferiorparietal_volume        1.066946\n",
      "lh_middletemporal_volume          1.063581\n",
      "rh_parstriangularis_volume        1.044952\n",
      "rh_lateralorbitofrontal_volume    1.027525\n",
      "dtype: float64\n"
     ]
    }
   ],
   "source": [
    "num_features = 12\n",
    "\n",
    "res = compute_cohen_effect_age(df, features)\n",
    "\n",
    "top_by_cohen = res.sort_values(ascending=False).iloc[:num_features]\n",
    "\n",
    "print(top_by_cohen)"
   ]
  },
  {
   "cell_type": "code",
   "execution_count": 30,
   "metadata": {},
   "outputs": [
    {
     "name": "stdout",
     "output_type": "stream",
     "text": [
      "lh_rostralmiddlefrontal_volume_norm    0.629192\n",
      "rh_bankssts_volume_norm                0.493653\n",
      "rh_parsopercularis_volume_norm         0.466349\n",
      "lh_middletemporal_volume_norm          0.461419\n",
      "lh_parstriangularis_volume_norm        0.457526\n",
      "rh_inferiorparietal_volume_norm        0.400318\n",
      "rh_middletemporal_volume_norm          0.389172\n",
      "rh_parstriangularis_volume_norm        0.375779\n",
      "lh_superiorfrontal_volume_norm         0.374386\n",
      "rh_parsorbitalis_volume_norm           0.352402\n",
      "lh_bankssts_volume_norm                0.323629\n",
      "lh_superiortemporal_volume_norm        0.296492\n",
      "dtype: float64\n"
     ]
    },
    {
     "name": "stderr",
     "output_type": "stream",
     "text": [
      "/home/ariana/.local/lib/python3.6/site-packages/ipykernel_launcher.py:16: RuntimeWarning: invalid value encountered in double_scalars\n",
      "  app.launch_new_instance()\n"
     ]
    }
   ],
   "source": [
    "num_features = 12\n",
    "\n",
    "res = compute_cohen_effect_age(df, features_norm)\n",
    "\n",
    "top_by_cohen = res.sort_values(ascending=False).iloc[:num_features]\n",
    "print(top_by_cohen)"
   ]
  },
  {
   "cell_type": "code",
   "execution_count": 31,
   "metadata": {},
   "outputs": [
    {
     "name": "stdout",
     "output_type": "stream",
     "text": [
      "R^2: 0.5853658536585366\n",
      "Root Mean Squared Error: 0.6439209162167846\n",
      "0.7481617647058824\n",
      "[[ 0 34]\n",
      " [ 0 48]]\n"
     ]
    },
    {
     "name": "stderr",
     "output_type": "stream",
     "text": [
      "/usr/local/lib/python3.6/dist-packages/sklearn/linear_model/logistic.py:432: FutureWarning: Default solver will be changed to 'lbfgs' in 0.22. Specify a solver to silence this warning.\n",
      "  FutureWarning)\n"
     ]
    },
    {
     "data": {
      "image/png": "[encoded data removed]",
      "text/plain": [
       "<Figure size 432x288 with 1 Axes>"
      ]
     },
     "metadata": {
      "needs_background": "light"
     },
     "output_type": "display_data"
    }
   ],
   "source": [
    "features_norm.append('young2')\n",
    "temp = df.drop(list(set(df.columns).difference(set(features_norm))), axis=1).dropna()\n",
    "features_norm.pop()\n",
    "\n",
    "\n",
    "y = temp['young2']\n",
    "X = temp.drop('young2', axis=1)\n",
    "\n",
    "y.mean()\n",
    "\n",
    "X_train, X_test, y_train, y_test = train_test_split(X, y, test_size = 0.3, random_state=42)\n",
    "\n",
    "logreg = linear_model.LogisticRegression()\n",
    "logreg.fit(X_train,y_train)\n",
    "\n",
    "y_pred = logreg.predict(X_test)\n",
    "y_pred_prob = logreg.predict_proba(X_test)[:,1]\n",
    "\n",
    "fpr, tpr, thresholds = metrics.roc_curve(y_test, y_pred_prob)\n",
    "\n",
    "plt.plot([0, 1], [0, 1], 'k--')\n",
    "plt.plot(fpr, tpr, label='Logistic Regression')\n",
    "                 \n",
    "print(\"R^2: {}\".format(logreg.score(X_test, y_test)))\n",
    "\n",
    "rmse = np.sqrt(metrics.mean_squared_error(y_test, y_pred))\n",
    "\n",
    "print(\"Root Mean Squared Error: {}\".format(rmse))\n",
    "\n",
    "print(metrics.roc_auc_score(y_test,y_pred_prob))\n",
    "\n",
    "print(metrics.confusion_matrix(y_test,y_pred))"
   ]
  },
  {
   "cell_type": "code",
   "execution_count": 32,
   "metadata": {},
   "outputs": [
    {
     "data": {
      "text/html": [
       "<div>\n",
       "<style scoped>\n",
       "    .dataframe tbody tr th:only-of-type {\n",
       "        vertical-align: middle;\n",
       "    }\n",
       "\n",
       "    .dataframe tbody tr th {\n",
       "        vertical-align: top;\n",
       "    }\n",
       "\n",
       "    .dataframe thead th {\n",
       "        text-align: right;\n",
       "    }\n",
       "</style>\n",
       "<table border=\"1\" class=\"dataframe\">\n",
       "  <thead>\n",
       "    <tr style=\"text-align: right;\">\n",
       "      <th></th>\n",
       "      <th>bio_sex</th>\n",
       "      <th>age</th>\n",
       "      <th>Precentral_L</th>\n",
       "      <th>Precentral_R</th>\n",
       "      <th>Frontal_Sup_L</th>\n",
       "      <th>Frontal_Sup_R</th>\n",
       "      <th>Frontal_Sup_Orb_L</th>\n",
       "      <th>Frontal_Sup_Orb_R</th>\n",
       "      <th>Frontal_Mid_L</th>\n",
       "      <th>Frontal_Mid_R</th>\n",
       "      <th>...</th>\n",
       "      <th>Cerebelum_00_L</th>\n",
       "      <th>Cerebelum_00_R</th>\n",
       "      <th>Vermis_0_2</th>\n",
       "      <th>Vermis_3</th>\n",
       "      <th>Vermis_4_5</th>\n",
       "      <th>Vermis_6</th>\n",
       "      <th>Vermis_7</th>\n",
       "      <th>Vermis_8</th>\n",
       "      <th>Vermis_9</th>\n",
       "      <th>Vermis_00</th>\n",
       "    </tr>\n",
       "  </thead>\n",
       "  <tbody>\n",
       "    <tr>\n",
       "      <th>0</th>\n",
       "      <td>1</td>\n",
       "      <td>18</td>\n",
       "      <td>0.436035</td>\n",
       "      <td>0.406023</td>\n",
       "      <td>0.361779</td>\n",
       "      <td>0.369537</td>\n",
       "      <td>0.495171</td>\n",
       "      <td>0.479090</td>\n",
       "      <td>0.420118</td>\n",
       "      <td>0.444269</td>\n",
       "      <td>...</td>\n",
       "      <td>0.257104</td>\n",
       "      <td>0.247064</td>\n",
       "      <td>0.431084</td>\n",
       "      <td>0.471217</td>\n",
       "      <td>0.572555</td>\n",
       "      <td>0.590969</td>\n",
       "      <td>0.575713</td>\n",
       "      <td>0.558999</td>\n",
       "      <td>0.524192</td>\n",
       "      <td>0.226187</td>\n",
       "    </tr>\n",
       "    <tr>\n",
       "      <th>1</th>\n",
       "      <td>1</td>\n",
       "      <td>18</td>\n",
       "      <td>0.422395</td>\n",
       "      <td>0.430086</td>\n",
       "      <td>0.383270</td>\n",
       "      <td>0.390875</td>\n",
       "      <td>0.477471</td>\n",
       "      <td>0.450275</td>\n",
       "      <td>0.448891</td>\n",
       "      <td>0.460303</td>\n",
       "      <td>...</td>\n",
       "      <td>0.245738</td>\n",
       "      <td>0.197609</td>\n",
       "      <td>0.383902</td>\n",
       "      <td>0.421114</td>\n",
       "      <td>0.501804</td>\n",
       "      <td>0.560840</td>\n",
       "      <td>0.566743</td>\n",
       "      <td>0.572814</td>\n",
       "      <td>0.505971</td>\n",
       "      <td>0.202734</td>\n",
       "    </tr>\n",
       "    <tr>\n",
       "      <th>2</th>\n",
       "      <td>1</td>\n",
       "      <td>18</td>\n",
       "      <td>0.439540</td>\n",
       "      <td>0.430842</td>\n",
       "      <td>0.385297</td>\n",
       "      <td>0.376834</td>\n",
       "      <td>0.520610</td>\n",
       "      <td>0.472500</td>\n",
       "      <td>0.454426</td>\n",
       "      <td>0.417339</td>\n",
       "      <td>...</td>\n",
       "      <td>0.245801</td>\n",
       "      <td>0.246097</td>\n",
       "      <td>0.418835</td>\n",
       "      <td>0.424117</td>\n",
       "      <td>0.510495</td>\n",
       "      <td>0.597151</td>\n",
       "      <td>0.604129</td>\n",
       "      <td>0.618324</td>\n",
       "      <td>0.606951</td>\n",
       "      <td>0.285061</td>\n",
       "    </tr>\n",
       "    <tr>\n",
       "      <th>3</th>\n",
       "      <td>1</td>\n",
       "      <td>18</td>\n",
       "      <td>0.473102</td>\n",
       "      <td>0.449665</td>\n",
       "      <td>0.416976</td>\n",
       "      <td>0.417434</td>\n",
       "      <td>0.536880</td>\n",
       "      <td>0.532697</td>\n",
       "      <td>0.471110</td>\n",
       "      <td>0.502046</td>\n",
       "      <td>...</td>\n",
       "      <td>0.215978</td>\n",
       "      <td>0.202993</td>\n",
       "      <td>0.395247</td>\n",
       "      <td>0.431441</td>\n",
       "      <td>0.524903</td>\n",
       "      <td>0.577355</td>\n",
       "      <td>0.629283</td>\n",
       "      <td>0.642825</td>\n",
       "      <td>0.570416</td>\n",
       "      <td>0.231166</td>\n",
       "    </tr>\n",
       "    <tr>\n",
       "      <th>4</th>\n",
       "      <td>1</td>\n",
       "      <td>18</td>\n",
       "      <td>0.382771</td>\n",
       "      <td>0.380443</td>\n",
       "      <td>0.347929</td>\n",
       "      <td>0.359899</td>\n",
       "      <td>0.463163</td>\n",
       "      <td>0.453011</td>\n",
       "      <td>0.393531</td>\n",
       "      <td>0.393259</td>\n",
       "      <td>...</td>\n",
       "      <td>0.236000</td>\n",
       "      <td>0.277785</td>\n",
       "      <td>0.370647</td>\n",
       "      <td>0.434968</td>\n",
       "      <td>0.583758</td>\n",
       "      <td>0.564699</td>\n",
       "      <td>0.543617</td>\n",
       "      <td>0.546831</td>\n",
       "      <td>0.565252</td>\n",
       "      <td>0.247790</td>\n",
       "    </tr>\n",
       "  </tbody>\n",
       "</table>\n",
       "<p>5 rows × 118 columns</p>\n",
       "</div>"
      ],
      "text/plain": [
       "   bio_sex  age  Precentral_L  Precentral_R  Frontal_Sup_L  Frontal_Sup_R  \\\n",
       "0        1   18      0.436035      0.406023       0.361779       0.369537   \n",
       "1        1   18      0.422395      0.430086       0.383270       0.390875   \n",
       "2        1   18      0.439540      0.430842       0.385297       0.376834   \n",
       "3        1   18      0.473102      0.449665       0.416976       0.417434   \n",
       "4        1   18      0.382771      0.380443       0.347929       0.359899   \n",
       "\n",
       "   Frontal_Sup_Orb_L  Frontal_Sup_Orb_R  Frontal_Mid_L  Frontal_Mid_R  ...  \\\n",
       "0           0.495171           0.479090       0.420118       0.444269  ...   \n",
       "1           0.477471           0.450275       0.448891       0.460303  ...   \n",
       "2           0.520610           0.472500       0.454426       0.417339  ...   \n",
       "3           0.536880           0.532697       0.471110       0.502046  ...   \n",
       "4           0.463163           0.453011       0.393531       0.393259  ...   \n",
       "\n",
       "   Cerebelum_00_L  Cerebelum_00_R  Vermis_0_2  Vermis_3  Vermis_4_5  Vermis_6  \\\n",
       "0        0.257104        0.247064    0.431084  0.471217    0.572555  0.590969   \n",
       "1        0.245738        0.197609    0.383902  0.421114    0.501804  0.560840   \n",
       "2        0.245801        0.246097    0.418835  0.424117    0.510495  0.597151   \n",
       "3        0.215978        0.202993    0.395247  0.431441    0.524903  0.577355   \n",
       "4        0.236000        0.277785    0.370647  0.434968    0.583758  0.564699   \n",
       "\n",
       "   Vermis_7  Vermis_8  Vermis_9  Vermis_00  \n",
       "0  0.575713  0.558999  0.524192   0.226187  \n",
       "1  0.566743  0.572814  0.505971   0.202734  \n",
       "2  0.604129  0.618324  0.606951   0.285061  \n",
       "3  0.629283  0.642825  0.570416   0.231166  \n",
       "4  0.543617  0.546831  0.565252   0.247790  \n",
       "\n",
       "[5 rows x 118 columns]"
      ]
     },
     "execution_count": 32,
     "metadata": {},
     "output_type": "execute_result"
    }
   ],
   "source": [
    "df_1000 = pd.read_excel('brain_mosaic_data/1000_Connectomes_age_18-26_VBM.xlsx')\n",
    "df_1000.head()"
   ]
  },
  {
   "cell_type": "code",
   "execution_count": 33,
   "metadata": {},
   "outputs": [
    {
     "data": {
      "text/plain": [
       "Index(['bio_sex', 'age', 'Precentral_L', 'Precentral_R', 'Frontal_Sup_L',\n",
       "       'Frontal_Sup_R', 'Frontal_Sup_Orb_L', 'Frontal_Sup_Orb_R',\n",
       "       'Frontal_Mid_L', 'Frontal_Mid_R',\n",
       "       ...\n",
       "       'Cerebelum_00_L', 'Cerebelum_00_R', 'Vermis_0_2', 'Vermis_3',\n",
       "       'Vermis_4_5', 'Vermis_6', 'Vermis_7', 'Vermis_8', 'Vermis_9',\n",
       "       'Vermis_00'],\n",
       "      dtype='object', length=118)"
      ]
     },
     "execution_count": 33,
     "metadata": {},
     "output_type": "execute_result"
    }
   ],
   "source": [
    "df_1000.columns"
   ]
  },
  {
   "cell_type": "code",
   "execution_count": 34,
   "metadata": {},
   "outputs": [
    {
     "data": {
      "text/plain": [
       "1    385\n",
       "0    240\n",
       "Name: bio_sex, dtype: int64"
      ]
     },
     "execution_count": 34,
     "metadata": {},
     "output_type": "execute_result"
    }
   ],
   "source": [
    "df_1000['bio_sex'].replace(1, 0, inplace=True)\n",
    "df_1000['bio_sex'].replace(2, 1, inplace=True)\n",
    "\n",
    "male = df_1000['bio_sex'] == 0\n",
    "female = df_1000['bio_sex'] == 1\n",
    "df_1000['bio_sex'].value_counts()"
   ]
  },
  {
   "cell_type": "markdown",
   "metadata": {},
   "source": [
    "Distributions of total volume for male and female subjects.  As expected, men have bigger brains."
   ]
  },
  {
   "cell_type": "markdown",
   "metadata": {},
   "source": [
    "## Cohen effect size\n",
    "\n",
    "Let's look for the features that show the biggest difference between men and women."
   ]
  },
  {
   "cell_type": "markdown",
   "metadata": {},
   "source": [
    "Here are the top features by Cohen effect size.  The biggest difference is in total volume.  I suspect that the other top candidates are strongly correlated with total volume."
   ]
  },
  {
   "cell_type": "code",
   "execution_count": 35,
   "metadata": {},
   "outputs": [],
   "source": [
    "def compute_cohen_effect(df, features):\n",
    "    res = pd.Series()\n",
    "\n",
    "    grouped = df.groupby('bio_sex')\n",
    "    for var in features:\n",
    "        groups = grouped[var]\n",
    "        male = groups.get_group(1)\n",
    "        female = groups.get_group(0)\n",
    "        d = cohen_effect_size(male, female)\n",
    "        res[var] = d\n",
    "        \n",
    "    return res"
   ]
  },
  {
   "cell_type": "code",
   "execution_count": 36,
   "metadata": {},
   "outputs": [
    {
     "name": "stdout",
     "output_type": "stream",
     "text": [
      "Vermis_7             0.601494\n",
      "Hippocampus_R        0.576675\n",
      "Caudate_L            0.537445\n",
      "Cerebelum_Crus2_R    0.503056\n",
      "Postcentral_R        0.488203\n",
      "Hippocampus_L        0.462809\n",
      "Frontal_Inf_Orb_L    0.456477\n",
      "Frontal_Sup_Orb_L    0.455499\n",
      "Cerebelum_Crus2_L    0.449714\n",
      "Parietal_Inf_R       0.429542\n",
      "Postcentral_L        0.427087\n",
      "Frontal_Mid_Orb_L    0.425625\n",
      "dtype: float64\n"
     ]
    }
   ],
   "source": [
    "num_features = 12\n",
    "features = list(df_1000.drop(['age', 'bio_sex'], axis=1).columns)\n",
    "\n",
    "res = compute_cohen_effect(df_1000, features)\n",
    "top_by_cohen = res.sort_values(ascending=False).iloc[:num_features]\n",
    "print(top_by_cohen)"
   ]
  },
  {
   "cell_type": "code",
   "execution_count": 37,
   "metadata": {},
   "outputs": [
    {
     "data": {
      "image/png": "[encoded data removed]",
      "text/plain": [
       "<Figure size 432x288 with 1 Axes>"
      ]
     },
     "metadata": {
      "needs_background": "light"
     },
     "output_type": "display_data"
    }
   ],
   "source": [
    "var = 'Vermis_7'\n",
    "sns.kdeplot(df_1000.loc[male, var], label='male')\n",
    "sns.kdeplot(df_1000.loc[female, var], label='female');"
   ]
  },
  {
   "cell_type": "code",
   "execution_count": 38,
   "metadata": {},
   "outputs": [
    {
     "name": "stderr",
     "output_type": "stream",
     "text": [
      "/usr/local/lib/python3.6/dist-packages/sklearn/linear_model/logistic.py:432: FutureWarning: Default solver will be changed to 'lbfgs' in 0.22. Specify a solver to silence this warning.\n",
      "  FutureWarning)\n"
     ]
    },
    {
     "name": "stdout",
     "output_type": "stream",
     "text": [
      "R^2: 0.6276595744680851\n",
      "Root Mean Squared Error: 0.6101970382851059\n",
      "0.727038727038727\n",
      "[[ 15  62]\n",
      " [  8 103]]\n"
     ]
    },
    {
     "data": {
      "image/png": "[encoded data removed]",
      "text/plain": [
       "<Figure size 432x288 with 1 Axes>"
      ]
     },
     "metadata": {
      "needs_background": "light"
     },
     "output_type": "display_data"
    }
   ],
   "source": [
    "features.append('bio_sex')\n",
    "temp = df_1000.drop(list(set(df_1000.columns).difference(set(features))), axis=1).dropna()\n",
    "features.pop()\n",
    "\n",
    "y = temp['bio_sex']\n",
    "X = temp.drop('bio_sex', axis=1)\n",
    "\n",
    "# temp['bio_sex'].value_counts()\n",
    "\n",
    "X_train, X_test, y_train, y_test = train_test_split(X, y, test_size = 0.3, random_state=42)\n",
    "\n",
    "logreg = linear_model.LogisticRegression()\n",
    "logreg.fit(X_train,y_train)\n",
    "\n",
    "y_pred = logreg.predict(X_test)\n",
    "y_pred_prob = logreg.predict_proba(X_test)[:,1]\n",
    "\n",
    "fpr, tpr, thresholds = metrics.roc_curve(y_test, y_pred_prob)\n",
    "\n",
    "plt.plot([0, 1], [0, 1], 'k--')\n",
    "plt.plot(fpr, tpr, label='Logistic Regression')\n",
    "                 \n",
    "print(\"R^2: {}\".format(logreg.score(X_test, y_test)))\n",
    "\n",
    "rmse = np.sqrt(metrics.mean_squared_error(y_test, y_pred))\n",
    "\n",
    "print(\"Root Mean Squared Error: {}\".format(rmse))\n",
    "\n",
    "print(metrics.roc_auc_score(y_test,y_pred_prob))\n",
    "\n",
    "print(metrics.confusion_matrix(y_test,y_pred))"
   ]
  },
  {
   "cell_type": "code",
   "execution_count": 39,
   "metadata": {},
   "outputs": [
    {
     "data": {
      "text/plain": [
       "count    625.000000\n",
       "mean      21.516800\n",
       "std        1.975034\n",
       "min       18.000000\n",
       "25%       20.000000\n",
       "50%       21.000000\n",
       "75%       23.000000\n",
       "max       26.000000\n",
       "Name: age, dtype: float64"
      ]
     },
     "execution_count": 39,
     "metadata": {},
     "output_type": "execute_result"
    }
   ],
   "source": [
    "df_1000['age'].describe()"
   ]
  },
  {
   "cell_type": "code",
   "execution_count": 40,
   "metadata": {},
   "outputs": [
    {
     "data": {
      "text/plain": [
       "0.5456"
      ]
     },
     "execution_count": 40,
     "metadata": {},
     "output_type": "execute_result"
    }
   ],
   "source": [
    "conditions = [\n",
    "    (df_1000['age'] <= 21),\n",
    "    (df_1000['age'] > 21)]\n",
    "choices = [1, 0]\n",
    "df_1000['young'] = np.select(conditions, choices, default=np.nan)\n",
    "df_1000['young'].mean()"
   ]
  },
  {
   "cell_type": "code",
   "execution_count": 41,
   "metadata": {},
   "outputs": [],
   "source": [
    "def compute_cohen_effect_age(df, features):\n",
    "    res = pd.Series()\n",
    "\n",
    "    grouped = df.groupby('young')\n",
    "    for var in features:\n",
    "        groups = grouped[var]\n",
    "        young = groups.get_group(1)\n",
    "        old = groups.get_group(0)\n",
    "        d = cohen_effect_size(young, old)\n",
    "        res[var] = d\n",
    "        \n",
    "    return res"
   ]
  },
  {
   "cell_type": "code",
   "execution_count": 42,
   "metadata": {},
   "outputs": [
    {
     "name": "stdout",
     "output_type": "stream",
     "text": [
      "Insula_R           0.436826\n",
      "Precentral_R       0.410753\n",
      "Insula_L           0.374693\n",
      "Frontal_Mid_R      0.372729\n",
      "Temporal_Inf_R     0.359378\n",
      "Temporal_Mid_R     0.341947\n",
      "Frontal_Mid_L      0.339900\n",
      "Parietal_Inf_R     0.336717\n",
      "Rolandic_Oper_R    0.332593\n",
      "Fusiform_R         0.326248\n",
      "Heschl_R           0.323768\n",
      "Olfactory_R        0.320996\n",
      "dtype: float64\n"
     ]
    }
   ],
   "source": [
    "num_features = 12\n",
    "\n",
    "res = compute_cohen_effect_age(df_1000, features)\n",
    "\n",
    "top_by_cohen = res.sort_values(ascending=False).iloc[:num_features]\n",
    "print(top_by_cohen)"
   ]
  },
  {
   "cell_type": "code",
   "execution_count": 43,
   "metadata": {},
   "outputs": [
    {
     "name": "stdout",
     "output_type": "stream",
     "text": [
      "R^2: 0.5212765957446809\n",
      "Root Mean Squared Error: 0.6918984060216639\n",
      "0.5644459706959708\n",
      "[[26 58]\n",
      " [32 72]]\n"
     ]
    },
    {
     "name": "stderr",
     "output_type": "stream",
     "text": [
      "/usr/local/lib/python3.6/dist-packages/sklearn/linear_model/logistic.py:432: FutureWarning: Default solver will be changed to 'lbfgs' in 0.22. Specify a solver to silence this warning.\n",
      "  FutureWarning)\n"
     ]
    },
    {
     "data": {
      "image/png": "[encoded data removed]",
      "text/plain": [
       "<Figure size 432x288 with 1 Axes>"
      ]
     },
     "metadata": {
      "needs_background": "light"
     },
     "output_type": "display_data"
    }
   ],
   "source": [
    "features.append('young')\n",
    "temp = df_1000.drop(list(set(df_1000.columns).difference(set(features))), axis=1).dropna()\n",
    "features_norm.pop()\n",
    "\n",
    "y = temp['young']\n",
    "X = temp.drop('young', axis=1)\n",
    "\n",
    "y.mean()\n",
    "\n",
    "X_train, X_test, y_train, y_test = train_test_split(X, y, test_size = 0.3, random_state=42)\n",
    "\n",
    "logreg = linear_model.LogisticRegression()\n",
    "logreg.fit(X_train,y_train)\n",
    "\n",
    "y_pred = logreg.predict(X_test)\n",
    "y_pred_prob = logreg.predict_proba(X_test)[:,1]\n",
    "\n",
    "fpr, tpr, thresholds = metrics.roc_curve(y_test, y_pred_prob)\n",
    "\n",
    "plt.plot([0, 1], [0, 1], 'k--')\n",
    "plt.plot(fpr, tpr, label='Logistic Regression')\n",
    "                 \n",
    "print(\"R^2: {}\".format(logreg.score(X_test, y_test)))\n",
    "\n",
    "rmse = np.sqrt(metrics.mean_squared_error(y_test, y_pred))\n",
    "\n",
    "print(\"Root Mean Squared Error: {}\".format(rmse))\n",
    "\n",
    "print(metrics.roc_auc_score(y_test,y_pred_prob))\n",
    "\n",
    "print(metrics.confusion_matrix(y_test,y_pred))"
   ]
  },
  {
   "cell_type": "code",
   "execution_count": null,
   "metadata": {},
   "outputs": [],
   "source": []
  }
 ],
 "metadata": {
  "kernelspec": {
   "display_name": "Python 3",
   "language": "python",
   "name": "python3"
  },
  "language_info": {
   "codemirror_mode": {
    "name": "ipython",
    "version": 3
   },
   "file_extension": ".py",
   "mimetype": "text/x-python",
   "name": "python",
   "nbconvert_exporter": "python",
   "pygments_lexer": "ipython3",
   "version": "3.6.7"
  }
 },
 "nbformat": 4,
 "nbformat_minor": 2
}
