{
 "cells": [
  {
   "cell_type": "markdown",
   "metadata": {},
   "source": [
    "# Are brains like faces?\n",
    "\n",
    "\n",
    "Copyright 2019 Allen Downey\n",
    "\n",
    "[MIT License](https://opensource.org/licenses/MIT)"
   ]
  },
  {
   "cell_type": "code",
   "execution_count": 62,
   "metadata": {},
   "outputs": [],
   "source": [
    "%matplotlib inline\n",
    "%config InteractiveShell.ast_node_interactivity='last_expr_or_assign'\n",
    "\n",
    "import pandas as pd\n",
    "import numpy as np\n",
    "import matplotlib.pyplot as plt\n",
    "import seaborn as sns\n",
    "\n",
    "import thinkstats2\n",
    "import thinkplot\n",
    "\n",
    "import sklearn.linear_model as linear_model\n",
    "import sklearn.metrics as metrics\n",
    "from sklearn.model_selection import train_test_split\n",
    "\n",
    "import tensorflow as tf\n",
    "import keras.models\n",
    "import keras.layers\n",
    "\n",
    "import pickle\n",
    "\n",
    "from warnings import simplefilter\n",
    "simplefilter('ignore', FutureWarning)"
   ]
  },
  {
   "cell_type": "markdown",
   "metadata": {},
   "source": [
    "Load the NKI SBA volume data, since it seems to have the most features with the highest Cohen effects."
   ]
  },
  {
   "cell_type": "code",
   "execution_count": 63,
   "metadata": {},
   "outputs": [
    {
     "data": {
      "text/html": [
       "<div>\n",
       "<style scoped>\n",
       "    .dataframe tbody tr th:only-of-type {\n",
       "        vertical-align: middle;\n",
       "    }\n",
       "\n",
       "    .dataframe tbody tr th {\n",
       "        vertical-align: top;\n",
       "    }\n",
       "\n",
       "    .dataframe thead th {\n",
       "        text-align: right;\n",
       "    }\n",
       "</style>\n",
       "<table border=\"1\" class=\"dataframe\">\n",
       "  <thead>\n",
       "    <tr style=\"text-align: right;\">\n",
       "      <th></th>\n",
       "      <th>bio_sex</th>\n",
       "      <th>age</th>\n",
       "      <th>Left-Lateral-Ventricle</th>\n",
       "      <th>Left-Inf-Lat-Vent</th>\n",
       "      <th>Left-Cerebellum-White-Matter</th>\n",
       "      <th>Left-Cerebellum-Cortex</th>\n",
       "      <th>Left-Thalamus-Proper</th>\n",
       "      <th>Left-Caudate</th>\n",
       "      <th>Left-Putamen</th>\n",
       "      <th>Left-Pallidum</th>\n",
       "      <th>...</th>\n",
       "      <th>rh_rostralanteriorcingulate_volume</th>\n",
       "      <th>rh_rostralmiddlefrontal_volume</th>\n",
       "      <th>rh_superiorfrontal_volume</th>\n",
       "      <th>rh_superiorparietal_volume</th>\n",
       "      <th>rh_superiortemporal_volume</th>\n",
       "      <th>rh_supramarginal_volume</th>\n",
       "      <th>rh_frontalpole_volume</th>\n",
       "      <th>rh_temporalpole_volume</th>\n",
       "      <th>rh_transversetemporal_volume</th>\n",
       "      <th>rh_insula_volume</th>\n",
       "    </tr>\n",
       "  </thead>\n",
       "  <tbody>\n",
       "    <tr>\n",
       "      <th>0</th>\n",
       "      <td>2</td>\n",
       "      <td>41</td>\n",
       "      <td>5443</td>\n",
       "      <td>408</td>\n",
       "      <td>14526</td>\n",
       "      <td>47120</td>\n",
       "      <td>6506</td>\n",
       "      <td>2944</td>\n",
       "      <td>4535</td>\n",
       "      <td>1828</td>\n",
       "      <td>...</td>\n",
       "      <td>1151</td>\n",
       "      <td>13009</td>\n",
       "      <td>16499</td>\n",
       "      <td>10019</td>\n",
       "      <td>9201</td>\n",
       "      <td>7703</td>\n",
       "      <td>783</td>\n",
       "      <td>1945</td>\n",
       "      <td>923</td>\n",
       "      <td>6297</td>\n",
       "    </tr>\n",
       "    <tr>\n",
       "      <th>1</th>\n",
       "      <td>2</td>\n",
       "      <td>52</td>\n",
       "      <td>3228</td>\n",
       "      <td>309</td>\n",
       "      <td>13065</td>\n",
       "      <td>48090</td>\n",
       "      <td>6942</td>\n",
       "      <td>2918</td>\n",
       "      <td>5000</td>\n",
       "      <td>1734</td>\n",
       "      <td>...</td>\n",
       "      <td>1308</td>\n",
       "      <td>13780</td>\n",
       "      <td>18011</td>\n",
       "      <td>11602</td>\n",
       "      <td>12166</td>\n",
       "      <td>10272</td>\n",
       "      <td>747</td>\n",
       "      <td>1921</td>\n",
       "      <td>790</td>\n",
       "      <td>5537</td>\n",
       "    </tr>\n",
       "    <tr>\n",
       "      <th>2</th>\n",
       "      <td>2</td>\n",
       "      <td>54</td>\n",
       "      <td>5642</td>\n",
       "      <td>95</td>\n",
       "      <td>9687</td>\n",
       "      <td>38398</td>\n",
       "      <td>6385</td>\n",
       "      <td>2892</td>\n",
       "      <td>4351</td>\n",
       "      <td>1051</td>\n",
       "      <td>...</td>\n",
       "      <td>1903</td>\n",
       "      <td>13247</td>\n",
       "      <td>17477</td>\n",
       "      <td>10010</td>\n",
       "      <td>8808</td>\n",
       "      <td>8331</td>\n",
       "      <td>1193</td>\n",
       "      <td>2043</td>\n",
       "      <td>484</td>\n",
       "      <td>6033</td>\n",
       "    </tr>\n",
       "    <tr>\n",
       "      <th>3</th>\n",
       "      <td>2</td>\n",
       "      <td>56</td>\n",
       "      <td>4959</td>\n",
       "      <td>231</td>\n",
       "      <td>11442</td>\n",
       "      <td>41214</td>\n",
       "      <td>6195</td>\n",
       "      <td>3604</td>\n",
       "      <td>5135</td>\n",
       "      <td>1592</td>\n",
       "      <td>...</td>\n",
       "      <td>1753</td>\n",
       "      <td>12481</td>\n",
       "      <td>17378</td>\n",
       "      <td>9682</td>\n",
       "      <td>10091</td>\n",
       "      <td>9396</td>\n",
       "      <td>802</td>\n",
       "      <td>2336</td>\n",
       "      <td>799</td>\n",
       "      <td>6159</td>\n",
       "    </tr>\n",
       "    <tr>\n",
       "      <th>4</th>\n",
       "      <td>2</td>\n",
       "      <td>31</td>\n",
       "      <td>6664</td>\n",
       "      <td>161</td>\n",
       "      <td>12059</td>\n",
       "      <td>44711</td>\n",
       "      <td>6613</td>\n",
       "      <td>2981</td>\n",
       "      <td>4558</td>\n",
       "      <td>1462</td>\n",
       "      <td>...</td>\n",
       "      <td>1396</td>\n",
       "      <td>11924</td>\n",
       "      <td>21013</td>\n",
       "      <td>12134</td>\n",
       "      <td>10928</td>\n",
       "      <td>10362</td>\n",
       "      <td>699</td>\n",
       "      <td>2549</td>\n",
       "      <td>911</td>\n",
       "      <td>5853</td>\n",
       "    </tr>\n",
       "  </tbody>\n",
       "</table>\n",
       "<p>5 rows × 170 columns</p>\n",
       "</div>"
      ],
      "text/plain": [
       "   bio_sex  age  Left-Lateral-Ventricle  Left-Inf-Lat-Vent  \\\n",
       "0        2   41                    5443                408   \n",
       "1        2   52                    3228                309   \n",
       "2        2   54                    5642                 95   \n",
       "3        2   56                    4959                231   \n",
       "4        2   31                    6664                161   \n",
       "\n",
       "   Left-Cerebellum-White-Matter  Left-Cerebellum-Cortex  Left-Thalamus-Proper  \\\n",
       "0                         14526                   47120                  6506   \n",
       "1                         13065                   48090                  6942   \n",
       "2                          9687                   38398                  6385   \n",
       "3                         11442                   41214                  6195   \n",
       "4                         12059                   44711                  6613   \n",
       "\n",
       "   Left-Caudate  Left-Putamen  Left-Pallidum        ...         \\\n",
       "0          2944          4535           1828        ...          \n",
       "1          2918          5000           1734        ...          \n",
       "2          2892          4351           1051        ...          \n",
       "3          3604          5135           1592        ...          \n",
       "4          2981          4558           1462        ...          \n",
       "\n",
       "   rh_rostralanteriorcingulate_volume  rh_rostralmiddlefrontal_volume  \\\n",
       "0                                1151                           13009   \n",
       "1                                1308                           13780   \n",
       "2                                1903                           13247   \n",
       "3                                1753                           12481   \n",
       "4                                1396                           11924   \n",
       "\n",
       "   rh_superiorfrontal_volume  rh_superiorparietal_volume  \\\n",
       "0                      16499                       10019   \n",
       "1                      18011                       11602   \n",
       "2                      17477                       10010   \n",
       "3                      17378                        9682   \n",
       "4                      21013                       12134   \n",
       "\n",
       "   rh_superiortemporal_volume  rh_supramarginal_volume  rh_frontalpole_volume  \\\n",
       "0                        9201                     7703                    783   \n",
       "1                       12166                    10272                    747   \n",
       "2                        8808                     8331                   1193   \n",
       "3                       10091                     9396                    802   \n",
       "4                       10928                    10362                    699   \n",
       "\n",
       "   rh_temporalpole_volume  rh_transversetemporal_volume  rh_insula_volume  \n",
       "0                    1945                           923              6297  \n",
       "1                    1921                           790              5537  \n",
       "2                    2043                           484              6033  \n",
       "3                    2336                           799              6159  \n",
       "4                    2549                           911              5853  \n",
       "\n",
       "[5 rows x 170 columns]"
      ]
     },
     "execution_count": 63,
     "metadata": {},
     "output_type": "execute_result"
    }
   ],
   "source": [
    "df = pd.read_excel('brain_mosaic_data/NKI_SBA_Volume.xlsx')\n",
    "df.head()"
   ]
  },
  {
   "cell_type": "markdown",
   "metadata": {},
   "source": [
    "Make the column names play nicely with StatsModels."
   ]
  },
  {
   "cell_type": "code",
   "execution_count": 64,
   "metadata": {},
   "outputs": [],
   "source": [
    "def clean_name(name):\n",
    "    \"\"\"Make column names play nicely with StatsModels.\n",
    "    \"\"\"\n",
    "    name = name.replace('-', '_').lower()\n",
    "    d = {'3rd_ventricle':'third_ventricle', '4th_ventricle':'fourth_ventricle'}\n",
    "    return d.get(name, name)"
   ]
  },
  {
   "cell_type": "code",
   "execution_count": 65,
   "metadata": {},
   "outputs": [
    {
     "data": {
      "text/html": [
       "<div>\n",
       "<style scoped>\n",
       "    .dataframe tbody tr th:only-of-type {\n",
       "        vertical-align: middle;\n",
       "    }\n",
       "\n",
       "    .dataframe tbody tr th {\n",
       "        vertical-align: top;\n",
       "    }\n",
       "\n",
       "    .dataframe thead th {\n",
       "        text-align: right;\n",
       "    }\n",
       "</style>\n",
       "<table border=\"1\" class=\"dataframe\">\n",
       "  <thead>\n",
       "    <tr style=\"text-align: right;\">\n",
       "      <th></th>\n",
       "      <th>bio_sex</th>\n",
       "      <th>age</th>\n",
       "      <th>left_lateral_ventricle</th>\n",
       "      <th>left_inf_lat_vent</th>\n",
       "      <th>left_cerebellum_white_matter</th>\n",
       "      <th>left_cerebellum_cortex</th>\n",
       "      <th>left_thalamus_proper</th>\n",
       "      <th>left_caudate</th>\n",
       "      <th>left_putamen</th>\n",
       "      <th>left_pallidum</th>\n",
       "      <th>...</th>\n",
       "      <th>rh_rostralanteriorcingulate_volume</th>\n",
       "      <th>rh_rostralmiddlefrontal_volume</th>\n",
       "      <th>rh_superiorfrontal_volume</th>\n",
       "      <th>rh_superiorparietal_volume</th>\n",
       "      <th>rh_superiortemporal_volume</th>\n",
       "      <th>rh_supramarginal_volume</th>\n",
       "      <th>rh_frontalpole_volume</th>\n",
       "      <th>rh_temporalpole_volume</th>\n",
       "      <th>rh_transversetemporal_volume</th>\n",
       "      <th>rh_insula_volume</th>\n",
       "    </tr>\n",
       "  </thead>\n",
       "  <tbody>\n",
       "    <tr>\n",
       "      <th>0</th>\n",
       "      <td>2</td>\n",
       "      <td>41</td>\n",
       "      <td>5443</td>\n",
       "      <td>408</td>\n",
       "      <td>14526</td>\n",
       "      <td>47120</td>\n",
       "      <td>6506</td>\n",
       "      <td>2944</td>\n",
       "      <td>4535</td>\n",
       "      <td>1828</td>\n",
       "      <td>...</td>\n",
       "      <td>1151</td>\n",
       "      <td>13009</td>\n",
       "      <td>16499</td>\n",
       "      <td>10019</td>\n",
       "      <td>9201</td>\n",
       "      <td>7703</td>\n",
       "      <td>783</td>\n",
       "      <td>1945</td>\n",
       "      <td>923</td>\n",
       "      <td>6297</td>\n",
       "    </tr>\n",
       "    <tr>\n",
       "      <th>1</th>\n",
       "      <td>2</td>\n",
       "      <td>52</td>\n",
       "      <td>3228</td>\n",
       "      <td>309</td>\n",
       "      <td>13065</td>\n",
       "      <td>48090</td>\n",
       "      <td>6942</td>\n",
       "      <td>2918</td>\n",
       "      <td>5000</td>\n",
       "      <td>1734</td>\n",
       "      <td>...</td>\n",
       "      <td>1308</td>\n",
       "      <td>13780</td>\n",
       "      <td>18011</td>\n",
       "      <td>11602</td>\n",
       "      <td>12166</td>\n",
       "      <td>10272</td>\n",
       "      <td>747</td>\n",
       "      <td>1921</td>\n",
       "      <td>790</td>\n",
       "      <td>5537</td>\n",
       "    </tr>\n",
       "    <tr>\n",
       "      <th>2</th>\n",
       "      <td>2</td>\n",
       "      <td>54</td>\n",
       "      <td>5642</td>\n",
       "      <td>95</td>\n",
       "      <td>9687</td>\n",
       "      <td>38398</td>\n",
       "      <td>6385</td>\n",
       "      <td>2892</td>\n",
       "      <td>4351</td>\n",
       "      <td>1051</td>\n",
       "      <td>...</td>\n",
       "      <td>1903</td>\n",
       "      <td>13247</td>\n",
       "      <td>17477</td>\n",
       "      <td>10010</td>\n",
       "      <td>8808</td>\n",
       "      <td>8331</td>\n",
       "      <td>1193</td>\n",
       "      <td>2043</td>\n",
       "      <td>484</td>\n",
       "      <td>6033</td>\n",
       "    </tr>\n",
       "    <tr>\n",
       "      <th>3</th>\n",
       "      <td>2</td>\n",
       "      <td>56</td>\n",
       "      <td>4959</td>\n",
       "      <td>231</td>\n",
       "      <td>11442</td>\n",
       "      <td>41214</td>\n",
       "      <td>6195</td>\n",
       "      <td>3604</td>\n",
       "      <td>5135</td>\n",
       "      <td>1592</td>\n",
       "      <td>...</td>\n",
       "      <td>1753</td>\n",
       "      <td>12481</td>\n",
       "      <td>17378</td>\n",
       "      <td>9682</td>\n",
       "      <td>10091</td>\n",
       "      <td>9396</td>\n",
       "      <td>802</td>\n",
       "      <td>2336</td>\n",
       "      <td>799</td>\n",
       "      <td>6159</td>\n",
       "    </tr>\n",
       "    <tr>\n",
       "      <th>4</th>\n",
       "      <td>2</td>\n",
       "      <td>31</td>\n",
       "      <td>6664</td>\n",
       "      <td>161</td>\n",
       "      <td>12059</td>\n",
       "      <td>44711</td>\n",
       "      <td>6613</td>\n",
       "      <td>2981</td>\n",
       "      <td>4558</td>\n",
       "      <td>1462</td>\n",
       "      <td>...</td>\n",
       "      <td>1396</td>\n",
       "      <td>11924</td>\n",
       "      <td>21013</td>\n",
       "      <td>12134</td>\n",
       "      <td>10928</td>\n",
       "      <td>10362</td>\n",
       "      <td>699</td>\n",
       "      <td>2549</td>\n",
       "      <td>911</td>\n",
       "      <td>5853</td>\n",
       "    </tr>\n",
       "  </tbody>\n",
       "</table>\n",
       "<p>5 rows × 170 columns</p>\n",
       "</div>"
      ],
      "text/plain": [
       "   bio_sex  age  left_lateral_ventricle  left_inf_lat_vent  \\\n",
       "0        2   41                    5443                408   \n",
       "1        2   52                    3228                309   \n",
       "2        2   54                    5642                 95   \n",
       "3        2   56                    4959                231   \n",
       "4        2   31                    6664                161   \n",
       "\n",
       "   left_cerebellum_white_matter  left_cerebellum_cortex  left_thalamus_proper  \\\n",
       "0                         14526                   47120                  6506   \n",
       "1                         13065                   48090                  6942   \n",
       "2                          9687                   38398                  6385   \n",
       "3                         11442                   41214                  6195   \n",
       "4                         12059                   44711                  6613   \n",
       "\n",
       "   left_caudate  left_putamen  left_pallidum        ...         \\\n",
       "0          2944          4535           1828        ...          \n",
       "1          2918          5000           1734        ...          \n",
       "2          2892          4351           1051        ...          \n",
       "3          3604          5135           1592        ...          \n",
       "4          2981          4558           1462        ...          \n",
       "\n",
       "   rh_rostralanteriorcingulate_volume  rh_rostralmiddlefrontal_volume  \\\n",
       "0                                1151                           13009   \n",
       "1                                1308                           13780   \n",
       "2                                1903                           13247   \n",
       "3                                1753                           12481   \n",
       "4                                1396                           11924   \n",
       "\n",
       "   rh_superiorfrontal_volume  rh_superiorparietal_volume  \\\n",
       "0                      16499                       10019   \n",
       "1                      18011                       11602   \n",
       "2                      17477                       10010   \n",
       "3                      17378                        9682   \n",
       "4                      21013                       12134   \n",
       "\n",
       "   rh_superiortemporal_volume  rh_supramarginal_volume  rh_frontalpole_volume  \\\n",
       "0                        9201                     7703                    783   \n",
       "1                       12166                    10272                    747   \n",
       "2                        8808                     8331                   1193   \n",
       "3                       10091                     9396                    802   \n",
       "4                       10928                    10362                    699   \n",
       "\n",
       "   rh_temporalpole_volume  rh_transversetemporal_volume  rh_insula_volume  \n",
       "0                    1945                           923              6297  \n",
       "1                    1921                           790              5537  \n",
       "2                    2043                           484              6033  \n",
       "3                    2336                           799              6159  \n",
       "4                    2549                           911              5853  \n",
       "\n",
       "[5 rows x 170 columns]"
      ]
     },
     "execution_count": 65,
     "metadata": {},
     "output_type": "execute_result"
    }
   ],
   "source": [
    "columns = [clean_name(name) for name in df.columns]\n",
    "df.columns = columns\n",
    "df.head()"
   ]
  },
  {
   "cell_type": "markdown",
   "metadata": {},
   "source": [
    "Make a binary variable for StatsModels."
   ]
  },
  {
   "cell_type": "code",
   "execution_count": 66,
   "metadata": {},
   "outputs": [
    {
     "data": {
      "text/plain": [
       "0.3786764705882353"
      ]
     },
     "execution_count": 66,
     "metadata": {},
     "output_type": "execute_result"
    }
   ],
   "source": [
    "df['male'] = (df['bio_sex'] == 1).astype(int)\n",
    "df['male'].mean()"
   ]
  },
  {
   "cell_type": "markdown",
   "metadata": {},
   "source": [
    "Select the volumetric features (I don't know what the other features are)."
   ]
  },
  {
   "cell_type": "code",
   "execution_count": 67,
   "metadata": {},
   "outputs": [
    {
     "data": {
      "text/plain": [
       "68"
      ]
     },
     "execution_count": 67,
     "metadata": {},
     "output_type": "execute_result"
    }
   ],
   "source": [
    "features = [name for name in df.columns if name.endswith('volume')]\n",
    "len(features)"
   ]
  },
  {
   "cell_type": "markdown",
   "metadata": {},
   "source": [
    "Compute total volume."
   ]
  },
  {
   "cell_type": "code",
   "execution_count": 68,
   "metadata": {},
   "outputs": [
    {
     "data": {
      "text/plain": [
       "count       272.000000\n",
       "mean     455371.117647\n",
       "std       56890.820457\n",
       "min      336198.000000\n",
       "25%      416941.500000\n",
       "50%      450121.000000\n",
       "75%      489089.250000\n",
       "max      684464.000000\n",
       "Name: total_volume, dtype: float64"
      ]
     },
     "execution_count": 68,
     "metadata": {},
     "output_type": "execute_result"
    }
   ],
   "source": [
    "df['total_volume'] = df[features].sum(axis=1)\n",
    "df['total_volume'].describe()"
   ]
  },
  {
   "cell_type": "markdown",
   "metadata": {},
   "source": [
    "Make sure the new variables are on the feature list."
   ]
  },
  {
   "cell_type": "code",
   "execution_count": 69,
   "metadata": {},
   "outputs": [
    {
     "data": {
      "text/plain": [
       "69"
      ]
     },
     "execution_count": 69,
     "metadata": {},
     "output_type": "execute_result"
    }
   ],
   "source": [
    "features = [name for name in df.columns if name.endswith('volume')]\n",
    "len(features)"
   ]
  },
  {
   "cell_type": "markdown",
   "metadata": {},
   "source": [
    "Distribution of volumes."
   ]
  },
  {
   "cell_type": "code",
   "execution_count": 70,
   "metadata": {},
   "outputs": [
    {
     "data": {
      "image/png": "[encoded data removed]",
      "text/plain": [
       "<Figure size 432x288 with 1 Axes>"
      ]
     },
     "metadata": {
      "needs_background": "light"
     },
     "output_type": "display_data"
    }
   ],
   "source": [
    "var = 'total_volume'\n",
    "sns.kdeplot(df[var].values);"
   ]
  },
  {
   "cell_type": "markdown",
   "metadata": {},
   "source": [
    "Distributions of total volume for male and female subjects.  As expected, men have bigger brains."
   ]
  },
  {
   "cell_type": "code",
   "execution_count": 71,
   "metadata": {},
   "outputs": [
    {
     "data": {
      "image/png": "[encoded data removed]",
      "text/plain": [
       "<Figure size 432x288 with 1 Axes>"
      ]
     },
     "metadata": {
      "needs_background": "light"
     },
     "output_type": "display_data"
    }
   ],
   "source": [
    "df['bio_sex'].replace(1, 0, inplace=True)\n",
    "df['bio_sex'].replace(2, 1, inplace=True)\n",
    "\n",
    "male = df['bio_sex'] == 0\n",
    "female = df['bio_sex'] == 1\n",
    "\n",
    "sns.kdeplot(df.loc[male, var], label='male')\n",
    "sns.kdeplot(df.loc[female, var], label='female');"
   ]
  },
  {
   "cell_type": "markdown",
   "metadata": {},
   "source": [
    "## Cohen effect size\n",
    "\n",
    "Let's look for the features that show the biggest difference between men and women."
   ]
  },
  {
   "cell_type": "code",
   "execution_count": 72,
   "metadata": {},
   "outputs": [],
   "source": [
    "def cohen_effect_size(group1, group2):\n",
    "    \"\"\"Compute Cohen's effect size (d).\n",
    "\n",
    "    group1: Series or NumPy array\n",
    "    group2: Series or NumPy array\n",
    "\n",
    "    returns: float\n",
    "    \"\"\"\n",
    "    diff = group1.mean() - group2.mean()\n",
    "\n",
    "    n1, n2 = len(group1), len(group2)\n",
    "    var1 = group1.var()\n",
    "    var2 = group2.var()\n",
    "\n",
    "    pooled_var = (n1 * var1 + n2 * var2) / (n1 + n2)\n",
    "    d = diff / np.sqrt(pooled_var)\n",
    "    return d"
   ]
  },
  {
   "cell_type": "code",
   "execution_count": 73,
   "metadata": {},
   "outputs": [],
   "source": [
    "def compute_cohen_effect(df, features):\n",
    "    res = pd.Series()\n",
    "\n",
    "    grouped = df.groupby('male')\n",
    "    for var in features:\n",
    "        groups = grouped[var]\n",
    "        male = groups.get_group(1)\n",
    "        female = groups.get_group(0)\n",
    "        d = cohen_effect_size(male, female)\n",
    "        res[var] = d\n",
    "        \n",
    "    return res"
   ]
  },
  {
   "cell_type": "markdown",
   "metadata": {},
   "source": [
    "Here are the top features by Cohen effect size.  The biggest difference is in total volume.  I suspect that the other top candidates are strongly correlated with total volume."
   ]
  },
  {
   "cell_type": "code",
   "execution_count": 74,
   "metadata": {},
   "outputs": [
    {
     "data": {
      "text/plain": [
       "total_volume                      0.998091\n",
       "rh_superiorfrontal_volume         0.970546\n",
       "rh_inferiortemporal_volume        0.964111\n",
       "rh_lateraloccipital_volume        0.960110\n",
       "rh_precuneus_volume               0.958064\n",
       "lh_middletemporal_volume          0.953209\n",
       "lh_superiorfrontal_volume         0.941572\n",
       "lh_medialorbitofrontal_volume     0.937211\n",
       "rh_rostralmiddlefrontal_volume    0.927699\n",
       "lh_inferiortemporal_volume        0.909025\n",
       "rh_fusiform_volume                0.890256\n",
       "rh_lateralorbitofrontal_volume    0.874188\n",
       "dtype: float64"
      ]
     },
     "execution_count": 74,
     "metadata": {},
     "output_type": "execute_result"
    }
   ],
   "source": [
    "num_features = 12\n",
    "\n",
    "res = compute_cohen_effect(df, features)\n",
    "top_by_cohen = res.sort_values(ascending=False).iloc[:num_features]"
   ]
  },
  {
   "cell_type": "code",
   "execution_count": 84,
   "metadata": {},
   "outputs": [],
   "source": [
    "def divide_by_vol(columns):\n",
    "    for column in columns:\n",
    "        df[column + '_norm'] = df[column]/df['total_volume']\n",
    "        \n",
    "columns = [name for name in df.columns if name.endswith('volume')]\n",
    "divide_by_vol(columns)"
   ]
  },
  {
   "cell_type": "code",
   "execution_count": 85,
   "metadata": {},
   "outputs": [
    {
     "data": {
      "text/plain": [
       "69"
      ]
     },
     "execution_count": 85,
     "metadata": {},
     "output_type": "execute_result"
    }
   ],
   "source": [
    "df.drop('total_volume_norm', axis = 1)\n",
    "features_norm = [name for name in df.columns if name.endswith('norm')]\n",
    "len(features)"
   ]
  },
  {
   "cell_type": "code",
   "execution_count": 88,
   "metadata": {},
   "outputs": [
    {
     "name": "stderr",
     "output_type": "stream",
     "text": [
      "/home/eprice/anaconda3/lib/python3.6/site-packages/ipykernel_launcher.py:16: RuntimeWarning: invalid value encountered in double_scalars\n",
      "  app.launch_new_instance()\n"
     ]
    },
    {
     "data": {
      "text/plain": [
       "lh_middletemporal_volume_norm          0.416500\n",
       "rh_inferiortemporal_volume_norm        0.378245\n",
       "lh_rostralmiddlefrontal_volume_norm    0.337220\n",
       "rh_rostralmiddlefrontal_volume_norm    0.305688\n",
       "rh_middletemporal_volume_norm          0.300476\n",
       "lh_inferiortemporal_volume_norm        0.278646\n",
       "lh_medialorbitofrontal_volume_norm     0.259600\n",
       "rh_precuneus_volume_norm               0.249023\n",
       "lh_parsorbitalis_volume_norm           0.234720\n",
       "lh_supramarginal_volume_norm           0.205109\n",
       "rh_parsorbitalis_volume_norm           0.189739\n",
       "rh_inferiorparietal_volume_norm        0.184604\n",
       "dtype: float64"
      ]
     },
     "execution_count": 88,
     "metadata": {},
     "output_type": "execute_result"
    }
   ],
   "source": [
    "num_features = 12\n",
    "\n",
    "res = compute_cohen_effect(df, features_norm)\n",
    "top_by_cohen = res.sort_values(ascending=False).iloc[:num_features]"
   ]
  },
  {
   "cell_type": "code",
   "execution_count": 89,
   "metadata": {},
   "outputs": [
    {
     "data": {
      "image/png": "[encoded data removed]",
      "text/plain": [
       "<Figure size 432x288 with 1 Axes>"
      ]
     },
     "metadata": {
      "needs_background": "light"
     },
     "output_type": "display_data"
    }
   ],
   "source": [
    "var = 'lh_middletemporal_volume_norm'\n",
    "# sns.kdeplot(df[var].values);\n",
    "\n",
    "sns.kdeplot(df.loc[male, var], label='male')\n",
    "sns.kdeplot(df.loc[female, var], label='female');"
   ]
  },
  {
   "cell_type": "code",
   "execution_count": 94,
   "metadata": {},
   "outputs": [
    {
     "name": "stdout",
     "output_type": "stream",
     "text": [
      "R^2: 0.6707317073170732\n",
      "Root Mean Squared Error: 0.5738190417570045\n",
      "0.7215354586857515\n",
      "[[15 14]\n",
      " [13 40]]\n"
     ]
    },
    {
     "data": {
      "image/png": "[encoded data removed]",
      "text/plain": [
       "<Figure size 432x288 with 1 Axes>"
      ]
     },
     "metadata": {
      "needs_background": "light"
     },
     "output_type": "display_data"
    }
   ],
   "source": [
    "y = df['bio_sex']\n",
    "X = df.drop(list(set(df.columns).difference(set(features))), axis=1)\n",
    "\n",
    "y.mean()\n",
    "\n",
    "X_train, X_test, y_train, y_test = train_test_split(X, y, test_size = 0.3, random_state=42)\n",
    "\n",
    "logreg = linear_model.LogisticRegression()\n",
    "logreg.fit(X_train,y_train)\n",
    "\n",
    "y_pred = logreg.predict(X_test)\n",
    "y_pred_prob = logreg.predict_proba(X_test)[:,1]\n",
    "\n",
    "fpr, tpr, thresholds = metrics.roc_curve(y_test, y_pred_prob)\n",
    "\n",
    "plt.plot([0, 1], [0, 1], 'k--')\n",
    "plt.plot(fpr, tpr, label='Logistic Regression')\n",
    "                 \n",
    "print(\"R^2: {}\".format(logreg.score(X_test, y_test)))\n",
    "\n",
    "rmse = np.sqrt(metrics.mean_squared_error(y_test, y_pred))\n",
    "\n",
    "print(\"Root Mean Squared Error: {}\".format(rmse))\n",
    "\n",
    "print(metrics.roc_auc_score(y_test,y_pred_prob))\n",
    "\n",
    "print(metrics.confusion_matrix(y_test,y_pred))"
   ]
  },
  {
   "cell_type": "code",
   "execution_count": 93,
   "metadata": {},
   "outputs": [
    {
     "name": "stdout",
     "output_type": "stream",
     "text": [
      "R^2: 0.6463414634146342\n",
      "Root Mean Squared Error: 0.59469196781642\n",
      "0.7807417046193884\n",
      "[[ 0 29]\n",
      " [ 0 53]]\n"
     ]
    },
    {
     "data": {
      "image/png": "[encoded data removed]",
      "text/plain": [
       "<Figure size 432x288 with 1 Axes>"
      ]
     },
     "metadata": {
      "needs_background": "light"
     },
     "output_type": "display_data"
    }
   ],
   "source": [
    "y = df['bio_sex']\n",
    "X = df.drop(list(set(df.columns).difference(set(features_norm))), axis=1)\n",
    "\n",
    "y.mean()\n",
    "\n",
    "X_train, X_test, y_train, y_test = train_test_split(X, y, test_size = 0.3, random_state=42)\n",
    "\n",
    "logreg = linear_model.LogisticRegression()\n",
    "logreg.fit(X_train,y_train)\n",
    "\n",
    "y_pred = logreg.predict(X_test)\n",
    "y_pred_prob = logreg.predict_proba(X_test)[:,1]\n",
    "\n",
    "fpr, tpr, thresholds = metrics.roc_curve(y_test, y_pred_prob)\n",
    "\n",
    "plt.plot([0, 1], [0, 1], 'k--')\n",
    "plt.plot(fpr, tpr, label='Logistic Regression')\n",
    "                 \n",
    "print(\"R^2: {}\".format(logreg.score(X_test, y_test)))\n",
    "\n",
    "rmse = np.sqrt(metrics.mean_squared_error(y_test, y_pred))\n",
    "\n",
    "print(\"Root Mean Squared Error: {}\".format(rmse))\n",
    "\n",
    "print(metrics.roc_auc_score(y_test,y_pred_prob))\n",
    "\n",
    "print(metrics.confusion_matrix(y_test,y_pred))"
   ]
  },
  {
   "cell_type": "code",
   "execution_count": null,
   "metadata": {},
   "outputs": [],
   "source": []
  }
 ],
 "metadata": {
  "kernelspec": {
   "display_name": "Python 3",
   "language": "python",
   "name": "python3"
  },
  "language_info": {
   "codemirror_mode": {
    "name": "ipython",
    "version": 3
   },
   "file_extension": ".py",
   "mimetype": "text/x-python",
   "name": "python",
   "nbconvert_exporter": "python",
   "pygments_lexer": "ipython3",
   "version": "3.6.7"
  }
 },
 "nbformat": 4,
 "nbformat_minor": 2
}
