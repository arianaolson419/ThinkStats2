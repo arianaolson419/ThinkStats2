{
 "cells": [
  {
   "cell_type": "markdown",
   "metadata": {},
   "source": [
    "# Clean GSS Variables used in Analysis"
   ]
  },
  {
   "cell_type": "code",
   "execution_count": 1,
   "metadata": {},
   "outputs": [],
   "source": [
    "import numpy as np\n",
    "import pandas as pd\n",
    "import matplotlib.pyplot as plt\n",
    "\n",
    "import thinkstats2\n",
    "import thinkplot\n",
    "\n",
    "import utils\n",
    "from utils import decorate"
   ]
  },
  {
   "cell_type": "code",
   "execution_count": 2,
   "metadata": {},
   "outputs": [],
   "source": [
    "def read_gss(dirname):\n",
    "    \"\"\"Reads GSS files from the given directory.\n",
    "    \n",
    "    dirname: string\n",
    "    \n",
    "    returns: DataFrame\n",
    "    \"\"\"\n",
    "    dct = utils.read_stata_dict(dirname + '/GSS.dct')\n",
    "    gss = dct.read_fixed_width(dirname + '/GSS.dat.gz',\n",
    "                             compression='gzip')\n",
    "    return gss"
   ]
  },
  {
   "cell_type": "code",
   "execution_count": 3,
   "metadata": {},
   "outputs": [],
   "source": [
    "# Read in the GSS variables.\n",
    "gss = read_gss('gss_vars')"
   ]
  },
  {
   "cell_type": "markdown",
   "metadata": {},
   "source": [
    "## Clean the Data"
   ]
  },
  {
   "cell_type": "code",
   "execution_count": 4,
   "metadata": {
    "scrolled": true
   },
   "outputs": [
    {
     "data": {
      "text/html": [
       "<div>\n",
       "<style scoped>\n",
       "    .dataframe tbody tr th:only-of-type {\n",
       "        vertical-align: middle;\n",
       "    }\n",
       "\n",
       "    .dataframe tbody tr th {\n",
       "        vertical-align: top;\n",
       "    }\n",
       "\n",
       "    .dataframe thead th {\n",
       "        text-align: right;\n",
       "    }\n",
       "</style>\n",
       "<table border=\"1\" class=\"dataframe\">\n",
       "  <thead>\n",
       "    <tr style=\"text-align: right;\">\n",
       "      <th></th>\n",
       "      <th>ballot</th>\n",
       "      <th>fund</th>\n",
       "      <th>other</th>\n",
       "      <th>denom</th>\n",
       "      <th>relig</th>\n",
       "      <th>cappun</th>\n",
       "      <th>libhomo</th>\n",
       "      <th>colhomo</th>\n",
       "      <th>spkhomo</th>\n",
       "      <th>natfare</th>\n",
       "      <th>...</th>\n",
       "      <th>natrace</th>\n",
       "      <th>nateduc</th>\n",
       "      <th>natdrug</th>\n",
       "      <th>natcity</th>\n",
       "      <th>natheal</th>\n",
       "      <th>natenvir</th>\n",
       "      <th>natspac</th>\n",
       "      <th>polviews</th>\n",
       "      <th>partyid</th>\n",
       "      <th>year</th>\n",
       "    </tr>\n",
       "  </thead>\n",
       "  <tbody>\n",
       "    <tr>\n",
       "      <th>0</th>\n",
       "      <td>0</td>\n",
       "      <td>3</td>\n",
       "      <td>0</td>\n",
       "      <td>0</td>\n",
       "      <td>3</td>\n",
       "      <td>0</td>\n",
       "      <td>0</td>\n",
       "      <td>0</td>\n",
       "      <td>0</td>\n",
       "      <td>0</td>\n",
       "      <td>...</td>\n",
       "      <td>0</td>\n",
       "      <td>0</td>\n",
       "      <td>0</td>\n",
       "      <td>0</td>\n",
       "      <td>0</td>\n",
       "      <td>0</td>\n",
       "      <td>0</td>\n",
       "      <td>0</td>\n",
       "      <td>2</td>\n",
       "      <td>1972</td>\n",
       "    </tr>\n",
       "    <tr>\n",
       "      <th>1</th>\n",
       "      <td>0</td>\n",
       "      <td>2</td>\n",
       "      <td>0</td>\n",
       "      <td>0</td>\n",
       "      <td>2</td>\n",
       "      <td>0</td>\n",
       "      <td>0</td>\n",
       "      <td>0</td>\n",
       "      <td>0</td>\n",
       "      <td>0</td>\n",
       "      <td>...</td>\n",
       "      <td>0</td>\n",
       "      <td>0</td>\n",
       "      <td>0</td>\n",
       "      <td>0</td>\n",
       "      <td>0</td>\n",
       "      <td>0</td>\n",
       "      <td>0</td>\n",
       "      <td>0</td>\n",
       "      <td>1</td>\n",
       "      <td>1972</td>\n",
       "    </tr>\n",
       "    <tr>\n",
       "      <th>2</th>\n",
       "      <td>0</td>\n",
       "      <td>2</td>\n",
       "      <td>0</td>\n",
       "      <td>28</td>\n",
       "      <td>1</td>\n",
       "      <td>0</td>\n",
       "      <td>0</td>\n",
       "      <td>0</td>\n",
       "      <td>0</td>\n",
       "      <td>0</td>\n",
       "      <td>...</td>\n",
       "      <td>0</td>\n",
       "      <td>0</td>\n",
       "      <td>0</td>\n",
       "      <td>0</td>\n",
       "      <td>0</td>\n",
       "      <td>0</td>\n",
       "      <td>0</td>\n",
       "      <td>0</td>\n",
       "      <td>3</td>\n",
       "      <td>1972</td>\n",
       "    </tr>\n",
       "    <tr>\n",
       "      <th>3</th>\n",
       "      <td>0</td>\n",
       "      <td>9</td>\n",
       "      <td>0</td>\n",
       "      <td>0</td>\n",
       "      <td>5</td>\n",
       "      <td>0</td>\n",
       "      <td>0</td>\n",
       "      <td>0</td>\n",
       "      <td>0</td>\n",
       "      <td>0</td>\n",
       "      <td>...</td>\n",
       "      <td>0</td>\n",
       "      <td>0</td>\n",
       "      <td>0</td>\n",
       "      <td>0</td>\n",
       "      <td>0</td>\n",
       "      <td>0</td>\n",
       "      <td>0</td>\n",
       "      <td>0</td>\n",
       "      <td>1</td>\n",
       "      <td>1972</td>\n",
       "    </tr>\n",
       "    <tr>\n",
       "      <th>4</th>\n",
       "      <td>0</td>\n",
       "      <td>2</td>\n",
       "      <td>0</td>\n",
       "      <td>28</td>\n",
       "      <td>1</td>\n",
       "      <td>0</td>\n",
       "      <td>0</td>\n",
       "      <td>0</td>\n",
       "      <td>0</td>\n",
       "      <td>0</td>\n",
       "      <td>...</td>\n",
       "      <td>0</td>\n",
       "      <td>0</td>\n",
       "      <td>0</td>\n",
       "      <td>0</td>\n",
       "      <td>0</td>\n",
       "      <td>0</td>\n",
       "      <td>0</td>\n",
       "      <td>0</td>\n",
       "      <td>0</td>\n",
       "      <td>1972</td>\n",
       "    </tr>\n",
       "  </tbody>\n",
       "</table>\n",
       "<p>5 rows × 46 columns</p>\n",
       "</div>"
      ],
      "text/plain": [
       "   ballot  fund  other  denom  relig  cappun  libhomo  colhomo  spkhomo  \\\n",
       "0       0     3      0      0      3       0        0        0        0   \n",
       "1       0     2      0      0      2       0        0        0        0   \n",
       "2       0     2      0     28      1       0        0        0        0   \n",
       "3       0     9      0      0      5       0        0        0        0   \n",
       "4       0     2      0     28      1       0        0        0        0   \n",
       "\n",
       "   natfare  ...   natrace  nateduc  natdrug  natcity  natheal  natenvir  \\\n",
       "0        0  ...         0        0        0        0        0         0   \n",
       "1        0  ...         0        0        0        0        0         0   \n",
       "2        0  ...         0        0        0        0        0         0   \n",
       "3        0  ...         0        0        0        0        0         0   \n",
       "4        0  ...         0        0        0        0        0         0   \n",
       "\n",
       "   natspac  polviews  partyid  year  \n",
       "0        0         0        2  1972  \n",
       "1        0         0        1  1972  \n",
       "2        0         0        3  1972  \n",
       "3        0         0        1  1972  \n",
       "4        0         0        0  1972  \n",
       "\n",
       "[5 rows x 46 columns]"
      ]
     },
     "execution_count": 4,
     "metadata": {},
     "output_type": "execute_result"
    }
   ],
   "source": [
    "gss.head()"
   ]
  },
  {
   "cell_type": "code",
   "execution_count": 5,
   "metadata": {},
   "outputs": [
    {
     "data": {
      "text/plain": [
       "Index(['ballot', 'fund', 'other', 'denom', 'relig', 'cappun', 'libhomo',\n",
       "       'colhomo', 'spkhomo', 'natfare', 'attend', 'reliten', 'relig16',\n",
       "       'cohort', 'realrinc', 'marhomo', 'homosex', 'hapmar', 'raclive',\n",
       "       'fund16', 'oth16', 'denom16', 'nataid', 'natarms', 'res16', 'race',\n",
       "       'sex', 'educ', 'age', 'divorce', 'marital', 'wrkstat', 'id_', 'reg16',\n",
       "       'region', 'size', 'natrace', 'nateduc', 'natdrug', 'natcity', 'natheal',\n",
       "       'natenvir', 'natspac', 'polviews', 'partyid', 'year'],\n",
       "      dtype='object')"
      ]
     },
     "execution_count": 5,
     "metadata": {},
     "output_type": "execute_result"
    }
   ],
   "source": [
    "gss.columns"
   ]
  },
  {
   "cell_type": "markdown",
   "metadata": {},
   "source": [
    "The `nataid` variable refers to whether or not the survey respondent thinks that the country spends too much, too little, or just the right amount on foreign aid.\n",
    "\n",
    "Code | Label\n",
    "--- | ---\n",
    "1   | Too little\n",
    "2   | About right\n",
    "3   | Too much\n",
    "8   | Don't know\n",
    "9   | No answer\n",
    "0   | Not applicable"
   ]
  },
  {
   "cell_type": "code",
   "execution_count": 6,
   "metadata": {},
   "outputs": [],
   "source": [
    "gss['nataid'].replace([0,9], np.nan, inplace=True)"
   ]
  },
  {
   "cell_type": "code",
   "execution_count": 7,
   "metadata": {},
   "outputs": [
    {
     "data": {
      "text/plain": [
       "1.0     2355\n",
       "2.0     8477\n",
       "3.0    24317\n",
       "8.0     1891\n",
       "Name: nataid, dtype: int64"
      ]
     },
     "execution_count": 7,
     "metadata": {},
     "output_type": "execute_result"
    }
   ],
   "source": [
    "gss['nataid'].value_counts().sort_index()"
   ]
  },
  {
   "cell_type": "markdown",
   "metadata": {},
   "source": [
    "The `natarms` variable refers to whether or not the survey respondent thinks that the country spends too much, too little, or just the right amount on military, armaments, and defense.\n",
    "\n",
    "Code | Label\n",
    "--- | ---\n",
    "1   | Too little\n",
    "2   | About right\n",
    "3   | Too much\n",
    "8   | Don't know\n",
    "9   | No answer\n",
    "0   | Not applicable"
   ]
  },
  {
   "cell_type": "code",
   "execution_count": 8,
   "metadata": {},
   "outputs": [],
   "source": [
    "gss['natarms'].replace([0,9], np.nan, inplace=True)"
   ]
  },
  {
   "cell_type": "code",
   "execution_count": 9,
   "metadata": {},
   "outputs": [
    {
     "data": {
      "text/plain": [
       "1.0     8781\n",
       "2.0    15030\n",
       "3.0    11385\n",
       "8.0     1829\n",
       "Name: natarms, dtype: int64"
      ]
     },
     "execution_count": 9,
     "metadata": {},
     "output_type": "execute_result"
    }
   ],
   "source": [
    "gss['natarms'].value_counts().sort_index()"
   ]
  },
  {
   "cell_type": "markdown",
   "metadata": {},
   "source": [
    "The `natrace` variable refers to whether or not the survey respondent thinks that the country spends too much, too little, or just the right amount on \"improving the conditions of blacks\". \n",
    "\n",
    "Code | Label\n",
    "--- | ---\n",
    "1   | Too little\n",
    "2   | About right\n",
    "3   | Too much\n",
    "8   | Don't know\n",
    "9   | No answer\n",
    "0   | Not applicable"
   ]
  },
  {
   "cell_type": "code",
   "execution_count": 10,
   "metadata": {},
   "outputs": [],
   "source": [
    "gss['natrace'].replace([0,9], np.nan, inplace=True)"
   ]
  },
  {
   "cell_type": "code",
   "execution_count": 11,
   "metadata": {},
   "outputs": [
    {
     "data": {
      "text/plain": [
       "1.0    12141\n",
       "2.0    15164\n",
       "3.0     6506\n",
       "8.0     3113\n",
       "Name: natrace, dtype: int64"
      ]
     },
     "execution_count": 11,
     "metadata": {},
     "output_type": "execute_result"
    }
   ],
   "source": [
    "gss['natrace'].value_counts().sort_index()"
   ]
  },
  {
   "cell_type": "markdown",
   "metadata": {},
   "source": [
    "The `res16` variable relates to the size of the location where the respondent lived when they were 16 years old. We removed the Don't Know entries as they do not supply us with helpful information.\n",
    "\n",
    "Code | Label\n",
    "--- | ---\n",
    "1   | Country, nonfarm\n",
    "2   | Farm\n",
    "3   | Town of 50000\n",
    "4   | 50000 to 250000\n",
    "5   | Big-city suburb\n",
    "6   | City 250000\n",
    "8   | Don't know\n",
    "9   | No answer\n",
    "0   | Not applicable"
   ]
  },
  {
   "cell_type": "code",
   "execution_count": 12,
   "metadata": {},
   "outputs": [],
   "source": [
    "gss['res16'].replace([0,9], np.nan, inplace=True)"
   ]
  },
  {
   "cell_type": "code",
   "execution_count": 13,
   "metadata": {
    "scrolled": true
   },
   "outputs": [
    {
     "data": {
      "text/plain": [
       "1.0     6935\n",
       "2.0     9440\n",
       "3.0    20076\n",
       "4.0     9805\n",
       "5.0     7078\n",
       "6.0     9851\n",
       "8.0       42\n",
       "Name: res16, dtype: int64"
      ]
     },
     "execution_count": 13,
     "metadata": {},
     "output_type": "execute_result"
    }
   ],
   "source": [
    "gss['res16'].value_counts().sort_index()"
   ]
  },
  {
   "cell_type": "markdown",
   "metadata": {},
   "source": [
    "The `race` variable relates to the race of respondent.\n",
    "\n",
    "Code | Label\n",
    "--- | ---\n",
    "1   | White\n",
    "2   | Black\n",
    "3   | Other"
   ]
  },
  {
   "cell_type": "code",
   "execution_count": 14,
   "metadata": {},
   "outputs": [
    {
     "data": {
      "text/plain": [
       "1    52033\n",
       "2     9187\n",
       "3     3594\n",
       "Name: race, dtype: int64"
      ]
     },
     "execution_count": 14,
     "metadata": {},
     "output_type": "execute_result"
    }
   ],
   "source": [
    "gss['race'].value_counts().sort_index()"
   ]
  },
  {
   "cell_type": "markdown",
   "metadata": {},
   "source": [
    "The `sex` variable relates to the race of respondent.\n",
    "\n",
    "Code | Label\n",
    "--- | ---\n",
    "1   | Male\n",
    "2   | Female"
   ]
  },
  {
   "cell_type": "code",
   "execution_count": 15,
   "metadata": {},
   "outputs": [
    {
     "data": {
      "text/plain": [
       "1    28614\n",
       "2    36200\n",
       "Name: sex, dtype: int64"
      ]
     },
     "execution_count": 15,
     "metadata": {},
     "output_type": "execute_result"
    }
   ],
   "source": [
    "gss['sex'].value_counts().sort_index()"
   ]
  },
  {
   "cell_type": "markdown",
   "metadata": {},
   "source": [
    "The `educ` variable relates to the education of the of respondent in years of schooling."
   ]
  },
  {
   "cell_type": "code",
   "execution_count": 16,
   "metadata": {},
   "outputs": [],
   "source": [
    "gss['educ'].replace([98,99], np.nan, inplace=True)"
   ]
  },
  {
   "cell_type": "code",
   "execution_count": 17,
   "metadata": {},
   "outputs": [
    {
     "data": {
      "text/plain": [
       "0.0       165\n",
       "1.0        47\n",
       "2.0       152\n",
       "3.0       257\n",
       "4.0       319\n",
       "5.0       402\n",
       "6.0       828\n",
       "7.0       879\n",
       "8.0      2724\n",
       "9.0      2083\n",
       "10.0     2880\n",
       "11.0     3743\n",
       "12.0    19663\n",
       "13.0     5360\n",
       "14.0     7160\n",
       "15.0     2910\n",
       "16.0     8355\n",
       "17.0     1967\n",
       "18.0     2384\n",
       "19.0      920\n",
       "20.0     1439\n",
       "Name: educ, dtype: int64"
      ]
     },
     "execution_count": 17,
     "metadata": {},
     "output_type": "execute_result"
    }
   ],
   "source": [
    "gss['educ'].value_counts().sort_index()"
   ]
  },
  {
   "cell_type": "markdown",
   "metadata": {},
   "source": [
    "The `age` variable is the age of the respondent respondent has obtained in years. We removed No Answers and Don't Knows"
   ]
  },
  {
   "cell_type": "code",
   "execution_count": 18,
   "metadata": {},
   "outputs": [],
   "source": [
    "gss['age'].replace([98,99], np.nan, inplace=True)"
   ]
  },
  {
   "cell_type": "code",
   "execution_count": 19,
   "metadata": {},
   "outputs": [
    {
     "data": {
      "text/plain": [
       "18.0     241\n",
       "19.0     861\n",
       "20.0     885\n",
       "21.0    1014\n",
       "22.0    1082\n",
       "23.0    1238\n",
       "24.0    1213\n",
       "25.0    1378\n",
       "26.0    1336\n",
       "27.0    1391\n",
       "28.0    1432\n",
       "29.0    1327\n",
       "30.0    1450\n",
       "31.0    1340\n",
       "32.0    1431\n",
       "33.0    1375\n",
       "34.0    1422\n",
       "35.0    1383\n",
       "36.0    1362\n",
       "37.0    1360\n",
       "38.0    1350\n",
       "39.0    1236\n",
       "40.0    1287\n",
       "41.0    1222\n",
       "42.0    1201\n",
       "43.0    1240\n",
       "44.0    1174\n",
       "45.0    1091\n",
       "46.0    1123\n",
       "47.0    1104\n",
       "        ... \n",
       "60.0     940\n",
       "61.0     842\n",
       "62.0     865\n",
       "63.0     843\n",
       "64.0     736\n",
       "65.0     819\n",
       "66.0     749\n",
       "67.0     800\n",
       "68.0     737\n",
       "69.0     689\n",
       "70.0     719\n",
       "71.0     624\n",
       "72.0     616\n",
       "73.0     552\n",
       "74.0     593\n",
       "75.0     504\n",
       "76.0     507\n",
       "77.0     477\n",
       "78.0     433\n",
       "79.0     376\n",
       "80.0     337\n",
       "81.0     329\n",
       "82.0     279\n",
       "83.0     260\n",
       "84.0     226\n",
       "85.0     197\n",
       "86.0     186\n",
       "87.0     148\n",
       "88.0     121\n",
       "89.0     364\n",
       "Name: age, Length: 72, dtype: int64"
      ]
     },
     "execution_count": 19,
     "metadata": {},
     "output_type": "execute_result"
    }
   ],
   "source": [
    "gss['age'].value_counts().sort_index()"
   ]
  },
  {
   "cell_type": "markdown",
   "metadata": {},
   "source": [
    "The `cohort` is the year of the respondent's birth"
   ]
  },
  {
   "cell_type": "code",
   "execution_count": 20,
   "metadata": {},
   "outputs": [
    {
     "data": {
      "text/plain": [
       "1883.0      2\n",
       "1884.0      3\n",
       "1885.0      7\n",
       "1886.0      4\n",
       "1887.0     13\n",
       "1888.0     10\n",
       "1889.0     21\n",
       "1890.0     27\n",
       "1891.0     27\n",
       "1892.0     31\n",
       "1893.0     34\n",
       "1894.0     61\n",
       "1895.0     55\n",
       "1896.0     73\n",
       "1897.0     72\n",
       "1898.0    105\n",
       "1899.0    123\n",
       "1900.0    130\n",
       "1901.0    138\n",
       "1902.0    163\n",
       "1903.0    173\n",
       "1904.0    182\n",
       "1905.0    219\n",
       "1906.0    207\n",
       "1907.0    263\n",
       "1908.0    246\n",
       "1909.0    330\n",
       "1910.0    285\n",
       "1911.0    318\n",
       "1912.0    348\n",
       "         ... \n",
       "1971.0    689\n",
       "1972.0    679\n",
       "1973.0    640\n",
       "1974.0    638\n",
       "1975.0    570\n",
       "1976.0    565\n",
       "1977.0    576\n",
       "1978.0    498\n",
       "1979.0    547\n",
       "1980.0    488\n",
       "1981.0    468\n",
       "1982.0    398\n",
       "1983.0    365\n",
       "1984.0    376\n",
       "1985.0    352\n",
       "1986.0    292\n",
       "1987.0    268\n",
       "1988.0    232\n",
       "1989.0    245\n",
       "1990.0    179\n",
       "1991.0    180\n",
       "1992.0    123\n",
       "1993.0    136\n",
       "1994.0    120\n",
       "1995.0     87\n",
       "1996.0     72\n",
       "1997.0     61\n",
       "1998.0     22\n",
       "1999.0     26\n",
       "2000.0     22\n",
       "Name: cohort, Length: 118, dtype: int64"
      ]
     },
     "execution_count": 20,
     "metadata": {},
     "output_type": "execute_result"
    }
   ],
   "source": [
    "gss['cohort'].replace(9999, np.nan, inplace=True)\n",
    "gss['cohort'].value_counts().sort_index()"
   ]
  },
  {
   "cell_type": "markdown",
   "metadata": {},
   "source": [
    "The `divorce` variable refers to whether or not the survey respondent has ever been married, whether or not that marriage is currently intact or how it ended. We removed Don't Knows as well as N/As and made No 0 for possible regression later on.\n",
    "\n",
    "Code | Label\n",
    "--- | ---\n",
    "1   | Yes\n",
    "2   | No\n",
    "8   | Don't know\n",
    "9   | No answer\n",
    "0   | Not applicable"
   ]
  },
  {
   "cell_type": "code",
   "execution_count": 21,
   "metadata": {},
   "outputs": [],
   "source": [
    "gss['divorce'].replace([0,8,9], np.nan, inplace=True)\n",
    "gss['divorce'].replace(2, 0, inplace=True)"
   ]
  },
  {
   "cell_type": "code",
   "execution_count": 22,
   "metadata": {},
   "outputs": [
    {
     "data": {
      "text/plain": [
       "0.0    31806\n",
       "1.0     8286\n",
       "Name: divorce, dtype: int64"
      ]
     },
     "execution_count": 22,
     "metadata": {},
     "output_type": "execute_result"
    }
   ],
   "source": [
    "gss['divorce'].value_counts().sort_index()"
   ]
  },
  {
   "cell_type": "markdown",
   "metadata": {},
   "source": [
    "The `marital` variable refers to the marital status of the respondent.\n",
    "\n",
    "Code | Label\n",
    "--- | ---\n",
    "1   | Married\n",
    "2   | Widowed\n",
    "3   | Divorced\n",
    "4   | Separated\n",
    "5   | Never married\n",
    "9   | No answer"
   ]
  },
  {
   "cell_type": "code",
   "execution_count": 23,
   "metadata": {},
   "outputs": [],
   "source": [
    "gss['marital'].replace([9], np.nan, inplace=True)"
   ]
  },
  {
   "cell_type": "code",
   "execution_count": 24,
   "metadata": {},
   "outputs": [
    {
     "data": {
      "text/plain": [
       "1.0    34129\n",
       "2.0     6200\n",
       "3.0     8379\n",
       "4.0     2242\n",
       "5.0    13837\n",
       "Name: marital, dtype: int64"
      ]
     },
     "execution_count": 24,
     "metadata": {},
     "output_type": "execute_result"
    }
   ],
   "source": [
    "gss['marital'].value_counts().sort_index()"
   ]
  },
  {
   "cell_type": "markdown",
   "metadata": {},
   "source": [
    "The `wrkstat` variable refers to the employment status of the respondent.\n",
    "\n",
    "Code | Label\n",
    "--- | ---\n",
    "1   | Working fulltime\n",
    "2   | Working parttime\n",
    "3   | Temp not working\n",
    "4   | Unempl, laid off\n",
    "5   | Retired\n",
    "6   | School\n",
    "7   | Keeping house\n",
    "8  | Other\n",
    "9   | No answer"
   ]
  },
  {
   "cell_type": "code",
   "execution_count": 25,
   "metadata": {},
   "outputs": [],
   "source": [
    "gss['wrkstat'].replace([9], np.nan, inplace=True)"
   ]
  },
  {
   "cell_type": "code",
   "execution_count": 26,
   "metadata": {},
   "outputs": [
    {
     "data": {
      "text/plain": [
       "1.0    31892\n",
       "2.0     6719\n",
       "3.0     1363\n",
       "4.0     2179\n",
       "5.0     9121\n",
       "6.0     1998\n",
       "7.0    10176\n",
       "8.0     1345\n",
       "Name: wrkstat, dtype: int64"
      ]
     },
     "execution_count": 26,
     "metadata": {},
     "output_type": "execute_result"
    }
   ],
   "source": [
    "gss['wrkstat'].value_counts().sort_index()"
   ]
  },
  {
   "cell_type": "markdown",
   "metadata": {},
   "source": [
    "The `nateduc` variable refers to whether or not the survey respondent thinks that the country spends too much, too little, or just the right amount on improving the nation's education system. \n",
    "\n",
    "Code | Label\n",
    "--- | ---\n",
    "1   | Too little\n",
    "2   | About right\n",
    "3   | Too much\n",
    "8   | Don't know\n",
    "9   | No answer\n",
    "0   | Not applicable"
   ]
  },
  {
   "cell_type": "code",
   "execution_count": 27,
   "metadata": {},
   "outputs": [],
   "source": [
    "gss['nateduc'].replace([0,9], np.nan, inplace=True)"
   ]
  },
  {
   "cell_type": "code",
   "execution_count": 28,
   "metadata": {},
   "outputs": [
    {
     "data": {
      "text/plain": [
       "1.0    23423\n",
       "2.0    10183\n",
       "3.0     2491\n",
       "8.0      946\n",
       "Name: nateduc, dtype: int64"
      ]
     },
     "execution_count": 28,
     "metadata": {},
     "output_type": "execute_result"
    }
   ],
   "source": [
    "gss['nateduc'].value_counts().sort_index()"
   ]
  },
  {
   "cell_type": "markdown",
   "metadata": {},
   "source": [
    "The `natdrug` variable refers to whether or not the survey respondent thinks that the country spends too much, too little, or just the right amount on dealing with drug addiction. \n",
    "\n",
    "Code | Label\n",
    "--- | ---\n",
    "1   | Too little\n",
    "2   | About right\n",
    "3   | Too much\n",
    "8   | Don't know\n",
    "9   | No answer\n",
    "0   | Not applicable"
   ]
  },
  {
   "cell_type": "code",
   "execution_count": 29,
   "metadata": {},
   "outputs": [],
   "source": [
    "gss['natdrug'].replace([0,9], np.nan, inplace=True)"
   ]
  },
  {
   "cell_type": "code",
   "execution_count": 30,
   "metadata": {},
   "outputs": [
    {
     "data": {
      "text/plain": [
       "1.0    22005\n",
       "2.0    10179\n",
       "3.0     2994\n",
       "8.0     1819\n",
       "Name: natdrug, dtype: int64"
      ]
     },
     "execution_count": 30,
     "metadata": {},
     "output_type": "execute_result"
    }
   ],
   "source": [
    "gss['natdrug'].value_counts().sort_index()"
   ]
  },
  {
   "cell_type": "markdown",
   "metadata": {},
   "source": [
    "The `natcity` variable refers to whether or not the survey respondent thinks that the country spends too much, too little, or just the right amount on solving problems of big cities. \n",
    "\n",
    "Code | Label\n",
    "--- | ---\n",
    "1   | Too little\n",
    "2   | About right\n",
    "3   | Too much\n",
    "8   | Don't know\n",
    "9   | No answer\n",
    "0   | Not applicable"
   ]
  },
  {
   "cell_type": "code",
   "execution_count": 31,
   "metadata": {},
   "outputs": [],
   "source": [
    "gss['natcity'].replace([0,9], np.nan, inplace=True)"
   ]
  },
  {
   "cell_type": "code",
   "execution_count": 32,
   "metadata": {},
   "outputs": [
    {
     "data": {
      "text/plain": [
       "1.0    16642\n",
       "2.0    10761\n",
       "3.0     5216\n",
       "8.0     4388\n",
       "Name: natcity, dtype: int64"
      ]
     },
     "execution_count": 32,
     "metadata": {},
     "output_type": "execute_result"
    }
   ],
   "source": [
    "gss['natcity'].value_counts().sort_index()"
   ]
  },
  {
   "cell_type": "markdown",
   "metadata": {},
   "source": [
    "The `natheal` variable refers to whether or not the survey respondent thinks that the country spends too much, too little, or just the right amount on improving & protecting nations health. \n",
    "\n",
    "Code | Label\n",
    "--- | ---\n",
    "1   | Too little\n",
    "2   | About right\n",
    "3   | Too much\n",
    "8   | Don't know\n",
    "9   | No answer\n",
    "0   | Not applicable"
   ]
  },
  {
   "cell_type": "code",
   "execution_count": 33,
   "metadata": {},
   "outputs": [],
   "source": [
    "gss['natheal'].replace([0,9], np.nan, inplace=True)"
   ]
  },
  {
   "cell_type": "code",
   "execution_count": 34,
   "metadata": {},
   "outputs": [
    {
     "data": {
      "text/plain": [
       "1.0    23779\n",
       "2.0     9786\n",
       "3.0     2317\n",
       "8.0     1161\n",
       "Name: natheal, dtype: int64"
      ]
     },
     "execution_count": 34,
     "metadata": {},
     "output_type": "execute_result"
    }
   ],
   "source": [
    "gss['natheal'].value_counts().sort_index()"
   ]
  },
  {
   "cell_type": "markdown",
   "metadata": {},
   "source": [
    "The `natenvir` variable refers to whether or not the survey respondent thinks that the country spends too much, too little, or just the right amount on improving & protecting environment. \n",
    "\n",
    "Code | Label\n",
    "--- | ---\n",
    "1   | Too little\n",
    "2   | About right\n",
    "3   | Too much\n",
    "8   | Don't know\n",
    "9   | No answer\n",
    "0   | Not applicable"
   ]
  },
  {
   "cell_type": "code",
   "execution_count": 35,
   "metadata": {},
   "outputs": [],
   "source": [
    "gss['natenvir'].replace([0,9], np.nan, inplace=True)"
   ]
  },
  {
   "cell_type": "code",
   "execution_count": 36,
   "metadata": {},
   "outputs": [
    {
     "data": {
      "text/plain": [
       "1.0    21658\n",
       "2.0    10626\n",
       "3.0     3132\n",
       "8.0     1631\n",
       "Name: natenvir, dtype: int64"
      ]
     },
     "execution_count": 36,
     "metadata": {},
     "output_type": "execute_result"
    }
   ],
   "source": [
    "gss['natenvir'].value_counts().sort_index()"
   ]
  },
  {
   "cell_type": "markdown",
   "metadata": {},
   "source": [
    "The `natspac` variable refers to whether or not the survey respondent thinks that the country spends too much, too little, or just the right amount on space exploration program. \n",
    "\n",
    "Code | Label\n",
    "--- | ---\n",
    "1   | Too little\n",
    "2   | About right\n",
    "3   | Too much\n",
    "8   | Don't know\n",
    "9   | No answer\n",
    "0   | Not applicable"
   ]
  },
  {
   "cell_type": "code",
   "execution_count": 37,
   "metadata": {},
   "outputs": [],
   "source": [
    "gss['natspac'].replace([0,9], np.nan, inplace=True)"
   ]
  },
  {
   "cell_type": "code",
   "execution_count": 38,
   "metadata": {},
   "outputs": [
    {
     "data": {
      "text/plain": [
       "1.0     4750\n",
       "2.0    14362\n",
       "3.0    15584\n",
       "8.0     2386\n",
       "Name: natspac, dtype: int64"
      ]
     },
     "execution_count": 38,
     "metadata": {},
     "output_type": "execute_result"
    }
   ],
   "source": [
    "gss['natspac'].value_counts().sort_index()"
   ]
  },
  {
   "cell_type": "markdown",
   "metadata": {},
   "source": [
    "The `polviews` variable refers to where the survey respondent thinks that they fall on a 7 point scale between extremely liberal and extremely conservative. \n",
    "\n",
    "Code | Label\n",
    "--- | ---\n",
    "1   | Extremely liberal\n",
    "2   | Liberal\n",
    "3   | Slightly liberal\n",
    "4   | Moderate\n",
    "5   | Slightly conservative\n",
    "6   | Conservative\n",
    "7   | Extremely conservative\n",
    "8   | Don't know\n",
    "9   | No answer\n",
    "0   | Not applicable"
   ]
  },
  {
   "cell_type": "code",
   "execution_count": 39,
   "metadata": {},
   "outputs": [],
   "source": [
    "gss['polviews'].replace([0,9], np.nan, inplace=True)"
   ]
  },
  {
   "cell_type": "code",
   "execution_count": 40,
   "metadata": {},
   "outputs": [
    {
     "data": {
      "text/plain": [
       "1.0     1682\n",
       "2.0     6514\n",
       "3.0     7010\n",
       "4.0    21370\n",
       "5.0     8690\n",
       "6.0     8230\n",
       "7.0     1832\n",
       "8.0     2326\n",
       "Name: polviews, dtype: int64"
      ]
     },
     "execution_count": 40,
     "metadata": {},
     "output_type": "execute_result"
    }
   ],
   "source": [
    "gss['polviews'].value_counts().sort_index()"
   ]
  },
  {
   "cell_type": "markdown",
   "metadata": {},
   "source": [
    "The `partyid` variable refers to whether the survey respondent thinks that they area Republican, Democrat, or Independent. \n",
    "\n",
    "Code | Label\n",
    "--- | ---\n",
    "0   | Strong democrat\n",
    "1   | Not strong democrat\n",
    "2   | Independent, near democrat\n",
    "3   | Independent\n",
    "4   | Independent, near republican\n",
    "5   | Not strong democrat\n",
    "6   | Strong republican\n",
    "7   | Other party\n",
    "8   | Don't know\n",
    "9   | No answer"
   ]
  },
  {
   "cell_type": "code",
   "execution_count": 41,
   "metadata": {},
   "outputs": [],
   "source": [
    "gss['partyid'].replace([8,9], np.nan, inplace=True)"
   ]
  },
  {
   "cell_type": "code",
   "execution_count": 42,
   "metadata": {},
   "outputs": [
    {
     "data": {
      "text/plain": [
       "0.0    10378\n",
       "1.0    13294\n",
       "2.0     7792\n",
       "3.0     9888\n",
       "4.0     5721\n",
       "5.0     9933\n",
       "6.0     6318\n",
       "7.0     1072\n",
       "Name: partyid, dtype: int64"
      ]
     },
     "execution_count": 42,
     "metadata": {},
     "output_type": "execute_result"
    }
   ],
   "source": [
    "gss['partyid'].value_counts().sort_index()"
   ]
  },
  {
   "cell_type": "markdown",
   "metadata": {},
   "source": [
    "The `ballot` variable indicates the ballot used for each interview. We replace the 'Not applicable' code with NaNs."
   ]
  },
  {
   "cell_type": "markdown",
   "metadata": {},
   "source": [
    "Code | Label\n",
    "--- | ---\n",
    "1 | ballot a\n",
    "2 | ballot b\n",
    "3 | ballot c\n",
    "4 | ballot d\n",
    "0 | not applicable"
   ]
  },
  {
   "cell_type": "code",
   "execution_count": 43,
   "metadata": {},
   "outputs": [
    {
     "name": "stdout",
     "output_type": "stream",
     "text": [
      "0    21875\n",
      "2    13917\n",
      "3    13798\n",
      "1    13706\n",
      "4     1518\n",
      "Name: ballot, dtype: int64\n"
     ]
    }
   ],
   "source": [
    "print(gss['ballot'].value_counts())"
   ]
  },
  {
   "cell_type": "code",
   "execution_count": 44,
   "metadata": {},
   "outputs": [],
   "source": [
    "gss['ballot'] = gss['ballot'].replace([0], np.nan);"
   ]
  },
  {
   "cell_type": "markdown",
   "metadata": {},
   "source": [
    "The `spkhomo` variable indicates respondents feel a homosexual man should be allowed to make a speech in their community."
   ]
  },
  {
   "cell_type": "markdown",
   "metadata": {},
   "source": [
    "Code | Label\n",
    "--- | ---\n",
    "1 | Allowed\n",
    "2 | Not allowed\n",
    "8 | Don't know\n",
    "9 | No answer\n",
    "0 | Not applicable"
   ]
  },
  {
   "cell_type": "code",
   "execution_count": 45,
   "metadata": {},
   "outputs": [
    {
     "data": {
      "text/plain": [
       "1    30002\n",
       "0    25042\n",
       "2     8621\n",
       "8     1024\n",
       "9      125\n",
       "Name: spkhomo, dtype: int64"
      ]
     },
     "execution_count": 45,
     "metadata": {},
     "output_type": "execute_result"
    }
   ],
   "source": [
    "gss['spkhomo'].value_counts()"
   ]
  },
  {
   "cell_type": "code",
   "execution_count": 46,
   "metadata": {},
   "outputs": [],
   "source": [
    "gss['spkhomo'] = gss['spkhomo'].replace([0, 9], np.nan)"
   ]
  },
  {
   "cell_type": "markdown",
   "metadata": {},
   "source": [
    "The `colhomo` variable indicates if the respondents feel that a homosexual man should be able to teach in a college or university."
   ]
  },
  {
   "cell_type": "markdown",
   "metadata": {},
   "source": [
    "Code | Label\n",
    "--- | ---\n",
    "4 | Allowed\n",
    "5 | Not allowed\n",
    "8 | Don't know\n",
    "9 | No answer\n",
    "0 | Not applicable"
   ]
  },
  {
   "cell_type": "code",
   "execution_count": 47,
   "metadata": {},
   "outputs": [
    {
     "data": {
      "text/plain": [
       "4    27010\n",
       "0    25042\n",
       "5    11358\n",
       "8     1272\n",
       "9      132\n",
       "Name: colhomo, dtype: int64"
      ]
     },
     "execution_count": 47,
     "metadata": {},
     "output_type": "execute_result"
    }
   ],
   "source": [
    "gss['colhomo'].value_counts()"
   ]
  },
  {
   "cell_type": "code",
   "execution_count": 48,
   "metadata": {},
   "outputs": [],
   "source": [
    "gss['colhomo'] = gss['colhomo'].replace([0, 9], np.nan)"
   ]
  },
  {
   "cell_type": "markdown",
   "metadata": {},
   "source": [
    "The `libhomo` variable indicates respondents' answers to the question \"If some people in your community suggested that a book he \\[a homosexual man\\] wrote in favor of homosexuality should be taken out of your public library, would you favor removing this book, or not?\""
   ]
  },
  {
   "cell_type": "markdown",
   "metadata": {},
   "source": [
    "Code | Label\n",
    "--- | ---\n",
    "1 | Remove\n",
    "2 | Not remove\n",
    "8 | Don't know\n",
    "9 | No answer\n",
    "0 | Not applicable"
   ]
  },
  {
   "cell_type": "code",
   "execution_count": 49,
   "metadata": {},
   "outputs": [
    {
     "data": {
      "text/plain": [
       "2    26505\n",
       "0    25042\n",
       "1    12073\n",
       "8     1065\n",
       "9      129\n",
       "Name: libhomo, dtype: int64"
      ]
     },
     "execution_count": 49,
     "metadata": {},
     "output_type": "execute_result"
    }
   ],
   "source": [
    "gss['libhomo'].value_counts()"
   ]
  },
  {
   "cell_type": "code",
   "execution_count": 50,
   "metadata": {},
   "outputs": [],
   "source": [
    "gss['libhomo'] = gss['libhomo'].replace([0, 9], np.nan)"
   ]
  },
  {
   "cell_type": "markdown",
   "metadata": {},
   "source": [
    "The `cappun` variable indicates if respondents are in favor of or oppose the death penalty for persons convicted of murder."
   ]
  },
  {
   "cell_type": "markdown",
   "metadata": {},
   "source": [
    "Code | Label\n",
    "--- | ---\n",
    "1 | Favor\n",
    "2 | Oppose\n",
    "8 | Don't know\n",
    "9 | No answer\n",
    "0 | Not applicable"
   ]
  },
  {
   "cell_type": "code",
   "execution_count": 51,
   "metadata": {},
   "outputs": [
    {
     "data": {
      "text/plain": [
       "1    37946\n",
       "2    15604\n",
       "0     7500\n",
       "8     3410\n",
       "9      354\n",
       "Name: cappun, dtype: int64"
      ]
     },
     "execution_count": 51,
     "metadata": {},
     "output_type": "execute_result"
    }
   ],
   "source": [
    "gss['cappun'].value_counts()"
   ]
  },
  {
   "cell_type": "code",
   "execution_count": 52,
   "metadata": {},
   "outputs": [],
   "source": [
    "gss['cappun'] = gss['cappun'].replace([0, 9], np.nan)"
   ]
  },
  {
   "cell_type": "markdown",
   "metadata": {},
   "source": [
    "The `marhomo` variable indicates if respondents think homosexual couples should have the right to marry."
   ]
  },
  {
   "cell_type": "markdown",
   "metadata": {},
   "source": [
    "Code | Label\n",
    "--- | ---\n",
    "1 | Strongly agree\n",
    "2 | Agree\n",
    "3 | Neither agree or disagree\n",
    "4 | Disagree\n",
    "5 | Strongly disagree\n",
    "8 | Can't choose\n",
    "9 | No answer\n",
    "0 | Not applicable"
   ]
  },
  {
   "cell_type": "code",
   "execution_count": 53,
   "metadata": {},
   "outputs": [
    {
     "data": {
      "text/plain": [
       "0    51062\n",
       "5     3635\n",
       "1     3093\n",
       "2     2966\n",
       "4     2086\n",
       "3     1684\n",
       "8      202\n",
       "9       86\n",
       "Name: marhomo, dtype: int64"
      ]
     },
     "execution_count": 53,
     "metadata": {},
     "output_type": "execute_result"
    }
   ],
   "source": [
    "gss['marhomo'].value_counts()"
   ]
  },
  {
   "cell_type": "code",
   "execution_count": 54,
   "metadata": {},
   "outputs": [],
   "source": [
    "gss['marhomo'] = gss['marhomo'].replace([0, 9], np.nan)"
   ]
  },
  {
   "cell_type": "markdown",
   "metadata": {},
   "source": [
    "The `relig` variable indicates religious preference."
   ]
  },
  {
   "cell_type": "markdown",
   "metadata": {},
   "source": [
    "Code | Label\n",
    "--- | ---\n",
    "1 | Protestant\n",
    "2 | Catholic\n",
    "3 | Jewish\n",
    "4 | None\n",
    "5 | Other\n",
    "6 | Buddhism\n",
    "7 | Hinduism\n",
    "8 | Other eastern\n",
    "9 | Moslem/Islam\n",
    "10 | Orthodox Christian\n",
    "11 | Christian\n",
    "12 | Native American\n",
    "13 | Inter-nondenominational\n",
    "98 | Don't know\n",
    "99 | No answer"
   ]
  },
  {
   "cell_type": "code",
   "execution_count": 55,
   "metadata": {},
   "outputs": [
    {
     "data": {
      "text/plain": [
       "1     37117\n",
       "2     15674\n",
       "4      7797\n",
       "3      1285\n",
       "5      1086\n",
       "11      791\n",
       "99      258\n",
       "6       198\n",
       "9       153\n",
       "13      136\n",
       "10      118\n",
       "7       100\n",
       "8        39\n",
       "12       31\n",
       "98       31\n",
       "Name: relig, dtype: int64"
      ]
     },
     "execution_count": 55,
     "metadata": {},
     "output_type": "execute_result"
    }
   ],
   "source": [
    "gss['relig'].value_counts()"
   ]
  },
  {
   "cell_type": "code",
   "execution_count": 56,
   "metadata": {},
   "outputs": [],
   "source": [
    "gss['relig'] = gss['relig'].replace([99], np.nan)"
   ]
  },
  {
   "cell_type": "markdown",
   "metadata": {},
   "source": [
    "The `denom` variable indicates the specific religious denomination."
   ]
  },
  {
   "cell_type": "markdown",
   "metadata": {},
   "source": [
    "Code | Label\n",
    "--- | ---\n",
    "10 | Am baptist asso\n",
    "11 | Am bapt ch in usa\n",
    "12 | Nat bapt conv of am\n",
    "13 | Nat bapt con usa\n",
    "14 | Southern baptist\n",
    "15| Other baptists\n",
    "18 | Baptist-dk which\n",
    "20 | Afr meth episcopal\n",
    "22 | United methodist\n",
    "23 | Other methodist\n",
    "28 | Methodist-dk which\n",
    "30 | Am lutheran\n",
    "31 | Luth ch in america\n",
    "32 | Lutheran-mo synod\n",
    "33 | Wi evan luth synod\n",
    "34 | Other lutheran\n",
    "35 | Evangelical luth\n",
    "38 | Lutheran-dk which\n",
    "40 | Presbyterian c in us\n",
    "41 | United pres ch in us\n",
    "42 | Other presbyterian\n",
    "43 | Presbyterian, merged\n",
    "48 | Presbyterian-dk which\n",
    "50 | Episcopal\n",
    "60 | Other\n",
    "70 | No denomination\n",
    "98 | Don't know\n",
    "99 | No answer\n",
    "0 | Not applicable"
   ]
  },
  {
   "cell_type": "code",
   "execution_count": 57,
   "metadata": {},
   "outputs": [
    {
     "data": {
      "text/plain": [
       "0     26640\n",
       "60     8048\n",
       "18     6415\n",
       "70     3955\n",
       "14     3889\n",
       "22     2881\n",
       "28     2403\n",
       "38     1738\n",
       "50     1397\n",
       "48     1190\n",
       "15      836\n",
       "32      687\n",
       "10      675\n",
       "30      571\n",
       "41      443\n",
       "40      347\n",
       "99      340\n",
       "11      332\n",
       "35      302\n",
       "31      211\n",
       "20      206\n",
       "12      200\n",
       "43      186\n",
       "42      170\n",
       "33      157\n",
       "34      155\n",
       "23      149\n",
       "13      128\n",
       "21       86\n",
       "98       77\n",
       "Name: denom, dtype: int64"
      ]
     },
     "execution_count": 57,
     "metadata": {},
     "output_type": "execute_result"
    }
   ],
   "source": [
    "gss['denom'].value_counts()"
   ]
  },
  {
   "cell_type": "code",
   "execution_count": 58,
   "metadata": {},
   "outputs": [],
   "source": [
    "gss['denom'] = gss['denom'].replace([0, 99], np.nan)"
   ]
  },
  {
   "cell_type": "markdown",
   "metadata": {},
   "source": [
    "The `other` variable indicates other denominations."
   ]
  },
  {
   "cell_type": "markdown",
   "metadata": {},
   "source": [
    "Code | Label\n",
    "--- | ---\n",
    "2\t| Evangelical Congregational\n",
    "3\t| Ind Bible, Bible, Bible Fellowship\n",
    "5\t| Church of Prophecy\n",
    "6\t| New Testament Christian\n",
    "7\t| Church of God, Saint & Christ\n",
    "8\t| Moravian\n",
    "9\t| Christian & Missionary Alliance\n",
    "10\t| Advent Christian\n",
    "11\t| Spiritualist\n",
    "12\t| Assembly of God\n",
    "13\t| Free Methodist\n",
    "14\t| Apostolic Faith\n",
    "15\t| African Methodist\n",
    "16\t| Free Will Baptist\n",
    "17\t| Eden Evangelist\n",
    "18\t| Holiness (Nazarene)\n",
    "19\t| Baptist (Northern)\n",
    "20\t| Brethren Church, Brethren\n",
    "21\t| Witness Holiness\n",
    "22\t| Brethren, Plymouth\n",
    "23\t| United Brethren, United Brethren in Christ\n",
    "24\t| Independent\n",
    "25\t| Christian Disciples\n",
    "26\t| Christ in Christian Union\n",
    "27\t| Open Bible\n",
    "28\t| Christian Catholic\n",
    "29\t| Christ Church Unity\n",
    "30\t| Christ Adelphians\n",
    "31\t| Christian; Central Christian\n",
    "32\t| Christian Reform\n",
    "33\t| Christian Scientist\n",
    "34\t| Church of Christ, Evangelical\n",
    "35\t| Church of Christ\n",
    "36\t| Churches of God(Except with Christ and Holiness)\n",
    "37\t| Church of God in Christ\n",
    "38\t| Church of God in Christ Holiness\n",
    "39\t| Church of the Living God\n",
    "40\t| Congregationalist, 1st Congreg\n",
    "41\t| Community Church\n",
    "42\t| Covenant\n",
    "43\t| Dutch Reform\n",
    "44\t| Disciples of Christ\n",
    "45\t| Evangelical, Evangelist\n",
    "46\t| Evangelical Reformed\n",
    "47\t| Evangelist Free Church\n",
    "48\t| First Church\n",
    "49\t| First Christian Disciples of Christ\n",
    "50\t| First Reformed\n",
    "51\t| First Christian\n",
    "52\t| Full Gospel\n",
    "53\t| Four Square Gospel\n",
    "54\t| Friends\n",
    "55\t| Holy Roller\n",
    "56\t| Holiness; Church of Holiness\n",
    "57\t| Pilgrim Holiness\n",
    "58\t| Jehovah's Witnesses\n",
    "61\t| LDS--Reorganized\n",
    "63\t| Mennonite\n",
    "64\t| Mormon\n",
    "65\t| Nazarene\n",
    "66\t| Pentecostal Assembly of God\n",
    "67\t| Pentecostal Church of God\n",
    "68\t| Pentecostal\n",
    "69\t| Pentecostal Holiness, Holiness Pentecostal\n",
    "70\t| Quaker\n",
    "71\t| Reformed\n",
    "72\t| Reformed United Church of Christ\n",
    "73\t| Reformed Church of Christ\n",
    "74\t| Religious Science\n",
    "75\t| Mind Science\n",
    "76\t| Salvation Army\n",
    "77\t| 7th Day Adventist\n",
    "78\t| Sanctified, Sanctification\n",
    "79\t| United Holiness\n",
    "80\t| Unitarian, Universalist\n",
    "81\t| United Church of Christ\n",
    "82\t| United Church, Unity Church\n",
    "83\t| Wesleyan\n",
    "84\t| Wesleyan Methodist--Pilgrim\n",
    "85\t| Zion Union\n",
    "86\t| Zion Union Apostolic\n",
    "87\t| Zion Union Apostolic--Reformed\n",
    "88\t| Disciples of God\n",
    "89\t| Grace Reformed\n",
    "90\t| Holiness Church of God\n",
    "91\t| Evangelical Covenant\n",
    "92\t| Mission Covenant\n",
    "93\t| Missionary Baptist\n",
    "94\t| Swedish Mission\n",
    "95\t| Unity\n",
    "96\t| United Church of Christianity\n",
    "97\t| Other Fundamentalist\n",
    "98\t| Federated Church\n",
    "99\t| American Reform\n",
    "100\t| Grace Brethren\n",
    "102\t| Charismatic\n",
    "103\t| Pentecostal Apostolic\n",
    "104\t| House of Prayer\n",
    "105\t| Latvian Lutheran\n",
    "107\t| Apostolic Christian\n",
    "108\t| Christ Cathedral of Truth\n",
    "109\t| Bible Missionary\n",
    "110\t| Calvary Bible\n",
    "111\t| Amish\n",
    "112\t| Evangelical Methodist\n",
    "113\t| Worldwide Church of God\n",
    "114\t| Church Universal and Triumphant\n",
    "115\t| Mennonite Brethren\n",
    "116\t| Church of the First Born\n",
    "117\t| Missionary Church\n",
    "118\t| The Way Ministry\n",
    "119\t| United Church of Canada\n",
    "120\t| Evangelical United Brethren\n",
    "121\t| The Church of God of Prophecy\n",
    "122\t| Chapel of Faith\n",
    "123\t| Polish National Church\n",
    "124\t| Faith Gospel Tabernacle\n",
    "125\t| Christian Calvary Chapel\n",
    "127\t| Church of Daniel's Band\n",
    "128\t| Christian Tabernacle\n",
    "129\t| Living Word\n",
    "130\t| True Light Church of Christ\n",
    "132\t| Brother of Christ\n",
    "133\t| Primitive Baptist\n",
    "134\t| Independent Fundamental Church of America\n",
    "135\t| Chinese Gospel Church\n",
    "136\t| New Age Spirituality\n",
    "137\t| New Song\n",
    "138\t| Apostolic Church\n",
    "141\t| New Birth Christian\n",
    "143\t| Assyrian Evangelist Church\n",
    "144\t| Spirit of Christ\n",
    "145\t| Church of Jesus Christ of the Restoration\n",
    "146\t| Laotian Christian\n",
    "150\t| Zwinglian\n",
    "151\t| World Overcomer Outreach Ministry\n",
    "152\t| Course in Miracles\n",
    "153\t| Unity of the Brethren\n",
    "154\t| Spirit Filled\n",
    "155\t| Christian Union\n",
    "157\t| Community of Christ\n",
    "158\t| New Hope Christian Fellowship\n",
    "159\t| Community Christian Fellowship\n",
    "166\t| United Christian\n",
    "167\t| Sanctuary\n",
    "168\t| Rain on Us Deliverance Ministries\n",
    "169\t| The Word Church\n",
    "170\t| Cornerstone Church\n",
    "171\t| Life Sanctuary\n",
    "172\t| Word of Faith Church\n",
    "173\t| Harvest Church\n",
    "174\t| Shephard's Chapel\n",
    "175\t| Greater New Testament Church\n",
    "176\t| Vineyard Church\n",
    "177\t| Real Life Ministries\n",
    "178\t| Cathedral of Joy\n",
    "179\t| Great Faith Ministries\n",
    "180\t| Shield of Faith Ministries\n",
    "181\t| Born Again\n",
    "182\t| Alliance\n",
    "185\t| Journeys\n",
    "186\t| National Progressive Baptist\n",
    "187\t| New Apostolic\n",
    "188\t| Metropolitan Community\n",
    "191\t| Faith Covenant\n",
    "196\t| Empowerment Temple\n",
    "197\t| Grace Independent Baptist Church\n",
    "198\t| New Life\n",
    "201\t| Pathways Christian Church\n",
    "205\t| Assembly of Christ\n",
    "206\t| The Amana Church\n",
    "207\t| The Legacy Church\n",
    "208\t| Calvary\n",
    "210\t| Ethiopian Evangelical Church\n",
    "211\t| Disciple of Jesus\n",
    "212\t| Scandinavian Church\n",
    "213\t| Hebrew Roots\n",
    "214\t| Hebrew Israelites\n",
    "215\t| Armenian Apostolic Church\n",
    "998\t| Don't know\n",
    "999\t| No answer\n",
    "0\t| Not applicable"
   ]
  },
  {
   "cell_type": "code",
   "execution_count": 59,
   "metadata": {},
   "outputs": [],
   "source": [
    "gss['other'] = gss['other'].replace([0, 999], np.nan)"
   ]
  },
  {
   "cell_type": "markdown",
   "metadata": {},
   "source": [
    "The `fund` variable indicates how fundamentalist a respondent is."
   ]
  },
  {
   "cell_type": "markdown",
   "metadata": {},
   "source": [
    "Code | Label\n",
    "--- | ---\n",
    "1\t| Fundamentalist\n",
    "2\t| Moderate\n",
    "3\t| Liberal\n",
    "9\t| Na-excluded"
   ]
  },
  {
   "cell_type": "code",
   "execution_count": 60,
   "metadata": {},
   "outputs": [
    {
     "data": {
      "text/plain": [
       "2    26352\n",
       "1    19063\n",
       "3    16856\n",
       "9     2543\n",
       "Name: fund, dtype: int64"
      ]
     },
     "execution_count": 60,
     "metadata": {},
     "output_type": "execute_result"
    }
   ],
   "source": [
    "gss['fund'].value_counts()"
   ]
  },
  {
   "cell_type": "code",
   "execution_count": 61,
   "metadata": {},
   "outputs": [],
   "source": [
    "gss['fund'] = gss['fund'].replace([9], np.nan)"
   ]
  },
  {
   "cell_type": "markdown",
   "metadata": {},
   "source": [
    "The `attend` variable indicates how often a respondent attends religious services."
   ]
  },
  {
   "cell_type": "markdown",
   "metadata": {},
   "source": [
    "Code | Label\n",
    "--- | ---\n",
    "0 | Never\n",
    "1 | Lt once a year\n",
    "2 | Once a year\n",
    "3 | Sevrl times a yr\n",
    "4 | Once a month\n",
    "5 | 2-3x a month\n",
    "6 | Nrly every week\n",
    "7 | Every week\n",
    "8 | More thn once wk\n",
    "9 | Dk,na"
   ]
  },
  {
   "cell_type": "code",
   "execution_count": 62,
   "metadata": {},
   "outputs": [
    {
     "data": {
      "text/plain": [
       "7    12686\n",
       "0    11528\n",
       "2     8498\n",
       "3     8003\n",
       "5     5713\n",
       "8     4884\n",
       "1     4844\n",
       "4     4552\n",
       "6     3511\n",
       "9      595\n",
       "Name: attend, dtype: int64"
      ]
     },
     "execution_count": 62,
     "metadata": {},
     "output_type": "execute_result"
    }
   ],
   "source": [
    "gss['attend'].value_counts()"
   ]
  },
  {
   "cell_type": "code",
   "execution_count": 63,
   "metadata": {},
   "outputs": [],
   "source": [
    "gss['attend'] = gss['attend'].replace([9], np.nan)"
   ]
  },
  {
   "cell_type": "markdown",
   "metadata": {},
   "source": [
    "The `reliten` variable indicates the strength of religious affiliation."
   ]
  },
  {
   "cell_type": "markdown",
   "metadata": {},
   "source": [
    "Code | Label\n",
    "--- | ---\n",
    "1   | Strong\n",
    "2   | Not very strong\n",
    "3   | Somewhat strong\n",
    "4   | No religion\n",
    "8   | Don't know\n",
    "9   | No answer\n",
    "0   | Not applicable"
   ]
  },
  {
   "cell_type": "code",
   "execution_count": 64,
   "metadata": {},
   "outputs": [
    {
     "data": {
      "text/plain": [
       "2    23738\n",
       "1    22652\n",
       "4     7629\n",
       "3     5736\n",
       "0     3134\n",
       "9     1589\n",
       "8      336\n",
       "Name: reliten, dtype: int64"
      ]
     },
     "execution_count": 64,
     "metadata": {},
     "output_type": "execute_result"
    }
   ],
   "source": [
    "gss['reliten'].value_counts()"
   ]
  },
  {
   "cell_type": "code",
   "execution_count": 65,
   "metadata": {},
   "outputs": [],
   "source": [
    "gss['reliten'] = gss['reliten'].replace([9, 0], np.nan)"
   ]
  },
  {
   "cell_type": "markdown",
   "metadata": {},
   "source": [
    "The `realinc` variable indicates the income of the respondent, adjusted for 1986 values. No cleaning is needed for this variable."
   ]
  },
  {
   "cell_type": "markdown",
   "metadata": {},
   "source": [
    "The `natfare` variable indicates if the respondent thinks the government spends too much or too little on welfare."
   ]
  },
  {
   "cell_type": "markdown",
   "metadata": {},
   "source": [
    "Code | Label\n",
    "--- | ---\n",
    "1   | Too little\n",
    "2   | About right\n",
    "3   | Too much\n",
    "8   | Don't know\n",
    "9   | No answer\n",
    "0   | Not applicable"
   ]
  },
  {
   "cell_type": "code",
   "execution_count": 66,
   "metadata": {},
   "outputs": [
    {
     "data": {
      "text/plain": [
       "0    27662\n",
       "3    16980\n",
       "2    11144\n",
       "1     7376\n",
       "8     1525\n",
       "9      127\n",
       "Name: natfare, dtype: int64"
      ]
     },
     "execution_count": 66,
     "metadata": {},
     "output_type": "execute_result"
    }
   ],
   "source": [
    "gss['natfare'].value_counts()"
   ]
  },
  {
   "cell_type": "code",
   "execution_count": 67,
   "metadata": {},
   "outputs": [],
   "source": [
    "gss['natfare'] = gss['natfare'].replace([0, 9], np.nan)"
   ]
  },
  {
   "cell_type": "markdown",
   "metadata": {},
   "source": [
    "The `homosex` variable indicates if the respondent thinks that homosexual sex is or isn't wrong."
   ]
  },
  {
   "cell_type": "markdown",
   "metadata": {},
   "source": [
    "Code | Label\n",
    "--- | ---\n",
    "1   | Always wrong\n",
    "2   | Almst always wrg\n",
    "3   | Sometimes wrong\n",
    "4   | Not wrong at all\n",
    "5   | Other\n",
    "8   | Don't know\n",
    "9   | No answer\n",
    "0   | Not applicable"
   ]
  },
  {
   "cell_type": "code",
   "execution_count": 68,
   "metadata": {},
   "outputs": [
    {
     "data": {
      "text/plain": [
       "0    25042\n",
       "1    23469\n",
       "4     9880\n",
       "3     2554\n",
       "2     1756\n",
       "8     1743\n",
       "9      288\n",
       "5       82\n",
       "Name: homosex, dtype: int64"
      ]
     },
     "execution_count": 68,
     "metadata": {},
     "output_type": "execute_result"
    }
   ],
   "source": [
    "gss['homosex'].value_counts()"
   ]
  },
  {
   "cell_type": "code",
   "execution_count": 69,
   "metadata": {},
   "outputs": [],
   "source": [
    "gss['homosex'] = gss['homosex'].replace([0, 9], np.nan)"
   ]
  },
  {
   "cell_type": "markdown",
   "metadata": {},
   "source": [
    "The `hapmar` variable indicates how happy a respondent is in their marriage."
   ]
  },
  {
   "cell_type": "markdown",
   "metadata": {},
   "source": [
    "Code | Label\n",
    "--- | ---\n",
    "1   | Very happy\n",
    "2   | Pretty happy\n",
    "3   | Not too happy\n",
    "8   | Don't know\n",
    "9   | No answer\n",
    "0   | Not applicable"
   ]
  },
  {
   "cell_type": "code",
   "execution_count": 70,
   "metadata": {},
   "outputs": [
    {
     "data": {
      "text/plain": [
       "0    34043\n",
       "1    19335\n",
       "2    10303\n",
       "3      920\n",
       "9      162\n",
       "8       51\n",
       "Name: hapmar, dtype: int64"
      ]
     },
     "execution_count": 70,
     "metadata": {},
     "output_type": "execute_result"
    }
   ],
   "source": [
    "gss['hapmar'].value_counts()"
   ]
  },
  {
   "cell_type": "code",
   "execution_count": 71,
   "metadata": {},
   "outputs": [],
   "source": [
    "gss['hapmar'] = gss['hapmar'].replace([0, 9], np.nan)"
   ]
  },
  {
   "cell_type": "markdown",
   "metadata": {},
   "source": [
    "The `raclive` variable indicates if there are any people of the opposite race (white or black) living in the respondent's neighborhood."
   ]
  },
  {
   "cell_type": "markdown",
   "metadata": {},
   "source": [
    "Code | Label\n",
    "--- | ---\n",
    "1   | Yes\n",
    "2   | No\n",
    "8   | Don't know\n",
    "9   | No answer\n",
    "0   | Not applicable"
   ]
  },
  {
   "cell_type": "code",
   "execution_count": 72,
   "metadata": {},
   "outputs": [
    {
     "data": {
      "text/plain": [
       "1    34000\n",
       "2    22567\n",
       "0     5470\n",
       "8     2509\n",
       "9      268\n",
       "Name: raclive, dtype: int64"
      ]
     },
     "execution_count": 72,
     "metadata": {},
     "output_type": "execute_result"
    }
   ],
   "source": [
    "gss['raclive'].value_counts()"
   ]
  },
  {
   "cell_type": "code",
   "execution_count": 73,
   "metadata": {},
   "outputs": [],
   "source": [
    "gss['raclive'] = gss['raclive'].replace([0, 9], np.nan)"
   ]
  },
  {
   "cell_type": "markdown",
   "metadata": {},
   "source": [
    "The `fund16` variable indicates the fundamentalism/liberalism in the region the respondent was raised in."
   ]
  },
  {
   "cell_type": "markdown",
   "metadata": {},
   "source": [
    "Code | Label\n",
    "--- | ---\n",
    "1   | Fundamentalist\n",
    "2   | Moderate\n",
    "3   | Liberal\n",
    "9   | Na-excluded\n",
    "0   | Not applicable"
   ]
  },
  {
   "cell_type": "code",
   "execution_count": 74,
   "metadata": {},
   "outputs": [
    {
     "data": {
      "text/plain": [
       "2    27132\n",
       "1    19472\n",
       "3    13158\n",
       "0     3131\n",
       "9     1921\n",
       "Name: fund16, dtype: int64"
      ]
     },
     "execution_count": 74,
     "metadata": {},
     "output_type": "execute_result"
    }
   ],
   "source": [
    "gss['fund16'].value_counts()"
   ]
  },
  {
   "cell_type": "code",
   "execution_count": 75,
   "metadata": {},
   "outputs": [],
   "source": [
    "gss['fund16'] = gss['fund16'].replace([0, 9], np.nan)"
   ]
  },
  {
   "cell_type": "markdown",
   "metadata": {},
   "source": [
    "The `oth16` variable indicates the denomination the respondent was raised in."
   ]
  },
  {
   "cell_type": "markdown",
   "metadata": {},
   "source": [
    "Code | Label\n",
    "--- | ---\n",
    "2\t| Evangelical Congregational\n",
    "3\t| Ind Bible, Bible, Bible Fellowship\n",
    "5\t| Church of Prophecy\n",
    "6\t| New Testament Christian\n",
    "7\t| Church of God, Saint & Christ\n",
    "8\t| Moravian\n",
    "9\t| Christian & Missionary Alliance\n",
    "10\t| Advent Christian\n",
    "11\t| Spiritualist\n",
    "12\t| Assembly of God\n",
    "13\t| Free Methodist\n",
    "14\t| Apostolic Faith\n",
    "15\t| African Methodist\n",
    "16\t| Free Will Baptist\n",
    "17\t| Eden Evangelist\n",
    "18\t| Holiness (Nazarene)\n",
    "19\t| Baptist (Northern)\n",
    "20\t| Brethren Church, Brethren\n",
    "21\t| Witness Holiness\n",
    "22\t| Brethren, Plymouth\n",
    "23\t| United Brethren, United Brethren in Christ\n",
    "24\t| Independent\n",
    "25\t| Christian Disciples\n",
    "26\t| Christ in Christian Union\n",
    "27\t| Open Bible\n",
    "28\t| Christian Catholic\n",
    "29\t| Christ Church Unity\n",
    "30\t| Christ Adelphians\n",
    "31\t| Christian; Central Christian\n",
    "32\t| Christian Reform\n",
    "33\t| Christian Scientist\n",
    "34\t| Church of Christ, Evangelical\n",
    "35\t| Church of Christ\n",
    "36\t| Churches of God(Except with Christ and Holiness)\n",
    "37\t| Church of God in Christ\n",
    "38\t| Church of God in Christ Holiness\n",
    "39\t| Church of the Living God\n",
    "40\t| Congregationalist, 1st Congreg\n",
    "41\t| Community Church\n",
    "42\t| Covenant\n",
    "43\t| Dutch Reform\n",
    "44\t| Disciples of Christ\n",
    "45\t| Evangelical, Evangelist\n",
    "46\t| Evangelical Reformed\n",
    "47\t| Evangelist Free Church\n",
    "48\t| First Church\n",
    "49\t| First Christian Disciples of Christ\n",
    "50\t| First Reformed\n",
    "51\t| First Christian\n",
    "52\t| Full Gospel\n",
    "53\t| Four Square Gospel\n",
    "54\t| Friends\n",
    "55\t| Holy Roller\n",
    "56\t| Holiness; Church of Holiness\n",
    "57\t| Pilgrim Holiness\n",
    "58\t| Jehovah's Witnesses\n",
    "61\t| LDS--Reorganized\n",
    "63\t| Mennonite\n",
    "64\t| Mormon\n",
    "65\t| Nazarene\n",
    "66\t| Pentecostal Assembly of God\n",
    "67\t| Pentecostal Church of God\n",
    "68\t| Pentecostal\n",
    "69\t| Pentecostal Holiness, Holiness Pentecostal\n",
    "70\t| Quaker\n",
    "71\t| Reformed\n",
    "72\t| Reformed United Church of Christ\n",
    "73\t| Reformed Church of Christ\n",
    "74\t| Religious Science\n",
    "75\t| Mind Science\n",
    "76\t| Salvation Army\n",
    "77\t| 7th Day Adventist\n",
    "78\t| Sanctified, Sanctification\n",
    "79\t| United Holiness\n",
    "80\t| Unitarian, Universalist\n",
    "81\t| United Church of Christ\n",
    "82\t| United Church, Unity Church\n",
    "83\t| Wesleyan\n",
    "84\t| Wesleyan Methodist--Pilgrim\n",
    "85\t| Zion Union\n",
    "86\t| Zion Union Apostolic\n",
    "87\t| Zion Union Apostolic--Reformed\n",
    "88\t| Disciples of God\n",
    "89\t| Grace Reformed\n",
    "90\t| Holiness Church of God\n",
    "91\t| Evangelical Covenant\n",
    "92\t| Mission Covenant\n",
    "93\t| Missionary Baptist\n",
    "94\t| Swedish Mission\n",
    "95\t| Unity\n",
    "96\t| United Church of Christianity\n",
    "97\t| Other Fundamentalist\n",
    "98\t| Federated Church\n",
    "99\t| American Reform\n",
    "100\t| Grace Brethren\n",
    "102\t| Charismatic\n",
    "103\t| Pentecostal Apostolic\n",
    "104\t| House of Prayer\n",
    "105\t| Latvian Lutheran\n",
    "107\t| Apostolic Christian\n",
    "108\t| Christ Cathedral of Truth\n",
    "109\t| Bible Missionary\n",
    "110\t| Calvary Bible\n",
    "111\t| Amish\n",
    "112\t| Evangelical Methodist\n",
    "113\t| Worldwide Church of God\n",
    "114\t| Church Universal and Triumphant\n",
    "115\t| Mennonite Brethren\n",
    "116\t| Church of the First Born\n",
    "117\t| Missionary Church\n",
    "118\t| The Way Ministry\n",
    "119\t| United Church of Canada\n",
    "120\t| Evangelical United Brethren\n",
    "121\t| The Church of God of Prophecy\n",
    "122\t| Chapel of Faith\n",
    "123\t| Polish National Church\n",
    "124\t| Faith Gospel Tabernacle\n",
    "125\t| Christian Calvary Chapel\n",
    "127\t| Church of Daniel's Band\n",
    "128\t| Christian Tabernacle\n",
    "129\t| Living Word\n",
    "130\t| True Light Church of Christ\n",
    "132\t| Brother of Christ\n",
    "133\t| Primitive Baptist\n",
    "134\t| Independent Fundamental Church of America\n",
    "135\t| Chinese Gospel Church\n",
    "136\t| New Age Spirituality\n",
    "137\t| New Song\n",
    "138\t| Apostolic Church\n",
    "141\t| New Birth Christian\n",
    "143\t| Assyrian Evangelist Church\n",
    "144\t| Spirit of Christ\n",
    "145\t| Church of Jesus Christ of the Restoration\n",
    "146\t| Laotian Christian\n",
    "150\t| Zwinglian\n",
    "151\t| World Overcomer Outreach Ministry\n",
    "152\t| Course in Miracles\n",
    "153\t| Unity of the Brethren\n",
    "154\t| Spirit Filled\n",
    "155\t| Christian Union\n",
    "157\t| Community of Christ\n",
    "158\t| New Hope Christian Fellowship\n",
    "159\t| Community Christian Fellowship\n",
    "166\t| United Christian\n",
    "167\t| Sanctuary\n",
    "168\t| Rain on Us Deliverance Ministries\n",
    "169\t| The Word Church\n",
    "170\t| Cornerstone Church\n",
    "171\t| Life Sanctuary\n",
    "172\t| Word of Faith Church\n",
    "173\t| Harvest Church\n",
    "174\t| Shephard's Chapel\n",
    "175\t| Greater New Testament Church\n",
    "176\t| Vineyard Church\n",
    "177\t| Real Life Ministries\n",
    "178\t| Cathedral of Joy\n",
    "179\t| Great Faith Ministries\n",
    "180\t| Shield of Faith Ministries\n",
    "181\t| Born Again\n",
    "182\t| Alliance\n",
    "185\t| Journeys\n",
    "186\t| National Progressive Baptist\n",
    "187\t| New Apostolic\n",
    "188\t| Metropolitan Community\n",
    "191\t| Faith Covenant\n",
    "196\t| Empowerment Temple\n",
    "197\t| Grace Independent Baptist Church\n",
    "198\t| New Life\n",
    "201\t| Pathways Christian Church\n",
    "205\t| Assembly of Christ\n",
    "206\t| The Amana Church\n",
    "207\t| The Legacy Church\n",
    "208\t| Calvary\n",
    "210\t| Ethiopian Evangelical Church\n",
    "211\t| Disciple of Jesus\n",
    "212\t| Scandinavian Church\n",
    "213\t| Hebrew Roots\n",
    "214\t| Hebrew Israelites\n",
    "215\t| Armenian Apostolic Church\n",
    "998\t| Don't know\n",
    "999\t| No answer\n",
    "0\t| Not applicable"
   ]
  },
  {
   "cell_type": "code",
   "execution_count": 76,
   "metadata": {},
   "outputs": [],
   "source": [
    "gss['oth16'] = gss['oth16'].replace([999, 0], np.nan)"
   ]
  },
  {
   "cell_type": "markdown",
   "metadata": {},
   "source": [
    "The `denom16` variable indicates the denomination the respondent was raised in."
   ]
  },
  {
   "cell_type": "markdown",
   "metadata": {},
   "source": [
    "Code | Label\n",
    "--- | ---\n",
    "10 | Am baptist asso\n",
    "11 | Am bapt ch in usa\n",
    "12 | Nat bapt conv of am\n",
    "13 | Nat bapt con usa\n",
    "14 | Southern baptist\n",
    "15| Other baptists\n",
    "18 | Baptist-dk which\n",
    "20 | Afr meth episcopal\n",
    "22 | United methodist\n",
    "23 | Other methodist\n",
    "28 | Methodist-dk which\n",
    "30 | Am lutheran\n",
    "31 | Luth ch in america\n",
    "32 | Lutheran-mo synod\n",
    "33 | Wi evan luth synod\n",
    "34 | Other lutheran\n",
    "35 | Evangelical luth\n",
    "38 | Lutheran-dk which\n",
    "40 | Presbyterian c in us\n",
    "41 | United pres ch in us\n",
    "42 | Other presbyterian\n",
    "43 | Presbyterian, merged\n",
    "48 | Presbyterian-dk which\n",
    "50 | Episcopal\n",
    "60 | Other\n",
    "70 | No denomination\n",
    "98 | Don't know\n",
    "99 | No answer\n",
    "0 | Not applicable"
   ]
  },
  {
   "cell_type": "code",
   "execution_count": 77,
   "metadata": {},
   "outputs": [],
   "source": [
    "gss['denom16'] = gss['denom16'].replace([99, 0], np.nan)"
   ]
  },
  {
   "cell_type": "markdown",
   "metadata": {},
   "source": [
    "The `relig16` variable indicates the religion the respondent was raised in."
   ]
  },
  {
   "cell_type": "markdown",
   "metadata": {},
   "source": [
    "Code | Label\n",
    "--- | ---\n",
    "1 | Protestant\n",
    "2 | Catholic\n",
    "3 | Jewish\n",
    "4 | None\n",
    "5 | Other\n",
    "6 | Buddhism\n",
    "7 | Hinduism\n",
    "8 | Other eastern\n",
    "9 | Moslem/Islam\n",
    "10 | Orthodox Christian\n",
    "11 | Christian\n",
    "12 | Native American\n",
    "13 | Inter-nondenominational\n",
    "98 | Don't know\n",
    "99 | No answer"
   ]
  },
  {
   "cell_type": "code",
   "execution_count": 78,
   "metadata": {
    "scrolled": true
   },
   "outputs": [
    {
     "data": {
      "text/plain": [
       "1     37042\n",
       "2     17974\n",
       "4      3421\n",
       "0      3131\n",
       "3      1266\n",
       "5       648\n",
       "11      417\n",
       "99      249\n",
       "9       161\n",
       "10      138\n",
       "6       128\n",
       "7       114\n",
       "98       58\n",
       "13       31\n",
       "12       24\n",
       "8        12\n",
       "Name: relig16, dtype: int64"
      ]
     },
     "execution_count": 78,
     "metadata": {},
     "output_type": "execute_result"
    }
   ],
   "source": [
    "gss['relig16'].value_counts()"
   ]
  },
  {
   "cell_type": "code",
   "execution_count": 79,
   "metadata": {},
   "outputs": [],
   "source": [
    "gss['relig16'] = gss['relig16'].replace([99], np.nan)"
   ]
  },
  {
   "cell_type": "code",
   "execution_count": 80,
   "metadata": {},
   "outputs": [],
   "source": [
    "dest = 'gss.hdf5'\n",
    "gss.to_hdf(dest, key='gss')"
   ]
  }
 ],
 "metadata": {
  "kernelspec": {
   "display_name": "Python 3",
   "language": "python",
   "name": "python3"
  },
  "language_info": {
   "codemirror_mode": {
    "name": "ipython",
    "version": 3
   },
   "file_extension": ".py",
   "mimetype": "text/x-python",
   "name": "python",
   "nbconvert_exporter": "python",
   "pygments_lexer": "ipython3",
   "version": "3.6.7"
  }
 },
 "nbformat": 4,
 "nbformat_minor": 2
}
