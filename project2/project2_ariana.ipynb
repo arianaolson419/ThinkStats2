{
 "cells": [
  {
   "cell_type": "markdown",
   "metadata": {},
   "source": [
    "# Cohort Analysis of Opinions on LGBT issues"
   ]
  },
  {
   "cell_type": "markdown",
   "metadata": {},
   "source": [
    "For this project, we will be analyzing at data from the General Social Survey (GSS) to explore the opinions of different demographics on LGBT issues."
   ]
  },
  {
   "cell_type": "code",
   "execution_count": 35,
   "metadata": {},
   "outputs": [],
   "source": [
    "import numpy as np\n",
    "import pandas as pd\n",
    "import matplotlib.pyplot as plt\n",
    "\n",
    "import thinkstats2\n",
    "import thinkplot\n",
    "from utils import read_stata_dict"
   ]
  },
  {
   "cell_type": "code",
   "execution_count": 36,
   "metadata": {},
   "outputs": [],
   "source": [
    "def read_gss(dirname):\n",
    "    \"\"\"Reads GSS files from the given directory.\n",
    "    \n",
    "    dirname: string\n",
    "    \n",
    "    returns: DataFrame\n",
    "    \"\"\"\n",
    "    dct = read_stata_dict(dirname + '/GSS.dct')\n",
    "    gss = dct.read_fixed_width(dirname + '/GSS.dat.gz',\n",
    "                             compression='gzip')\n",
    "    return gss"
   ]
  },
  {
   "cell_type": "code",
   "execution_count": 37,
   "metadata": {},
   "outputs": [],
   "source": [
    "# Read in the GSS variables.\n",
    "gss = read_gss('gss_vars')"
   ]
  },
  {
   "cell_type": "markdown",
   "metadata": {},
   "source": [
    "## Clean the Data"
   ]
  },
  {
   "cell_type": "markdown",
   "metadata": {},
   "source": [
    "The `ballot` variable indicates the ballot used for each interview. We replace the 'Not applicable' code with NaNs."
   ]
  },
  {
   "cell_type": "markdown",
   "metadata": {},
   "source": [
    "Code | Label\n",
    "--- | ---\n",
    "1 | ballot a\n",
    "2 | ballot b\n",
    "3 | ballot c\n",
    "4 | ballot d\n",
    "0 | not applicable"
   ]
  },
  {
   "cell_type": "code",
   "execution_count": 38,
   "metadata": {
    "scrolled": true
   },
   "outputs": [
    {
     "name": "stdout",
     "output_type": "stream",
     "text": [
      "0    21875\n",
      "2    13917\n",
      "3    13798\n",
      "1    13706\n",
      "4     1518\n",
      "Name: ballot, dtype: int64\n"
     ]
    }
   ],
   "source": [
    "print(gss['ballot'].value_counts())"
   ]
  },
  {
   "cell_type": "code",
   "execution_count": 39,
   "metadata": {},
   "outputs": [],
   "source": [
    "gss['ballot'] = gss['ballot'].replace([0], np.nan);"
   ]
  },
  {
   "cell_type": "markdown",
   "metadata": {},
   "source": [
    "The `spkhomo` variable indicates respondents feel a homosexual man should be allowed to make a speech in their community."
   ]
  },
  {
   "cell_type": "markdown",
   "metadata": {},
   "source": [
    "Code | Label\n",
    "--- | ---\n",
    "1 | Allowed\n",
    "2 | Not allowed\n",
    "8 | Don't know\n",
    "9 | No answer\n",
    "0 | Not applicable"
   ]
  },
  {
   "cell_type": "code",
   "execution_count": 42,
   "metadata": {},
   "outputs": [
    {
     "data": {
      "text/plain": [
       "1    30002\n",
       "0    25042\n",
       "2     8621\n",
       "8     1024\n",
       "9      125\n",
       "Name: spkhomo, dtype: int64"
      ]
     },
     "execution_count": 42,
     "metadata": {},
     "output_type": "execute_result"
    }
   ],
   "source": [
    "gss['spkhomo'].value_counts()"
   ]
  },
  {
   "cell_type": "code",
   "execution_count": 47,
   "metadata": {},
   "outputs": [],
   "source": [
    "gss['spkhomo'] = gss['spkhomo'].replace([0, 9], np.nan)"
   ]
  },
  {
   "cell_type": "markdown",
   "metadata": {},
   "source": [
    "The `colhomo` variable indicates if the respondents feel that a homosexual man should be able to teach in a college or university."
   ]
  },
  {
   "cell_type": "markdown",
   "metadata": {},
   "source": [
    "Code | Label\n",
    "--- | ---\n",
    "4 | Allowed\n",
    "5 | Not allowed\n",
    "8 | Don't know\n",
    "9 | No answer\n",
    "0 | Not applicable"
   ]
  },
  {
   "cell_type": "code",
   "execution_count": 49,
   "metadata": {},
   "outputs": [
    {
     "data": {
      "text/plain": [
       "4    27010\n",
       "0    25042\n",
       "5    11358\n",
       "8     1272\n",
       "9      132\n",
       "Name: colhomo, dtype: int64"
      ]
     },
     "execution_count": 49,
     "metadata": {},
     "output_type": "execute_result"
    }
   ],
   "source": [
    "gss['colhomo'].value_counts()"
   ]
  },
  {
   "cell_type": "code",
   "execution_count": 50,
   "metadata": {},
   "outputs": [],
   "source": [
    "gss['colhomo'] = gss['colhomo'].replace([0, 9], np.nan)"
   ]
  },
  {
   "cell_type": "markdown",
   "metadata": {},
   "source": [
    "The `libhomo` variable indicates respondents' answers to the question \"If some people in your community suggested that a book he \\[a homosexual man\\] wrote in favor of homosexuality should be taken out of your public library, would you favor removing this book, or not?\""
   ]
  },
  {
   "cell_type": "markdown",
   "metadata": {},
   "source": [
    "Code | Label\n",
    "--- | ---\n",
    "1 | Remove\n",
    "2 | Not remove\n",
    "8 | Don't know\n",
    "9 | No answer\n",
    "0 | Not applicable"
   ]
  },
  {
   "cell_type": "code",
   "execution_count": 52,
   "metadata": {},
   "outputs": [
    {
     "data": {
      "text/plain": [
       "2    26505\n",
       "0    25042\n",
       "1    12073\n",
       "8     1065\n",
       "9      129\n",
       "Name: libhomo, dtype: int64"
      ]
     },
     "execution_count": 52,
     "metadata": {},
     "output_type": "execute_result"
    }
   ],
   "source": [
    "gss['libhomo'].value_counts()"
   ]
  },
  {
   "cell_type": "code",
   "execution_count": 53,
   "metadata": {},
   "outputs": [],
   "source": [
    "gss['libhomo'] = gss['libhomo'].replace([0, 9], np.nan)"
   ]
  },
  {
   "cell_type": "markdown",
   "metadata": {},
   "source": [
    "The `cappun` variable indicates if respondents are in favor of or oppose the death penalty for persons convicted of murder."
   ]
  },
  {
   "cell_type": "markdown",
   "metadata": {},
   "source": [
    "Code | Label\n",
    "--- | ---\n",
    "1 | Favor\n",
    "2 | Oppose\n",
    "8 | Don't know\n",
    "9 | No answer\n",
    "0 | Not applicable"
   ]
  },
  {
   "cell_type": "code",
   "execution_count": 55,
   "metadata": {},
   "outputs": [
    {
     "data": {
      "text/plain": [
       "1    37946\n",
       "2    15604\n",
       "0     7500\n",
       "8     3410\n",
       "9      354\n",
       "Name: cappun, dtype: int64"
      ]
     },
     "execution_count": 55,
     "metadata": {},
     "output_type": "execute_result"
    }
   ],
   "source": [
    "gss['cappun'].value_counts()"
   ]
  },
  {
   "cell_type": "code",
   "execution_count": 57,
   "metadata": {},
   "outputs": [],
   "source": [
    "gss['cappun'] = gss['cappun'].replace([0, 9], np.nan)"
   ]
  },
  {
   "cell_type": "markdown",
   "metadata": {},
   "source": [
    "The `marhomo` variable indicates if respondents think homosexual couples should have the right to marry."
   ]
  },
  {
   "cell_type": "markdown",
   "metadata": {},
   "source": [
    "Code | Label\n",
    "--- | ---\n",
    "1 | Strongly agree\n",
    "2 | Agree\n",
    "3 | Neither agree or disagree\n",
    "4 | Disagree\n",
    "5 | Strongly disagree\n",
    "8 | Can't choose\n",
    "9 | No answer\n",
    "0 | Not applicable"
   ]
  },
  {
   "cell_type": "code",
   "execution_count": 65,
   "metadata": {},
   "outputs": [
    {
     "data": {
      "text/plain": [
       "0    51062\n",
       "5     3635\n",
       "1     3093\n",
       "2     2966\n",
       "4     2086\n",
       "3     1684\n",
       "8      202\n",
       "9       86\n",
       "Name: marhomo, dtype: int64"
      ]
     },
     "execution_count": 65,
     "metadata": {},
     "output_type": "execute_result"
    }
   ],
   "source": [
    "gss['marhomo'].value_counts()"
   ]
  },
  {
   "cell_type": "code",
   "execution_count": 66,
   "metadata": {},
   "outputs": [],
   "source": [
    "gss['marhomo'] = gss['marhomo'].replace([0, 9], np.nan)"
   ]
  },
  {
   "cell_type": "markdown",
   "metadata": {},
   "source": [
    "The `relig` variable indicates religious preference."
   ]
  },
  {
   "cell_type": "markdown",
   "metadata": {},
   "source": [
    "Code | Label\n",
    "--- | ---\n",
    "1 | Protestant\n",
    "2 | Catholic\n",
    "3 | Jewish\n",
    "4 | None\n",
    "5 | Other\n",
    "6 | Buddhism\n",
    "7 | Hinduism\n",
    "8 | Other eastern\n",
    "9 | Moslem/Islam\n",
    "10 | Orthodox Christian\n",
    "11 | Christian\n",
    "12 | Native American\n",
    "13 | Inter-nondenominational\n",
    "98 | Don't know\n",
    "99 | No answer\n"
   ]
  },
  {
   "cell_type": "code",
   "execution_count": 67,
   "metadata": {},
   "outputs": [
    {
     "data": {
      "text/plain": [
       "1     37117\n",
       "2     15674\n",
       "4      7797\n",
       "3      1285\n",
       "5      1086\n",
       "11      791\n",
       "99      258\n",
       "6       198\n",
       "9       153\n",
       "13      136\n",
       "10      118\n",
       "7       100\n",
       "8        39\n",
       "12       31\n",
       "98       31\n",
       "Name: relig, dtype: int64"
      ]
     },
     "execution_count": 67,
     "metadata": {},
     "output_type": "execute_result"
    }
   ],
   "source": [
    "gss['relig'].value_counts()"
   ]
  },
  {
   "cell_type": "code",
   "execution_count": 69,
   "metadata": {},
   "outputs": [],
   "source": [
    "gss['relig'] = gss['relig'].replace([99], np.nan)"
   ]
  },
  {
   "cell_type": "markdown",
   "metadata": {},
   "source": [
    "The `denom` variable indicates the specific religious denomination."
   ]
  },
  {
   "cell_type": "markdown",
   "metadata": {},
   "source": [
    "Code | Label\n",
    "--- | ---\n",
    "10 | Am baptist asso\n",
    "11 | Am bapt ch in usa\n",
    "12 | Nat bapt conv of am\n",
    "13 | Nat bapt con usa\n",
    "14 | Southern baptist\n",
    "15| Other baptists\n",
    "18 | Baptist-dk which\n",
    "20 | Afr meth episcopal\n",
    "22 | United methodist\n",
    "23 | Other methodist\n",
    "28 | Methodist-dk which\n",
    "30 | Am lutheran\n",
    "31 | Luth ch in america\n",
    "32 | Lutheran-mo synod\n",
    "33 | Wi evan luth synod\n",
    "34 | Other lutheran\n",
    "35 | Evangelical luth\n",
    "38 | Lutheran-dk which\n",
    "40 | Presbyterian c in us\n",
    "41 | United pres ch in us\n",
    "42 | Other presbyterian\n",
    "43 | Presbyterian, merged\n",
    "48 | Presbyterian-dk which\n",
    "50 | Episcopal\n",
    "60 | Other\n",
    "70 | No denomination\n",
    "98 | Don't know\n",
    "99 | No answer\n",
    "0 | Not applicable"
   ]
  },
  {
   "cell_type": "code",
   "execution_count": 71,
   "metadata": {},
   "outputs": [
    {
     "data": {
      "text/plain": [
       "0     26640\n",
       "60     8048\n",
       "18     6415\n",
       "70     3955\n",
       "14     3889\n",
       "22     2881\n",
       "28     2403\n",
       "38     1738\n",
       "50     1397\n",
       "48     1190\n",
       "15      836\n",
       "32      687\n",
       "10      675\n",
       "30      571\n",
       "41      443\n",
       "40      347\n",
       "99      340\n",
       "11      332\n",
       "35      302\n",
       "31      211\n",
       "20      206\n",
       "12      200\n",
       "43      186\n",
       "42      170\n",
       "33      157\n",
       "34      155\n",
       "23      149\n",
       "13      128\n",
       "21       86\n",
       "98       77\n",
       "Name: denom, dtype: int64"
      ]
     },
     "execution_count": 71,
     "metadata": {},
     "output_type": "execute_result"
    }
   ],
   "source": [
    "gss['denom'].value_counts()"
   ]
  },
  {
   "cell_type": "code",
   "execution_count": 72,
   "metadata": {},
   "outputs": [],
   "source": [
    "gss['denom'] = gss['denom'].replace([0, 99], np.nan)"
   ]
  },
  {
   "cell_type": "markdown",
   "metadata": {},
   "source": [
    "The `other` variable indicates other denominations."
   ]
  },
  {
   "cell_type": "markdown",
   "metadata": {},
   "source": [
    "Code | Label\n",
    "--- | ---\n",
    "2\t| Evangelical Congregational\n",
    "3\t| Ind Bible, Bible, Bible Fellowship\n",
    "5\t| Church of Prophecy\n",
    "6\t| New Testament Christian\n",
    "7\t| Church of God, Saint & Christ\n",
    "8\t| Moravian\n",
    "9\t| Christian & Missionary Alliance\n",
    "10\t| Advent Christian\n",
    "11\t| Spiritualist\n",
    "12\t| Assembly of God\n",
    "13\t| Free Methodist\n",
    "14\t| Apostolic Faith\n",
    "15\t| African Methodist\n",
    "16\t| Free Will Baptist\n",
    "17\t| Eden Evangelist\n",
    "18\t| Holiness (Nazarene)\n",
    "19\t| Baptist (Northern)\n",
    "20\t| Brethren Church, Brethren\n",
    "21\t| Witness Holiness\n",
    "22\t| Brethren, Plymouth\n",
    "23\t| United Brethren, United Brethren in Christ\n",
    "24\t| Independent\n",
    "25\t| Christian Disciples\n",
    "26\t| Christ in Christian Union\n",
    "27\t| Open Bible\n",
    "28\t| Christian Catholic\n",
    "29\t| Christ Church Unity\n",
    "30\t| Christ Adelphians\n",
    "31\t| Christian; Central Christian\n",
    "32\t| Christian Reform\n",
    "33\t| Christian Scientist\n",
    "34\t| Church of Christ, Evangelical\n",
    "35\t| Church of Christ\n",
    "36\t| Churches of God(Except with Christ and Holiness)\n",
    "37\t| Church of God in Christ\n",
    "38\t| Church of God in Christ Holiness\n",
    "39\t| Church of the Living God\n",
    "40\t| Congregationalist, 1st Congreg\n",
    "41\t| Community Church\n",
    "42\t| Covenant\n",
    "43\t| Dutch Reform\n",
    "44\t| Disciples of Christ\n",
    "45\t| Evangelical, Evangelist\n",
    "46\t| Evangelical Reformed\n",
    "47\t| Evangelist Free Church\n",
    "48\t| First Church\n",
    "49\t| First Christian Disciples of Christ\n",
    "50\t| First Reformed\n",
    "51\t| First Christian\n",
    "52\t| Full Gospel\n",
    "53\t| Four Square Gospel\n",
    "54\t| Friends\n",
    "55\t| Holy Roller\n",
    "56\t| Holiness; Church of Holiness\n",
    "57\t| Pilgrim Holiness\n",
    "58\t| Jehovah's Witnesses\n",
    "61\t| LDS--Reorganized\n",
    "63\t| Mennonite\n",
    "64\t| Mormon\n",
    "65\t| Nazarene\n",
    "66\t| Pentecostal Assembly of God\n",
    "67\t| Pentecostal Church of God\n",
    "68\t| Pentecostal\n",
    "69\t| Pentecostal Holiness, Holiness Pentecostal\n",
    "70\t| Quaker\n",
    "71\t| Reformed\n",
    "72\t| Reformed United Church of Christ\n",
    "73\t| Reformed Church of Christ\n",
    "74\t| Religious Science\n",
    "75\t| Mind Science\n",
    "76\t| Salvation Army\n",
    "77\t| 7th Day Adventist\n",
    "78\t| Sanctified, Sanctification\n",
    "79\t| United Holiness\n",
    "80\t| Unitarian, Universalist\n",
    "81\t| United Church of Christ\n",
    "82\t| United Church, Unity Church\n",
    "83\t| Wesleyan\n",
    "84\t| Wesleyan Methodist--Pilgrim\n",
    "85\t| Zion Union\n",
    "86\t| Zion Union Apostolic\n",
    "87\t| Zion Union Apostolic--Reformed\n",
    "88\t| Disciples of God\n",
    "89\t| Grace Reformed\n",
    "90\t| Holiness Church of God\n",
    "91\t| Evangelical Covenant\n",
    "92\t| Mission Covenant\n",
    "93\t| Missionary Baptist\n",
    "94\t| Swedish Mission\n",
    "95\t| Unity\n",
    "96\t| United Church of Christianity\n",
    "97\t| Other Fundamentalist\n",
    "98\t| Federated Church\n",
    "99\t| American Reform\n",
    "100\t| Grace Brethren\n",
    "102\t| Charismatic\n",
    "103\t| Pentecostal Apostolic\n",
    "104\t| House of Prayer\n",
    "105\t| Latvian Lutheran\n",
    "107\t| Apostolic Christian\n",
    "108\t| Christ Cathedral of Truth\n",
    "109\t| Bible Missionary\n",
    "110\t| Calvary Bible\n",
    "111\t| Amish\n",
    "112\t| Evangelical Methodist\n",
    "113\t| Worldwide Church of God\n",
    "114\t| Church Universal and Triumphant\n",
    "115\t| Mennonite Brethren\n",
    "116\t| Church of the First Born\n",
    "117\t| Missionary Church\n",
    "118\t| The Way Ministry\n",
    "119\t| United Church of Canada\n",
    "120\t| Evangelical United Brethren\n",
    "121\t| The Church of God of Prophecy\n",
    "122\t| Chapel of Faith\n",
    "123\t| Polish National Church\n",
    "124\t| Faith Gospel Tabernacle\n",
    "125\t| Christian Calvary Chapel\n",
    "127\t| Church of Daniel's Band\n",
    "128\t| Christian Tabernacle\n",
    "129\t| Living Word\n",
    "130\t| True Light Church of Christ\n",
    "132\t| Brother of Christ\n",
    "133\t| Primitive Baptist\n",
    "134\t| Independent Fundamental Church of America\n",
    "135\t| Chinese Gospel Church\n",
    "136\t| New Age Spirituality\n",
    "137\t| New Song\n",
    "138\t| Apostolic Church\n",
    "141\t| New Birth Christian\n",
    "143\t| Assyrian Evangelist Church\n",
    "144\t| Spirit of Christ\n",
    "145\t| Church of Jesus Christ of the Restoration\n",
    "146\t| Laotian Christian\n",
    "150\t| Zwinglian\n",
    "151\t| World Overcomer Outreach Ministry\n",
    "152\t| Course in Miracles\n",
    "153\t| Unity of the Brethren\n",
    "154\t| Spirit Filled\n",
    "155\t| Christian Union\n",
    "157\t| Community of Christ\n",
    "158\t| New Hope Christian Fellowship\n",
    "159\t| Community Christian Fellowship\n",
    "166\t| United Christian\n",
    "167\t| Sanctuary\n",
    "168\t| Rain on Us Deliverance Ministries\n",
    "169\t| The Word Church\n",
    "170\t| Cornerstone Church\n",
    "171\t| Life Sanctuary\n",
    "172\t| Word of Faith Church\n",
    "173\t| Harvest Church\n",
    "174\t| Shephard's Chapel\n",
    "175\t| Greater New Testament Church\n",
    "176\t| Vineyard Church\n",
    "177\t| Real Life Ministries\n",
    "178\t| Cathedral of Joy\n",
    "179\t| Great Faith Ministries\n",
    "180\t| Shield of Faith Ministries\n",
    "181\t| Born Again\n",
    "182\t| Alliance\n",
    "185\t| Journeys\n",
    "186\t| National Progressive Baptist\n",
    "187\t| New Apostolic\n",
    "188\t| Metropolitan Community\n",
    "191\t| Faith Covenant\n",
    "196\t| Empowerment Temple\n",
    "197\t| Grace Independent Baptist Church\n",
    "198\t| New Life\n",
    "201\t| Pathways Christian Church\n",
    "205\t| Assembly of Christ\n",
    "206\t| The Amana Church\n",
    "207\t| The Legacy Church\n",
    "208\t| Calvary\n",
    "210\t| Ethiopian Evangelical Church\n",
    "211\t| Disciple of Jesus\n",
    "212\t| Scandinavian Church\n",
    "213\t| Hebrew Roots\n",
    "214\t| Hebrew Israelites\n",
    "215\t| Armenian Apostolic Church\n",
    "998\t| Don't know\n",
    "999\t| No answer\n",
    "0\t| Not applicable"
   ]
  },
  {
   "cell_type": "code",
   "execution_count": 73,
   "metadata": {},
   "outputs": [],
   "source": [
    "gss['other'] = gss['other'].replace([0, 999], np.nan)"
   ]
  },
  {
   "cell_type": "markdown",
   "metadata": {},
   "source": [
    "The `fund` variable indicates how fundamentalist a respondent is."
   ]
  },
  {
   "cell_type": "markdown",
   "metadata": {},
   "source": [
    "Code | Label\n",
    "--- | ---\n",
    "1\t| Fundamentalist\n",
    "2\t| Moderate\n",
    "3\t| Liberal\n",
    "9\t| Na-excluded"
   ]
  },
  {
   "cell_type": "code",
   "execution_count": 74,
   "metadata": {},
   "outputs": [
    {
     "data": {
      "text/plain": [
       "2    26352\n",
       "1    19063\n",
       "3    16856\n",
       "9     2543\n",
       "Name: fund, dtype: int64"
      ]
     },
     "execution_count": 74,
     "metadata": {},
     "output_type": "execute_result"
    }
   ],
   "source": [
    "gss['fund'].value_counts()"
   ]
  },
  {
   "cell_type": "code",
   "execution_count": 75,
   "metadata": {},
   "outputs": [],
   "source": [
    "gss['fund'] = gss['fund'].replace([9], np.nan)"
   ]
  },
  {
   "cell_type": "markdown",
   "metadata": {},
   "source": [
    "The `attend` variable indicates how often a respondent attends religious services."
   ]
  },
  {
   "cell_type": "markdown",
   "metadata": {},
   "source": [
    "Code | Label\n",
    "--- | ---\n",
    "0 | Never\n",
    "1 | Lt once a year\n",
    "2 | Once a year\n",
    "3 | Sevrl times a yr\n",
    "4 | Once a month\n",
    "5 | 2-3x a month\n",
    "6 | Nrly every week\n",
    "7 | Every week\n",
    "8 | More thn once wk\n",
    "9 | Dk,na"
   ]
  },
  {
   "cell_type": "code",
   "execution_count": 76,
   "metadata": {},
   "outputs": [
    {
     "data": {
      "text/plain": [
       "7    12686\n",
       "0    11528\n",
       "2     8498\n",
       "3     8003\n",
       "5     5713\n",
       "8     4884\n",
       "1     4844\n",
       "4     4552\n",
       "6     3511\n",
       "9      595\n",
       "Name: attend, dtype: int64"
      ]
     },
     "execution_count": 76,
     "metadata": {},
     "output_type": "execute_result"
    }
   ],
   "source": [
    "gss['attend'].value_counts()"
   ]
  },
  {
   "cell_type": "code",
   "execution_count": 77,
   "metadata": {},
   "outputs": [],
   "source": [
    "gss['attend'] = gss['attend'].replace([9], np.nan)"
   ]
  },
  {
   "cell_type": "markdown",
   "metadata": {},
   "source": [
    "The `reliten` variable indicates the strength of religious affiliation."
   ]
  },
  {
   "cell_type": "markdown",
   "metadata": {},
   "source": [
    "Code | Label\n",
    "--- | ---\n",
    "1   | Strong\n",
    "2   | Not very strong\n",
    "3   | Somewhat strong\n",
    "4   | No religion\n",
    "8   | Don't know\n",
    "9   | No answer\n",
    "0   | Not applicable"
   ]
  },
  {
   "cell_type": "code",
   "execution_count": 78,
   "metadata": {},
   "outputs": [
    {
     "data": {
      "text/plain": [
       "2    23738\n",
       "1    22652\n",
       "4     7629\n",
       "3     5736\n",
       "0     3134\n",
       "9     1589\n",
       "8      336\n",
       "Name: reliten, dtype: int64"
      ]
     },
     "execution_count": 78,
     "metadata": {},
     "output_type": "execute_result"
    }
   ],
   "source": [
    "gss['reliten'].value_counts()"
   ]
  },
  {
   "cell_type": "code",
   "execution_count": 79,
   "metadata": {},
   "outputs": [],
   "source": [
    "gss['reliten'] = gss['reliten'].replace([9, 0], np.nan)"
   ]
  },
  {
   "cell_type": "markdown",
   "metadata": {},
   "source": [
    "The `realinc` variable indicates the income of the respondent, adjusted for 1986 values. No cleaning is needed for this variable."
   ]
  },
  {
   "cell_type": "markdown",
   "metadata": {},
   "source": [
    "The `natfare` variable indicates if the respondent thinks the government spends too much or too little on welfare."
   ]
  },
  {
   "cell_type": "markdown",
   "metadata": {},
   "source": [
    "Code | Label\n",
    "--- | ---\n",
    "1   | Too little\n",
    "2   | About right\n",
    "3   | Too much\n",
    "8   | Don't know\n",
    "9   | No answer\n",
    "0   | Not applicable"
   ]
  },
  {
   "cell_type": "code",
   "execution_count": 85,
   "metadata": {},
   "outputs": [
    {
     "data": {
      "text/plain": [
       "0    27662\n",
       "3    16980\n",
       "2    11144\n",
       "1     7376\n",
       "8     1525\n",
       "9      127\n",
       "Name: natfare, dtype: int64"
      ]
     },
     "execution_count": 85,
     "metadata": {},
     "output_type": "execute_result"
    }
   ],
   "source": [
    "gss['natfare'].value_counts()"
   ]
  },
  {
   "cell_type": "code",
   "execution_count": 86,
   "metadata": {},
   "outputs": [],
   "source": [
    "gss['natfare'] = gss['natfare'].replace([0, 9], np.nan)"
   ]
  },
  {
   "cell_type": "markdown",
   "metadata": {},
   "source": [
    "The `homosex` variable indicates if the respondent thinks that homosexual sex is or isn't wrong."
   ]
  },
  {
   "cell_type": "markdown",
   "metadata": {},
   "source": [
    "Code | Label\n",
    "--- | ---\n",
    "1   | Always wrong\n",
    "2   | Almst always wrg\n",
    "3   | Sometimes wrong\n",
    "4   | Not wrong at all\n",
    "5   | Other\n",
    "8   | Don't know\n",
    "9   | No answer\n",
    "0   | Not applicable"
   ]
  },
  {
   "cell_type": "code",
   "execution_count": 87,
   "metadata": {},
   "outputs": [
    {
     "data": {
      "text/plain": [
       "0    25042\n",
       "1    23469\n",
       "4     9880\n",
       "3     2554\n",
       "2     1756\n",
       "8     1743\n",
       "9      288\n",
       "5       82\n",
       "Name: homosex, dtype: int64"
      ]
     },
     "execution_count": 87,
     "metadata": {},
     "output_type": "execute_result"
    }
   ],
   "source": [
    "gss['homosex'].value_counts()"
   ]
  },
  {
   "cell_type": "code",
   "execution_count": 88,
   "metadata": {},
   "outputs": [],
   "source": [
    "gss['homosex'] = gss['homosex'].replace([0, 9], np.nan)"
   ]
  },
  {
   "cell_type": "markdown",
   "metadata": {},
   "source": [
    "The `hapmar` variable indicates how happy a respondent is in their marriage."
   ]
  },
  {
   "cell_type": "markdown",
   "metadata": {},
   "source": [
    "Code | Label\n",
    "--- | ---\n",
    "1   | Very happy\n",
    "2   | Pretty happy\n",
    "3   | Not too happy\n",
    "8   | Don't know\n",
    "9   | No answer\n",
    "0   | Not applicable"
   ]
  },
  {
   "cell_type": "code",
   "execution_count": 89,
   "metadata": {},
   "outputs": [
    {
     "data": {
      "text/plain": [
       "0    34043\n",
       "1    19335\n",
       "2    10303\n",
       "3      920\n",
       "9      162\n",
       "8       51\n",
       "Name: hapmar, dtype: int64"
      ]
     },
     "execution_count": 89,
     "metadata": {},
     "output_type": "execute_result"
    }
   ],
   "source": [
    "gss['hapmar'].value_counts()"
   ]
  },
  {
   "cell_type": "code",
   "execution_count": 91,
   "metadata": {},
   "outputs": [],
   "source": [
    "gss['hapmar'] = gss['hapmar'].replace([0, 9], np.nan)"
   ]
  },
  {
   "cell_type": "markdown",
   "metadata": {},
   "source": [
    "The `raclive` variable indicates if there are any people of the opposite race (white or black) living in the respondent's neighborhood."
   ]
  },
  {
   "cell_type": "markdown",
   "metadata": {},
   "source": [
    "Code | Label\n",
    "--- | ---\n",
    "1   | Yes\n",
    "2   | No\n",
    "8   | Don't know\n",
    "9   | No answer\n",
    "0   | Not applicable"
   ]
  },
  {
   "cell_type": "code",
   "execution_count": 92,
   "metadata": {},
   "outputs": [
    {
     "data": {
      "text/plain": [
       "1    34000\n",
       "2    22567\n",
       "0     5470\n",
       "8     2509\n",
       "9      268\n",
       "Name: raclive, dtype: int64"
      ]
     },
     "execution_count": 92,
     "metadata": {},
     "output_type": "execute_result"
    }
   ],
   "source": [
    "gss['raclive'].value_counts()"
   ]
  },
  {
   "cell_type": "code",
   "execution_count": 93,
   "metadata": {},
   "outputs": [],
   "source": [
    "gss['raclive'] = gss['raclive'].replace([0, 9], np.nan)"
   ]
  },
  {
   "cell_type": "markdown",
   "metadata": {},
   "source": [
    "The `fund16` variable indicates the fundamentalism/liberalism in the region the respondent was raised in."
   ]
  },
  {
   "cell_type": "markdown",
   "metadata": {},
   "source": [
    "Code | Label\n",
    "--- | ---\n",
    "1   | Fundamentalist\n",
    "2   | Moderate\n",
    "3   | Liberal\n",
    "9   | Na-excluded\n",
    "0   | Not applicable"
   ]
  },
  {
   "cell_type": "code",
   "execution_count": 94,
   "metadata": {},
   "outputs": [
    {
     "data": {
      "text/plain": [
       "2    27132\n",
       "1    19472\n",
       "3    13158\n",
       "0     3131\n",
       "9     1921\n",
       "Name: fund16, dtype: int64"
      ]
     },
     "execution_count": 94,
     "metadata": {},
     "output_type": "execute_result"
    }
   ],
   "source": [
    "gss['fund16'].value_counts()"
   ]
  },
  {
   "cell_type": "code",
   "execution_count": 95,
   "metadata": {},
   "outputs": [],
   "source": [
    "gss['fund16'] = gss['fund16'].replace([0, 9], np.nan)"
   ]
  },
  {
   "cell_type": "markdown",
   "metadata": {},
   "source": [
    "The `oth16` variable indicates the denomination the respondent was raised in."
   ]
  },
  {
   "cell_type": "markdown",
   "metadata": {},
   "source": [
    "Code | Label\n",
    "--- | ---\n",
    "2\t| Evangelical Congregational\n",
    "3\t| Ind Bible, Bible, Bible Fellowship\n",
    "5\t| Church of Prophecy\n",
    "6\t| New Testament Christian\n",
    "7\t| Church of God, Saint & Christ\n",
    "8\t| Moravian\n",
    "9\t| Christian & Missionary Alliance\n",
    "10\t| Advent Christian\n",
    "11\t| Spiritualist\n",
    "12\t| Assembly of God\n",
    "13\t| Free Methodist\n",
    "14\t| Apostolic Faith\n",
    "15\t| African Methodist\n",
    "16\t| Free Will Baptist\n",
    "17\t| Eden Evangelist\n",
    "18\t| Holiness (Nazarene)\n",
    "19\t| Baptist (Northern)\n",
    "20\t| Brethren Church, Brethren\n",
    "21\t| Witness Holiness\n",
    "22\t| Brethren, Plymouth\n",
    "23\t| United Brethren, United Brethren in Christ\n",
    "24\t| Independent\n",
    "25\t| Christian Disciples\n",
    "26\t| Christ in Christian Union\n",
    "27\t| Open Bible\n",
    "28\t| Christian Catholic\n",
    "29\t| Christ Church Unity\n",
    "30\t| Christ Adelphians\n",
    "31\t| Christian; Central Christian\n",
    "32\t| Christian Reform\n",
    "33\t| Christian Scientist\n",
    "34\t| Church of Christ, Evangelical\n",
    "35\t| Church of Christ\n",
    "36\t| Churches of God(Except with Christ and Holiness)\n",
    "37\t| Church of God in Christ\n",
    "38\t| Church of God in Christ Holiness\n",
    "39\t| Church of the Living God\n",
    "40\t| Congregationalist, 1st Congreg\n",
    "41\t| Community Church\n",
    "42\t| Covenant\n",
    "43\t| Dutch Reform\n",
    "44\t| Disciples of Christ\n",
    "45\t| Evangelical, Evangelist\n",
    "46\t| Evangelical Reformed\n",
    "47\t| Evangelist Free Church\n",
    "48\t| First Church\n",
    "49\t| First Christian Disciples of Christ\n",
    "50\t| First Reformed\n",
    "51\t| First Christian\n",
    "52\t| Full Gospel\n",
    "53\t| Four Square Gospel\n",
    "54\t| Friends\n",
    "55\t| Holy Roller\n",
    "56\t| Holiness; Church of Holiness\n",
    "57\t| Pilgrim Holiness\n",
    "58\t| Jehovah's Witnesses\n",
    "61\t| LDS--Reorganized\n",
    "63\t| Mennonite\n",
    "64\t| Mormon\n",
    "65\t| Nazarene\n",
    "66\t| Pentecostal Assembly of God\n",
    "67\t| Pentecostal Church of God\n",
    "68\t| Pentecostal\n",
    "69\t| Pentecostal Holiness, Holiness Pentecostal\n",
    "70\t| Quaker\n",
    "71\t| Reformed\n",
    "72\t| Reformed United Church of Christ\n",
    "73\t| Reformed Church of Christ\n",
    "74\t| Religious Science\n",
    "75\t| Mind Science\n",
    "76\t| Salvation Army\n",
    "77\t| 7th Day Adventist\n",
    "78\t| Sanctified, Sanctification\n",
    "79\t| United Holiness\n",
    "80\t| Unitarian, Universalist\n",
    "81\t| United Church of Christ\n",
    "82\t| United Church, Unity Church\n",
    "83\t| Wesleyan\n",
    "84\t| Wesleyan Methodist--Pilgrim\n",
    "85\t| Zion Union\n",
    "86\t| Zion Union Apostolic\n",
    "87\t| Zion Union Apostolic--Reformed\n",
    "88\t| Disciples of God\n",
    "89\t| Grace Reformed\n",
    "90\t| Holiness Church of God\n",
    "91\t| Evangelical Covenant\n",
    "92\t| Mission Covenant\n",
    "93\t| Missionary Baptist\n",
    "94\t| Swedish Mission\n",
    "95\t| Unity\n",
    "96\t| United Church of Christianity\n",
    "97\t| Other Fundamentalist\n",
    "98\t| Federated Church\n",
    "99\t| American Reform\n",
    "100\t| Grace Brethren\n",
    "102\t| Charismatic\n",
    "103\t| Pentecostal Apostolic\n",
    "104\t| House of Prayer\n",
    "105\t| Latvian Lutheran\n",
    "107\t| Apostolic Christian\n",
    "108\t| Christ Cathedral of Truth\n",
    "109\t| Bible Missionary\n",
    "110\t| Calvary Bible\n",
    "111\t| Amish\n",
    "112\t| Evangelical Methodist\n",
    "113\t| Worldwide Church of God\n",
    "114\t| Church Universal and Triumphant\n",
    "115\t| Mennonite Brethren\n",
    "116\t| Church of the First Born\n",
    "117\t| Missionary Church\n",
    "118\t| The Way Ministry\n",
    "119\t| United Church of Canada\n",
    "120\t| Evangelical United Brethren\n",
    "121\t| The Church of God of Prophecy\n",
    "122\t| Chapel of Faith\n",
    "123\t| Polish National Church\n",
    "124\t| Faith Gospel Tabernacle\n",
    "125\t| Christian Calvary Chapel\n",
    "127\t| Church of Daniel's Band\n",
    "128\t| Christian Tabernacle\n",
    "129\t| Living Word\n",
    "130\t| True Light Church of Christ\n",
    "132\t| Brother of Christ\n",
    "133\t| Primitive Baptist\n",
    "134\t| Independent Fundamental Church of America\n",
    "135\t| Chinese Gospel Church\n",
    "136\t| New Age Spirituality\n",
    "137\t| New Song\n",
    "138\t| Apostolic Church\n",
    "141\t| New Birth Christian\n",
    "143\t| Assyrian Evangelist Church\n",
    "144\t| Spirit of Christ\n",
    "145\t| Church of Jesus Christ of the Restoration\n",
    "146\t| Laotian Christian\n",
    "150\t| Zwinglian\n",
    "151\t| World Overcomer Outreach Ministry\n",
    "152\t| Course in Miracles\n",
    "153\t| Unity of the Brethren\n",
    "154\t| Spirit Filled\n",
    "155\t| Christian Union\n",
    "157\t| Community of Christ\n",
    "158\t| New Hope Christian Fellowship\n",
    "159\t| Community Christian Fellowship\n",
    "166\t| United Christian\n",
    "167\t| Sanctuary\n",
    "168\t| Rain on Us Deliverance Ministries\n",
    "169\t| The Word Church\n",
    "170\t| Cornerstone Church\n",
    "171\t| Life Sanctuary\n",
    "172\t| Word of Faith Church\n",
    "173\t| Harvest Church\n",
    "174\t| Shephard's Chapel\n",
    "175\t| Greater New Testament Church\n",
    "176\t| Vineyard Church\n",
    "177\t| Real Life Ministries\n",
    "178\t| Cathedral of Joy\n",
    "179\t| Great Faith Ministries\n",
    "180\t| Shield of Faith Ministries\n",
    "181\t| Born Again\n",
    "182\t| Alliance\n",
    "185\t| Journeys\n",
    "186\t| National Progressive Baptist\n",
    "187\t| New Apostolic\n",
    "188\t| Metropolitan Community\n",
    "191\t| Faith Covenant\n",
    "196\t| Empowerment Temple\n",
    "197\t| Grace Independent Baptist Church\n",
    "198\t| New Life\n",
    "201\t| Pathways Christian Church\n",
    "205\t| Assembly of Christ\n",
    "206\t| The Amana Church\n",
    "207\t| The Legacy Church\n",
    "208\t| Calvary\n",
    "210\t| Ethiopian Evangelical Church\n",
    "211\t| Disciple of Jesus\n",
    "212\t| Scandinavian Church\n",
    "213\t| Hebrew Roots\n",
    "214\t| Hebrew Israelites\n",
    "215\t| Armenian Apostolic Church\n",
    "998\t| Don't know\n",
    "999\t| No answer\n",
    "0\t| Not applicable"
   ]
  },
  {
   "cell_type": "code",
   "execution_count": 96,
   "metadata": {},
   "outputs": [],
   "source": [
    "gss['oth16'] = gss['oth16'].replace([999, 0], np.nan)"
   ]
  },
  {
   "cell_type": "markdown",
   "metadata": {},
   "source": [
    "The `denom16` variable indicates the denomination the respondent was raised in."
   ]
  },
  {
   "cell_type": "markdown",
   "metadata": {},
   "source": [
    "Code | Label\n",
    "--- | ---\n",
    "10 | Am baptist asso\n",
    "11 | Am bapt ch in usa\n",
    "12 | Nat bapt conv of am\n",
    "13 | Nat bapt con usa\n",
    "14 | Southern baptist\n",
    "15| Other baptists\n",
    "18 | Baptist-dk which\n",
    "20 | Afr meth episcopal\n",
    "22 | United methodist\n",
    "23 | Other methodist\n",
    "28 | Methodist-dk which\n",
    "30 | Am lutheran\n",
    "31 | Luth ch in america\n",
    "32 | Lutheran-mo synod\n",
    "33 | Wi evan luth synod\n",
    "34 | Other lutheran\n",
    "35 | Evangelical luth\n",
    "38 | Lutheran-dk which\n",
    "40 | Presbyterian c in us\n",
    "41 | United pres ch in us\n",
    "42 | Other presbyterian\n",
    "43 | Presbyterian, merged\n",
    "48 | Presbyterian-dk which\n",
    "50 | Episcopal\n",
    "60 | Other\n",
    "70 | No denomination\n",
    "98 | Don't know\n",
    "99 | No answer\n",
    "0 | Not applicable"
   ]
  },
  {
   "cell_type": "code",
   "execution_count": 97,
   "metadata": {},
   "outputs": [],
   "source": [
    "gss['denom16'] = gss['denom16'].replace([99, 0], np.nan)"
   ]
  },
  {
   "cell_type": "markdown",
   "metadata": {},
   "source": [
    "The `relig16` variable indicates the religion the respondent was raised in."
   ]
  },
  {
   "cell_type": "markdown",
   "metadata": {},
   "source": [
    "Code | Label\n",
    "--- | ---\n",
    "1 | Protestant\n",
    "2 | Catholic\n",
    "3 | Jewish\n",
    "4 | None\n",
    "5 | Other\n",
    "6 | Buddhism\n",
    "7 | Hinduism\n",
    "8 | Other eastern\n",
    "9 | Moslem/Islam\n",
    "10 | Orthodox Christian\n",
    "11 | Christian\n",
    "12 | Native American\n",
    "13 | Inter-nondenominational\n",
    "98 | Don't know\n",
    "99 | No answer\n"
   ]
  },
  {
   "cell_type": "code",
   "execution_count": 98,
   "metadata": {},
   "outputs": [
    {
     "data": {
      "text/plain": [
       "1     37042\n",
       "2     17974\n",
       "4      3421\n",
       "0      3131\n",
       "3      1266\n",
       "5       648\n",
       "11      417\n",
       "99      249\n",
       "9       161\n",
       "10      138\n",
       "6       128\n",
       "7       114\n",
       "98       58\n",
       "13       31\n",
       "12       24\n",
       "8        12\n",
       "Name: relig16, dtype: int64"
      ]
     },
     "execution_count": 98,
     "metadata": {},
     "output_type": "execute_result"
    }
   ],
   "source": [
    "gss['relig16'].value_counts()"
   ]
  },
  {
   "cell_type": "code",
   "execution_count": 99,
   "metadata": {},
   "outputs": [],
   "source": [
    "gss['relig16'] = gss['relig16'].replace([99], np.nan)"
   ]
  }
 ],
 "metadata": {
  "kernelspec": {
   "display_name": "Python 2",
   "language": "python",
   "name": "python2"
  },
  "language_info": {
   "codemirror_mode": {
    "name": "ipython",
    "version": 2
   },
   "file_extension": ".py",
   "mimetype": "text/x-python",
   "name": "python",
   "nbconvert_exporter": "python",
   "pygments_lexer": "ipython2",
   "version": "2.7.15rc1"
  }
 },
 "nbformat": 4,
 "nbformat_minor": 2
}
